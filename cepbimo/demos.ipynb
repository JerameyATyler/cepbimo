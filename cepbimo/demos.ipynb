{
 "cells": [
  {
   "cell_type": "markdown",
   "metadata": {},
   "source": [
    "***\n",
    "*Attention! Please wear a set of headphones for the optimal experience.*\n",
    "***"
   ]
  },
  {
   "cell_type": "markdown",
   "metadata": {},
   "source": [
    "# Demos"
   ]
  },
  {
   "cell_type": "markdown",
   "metadata": {},
   "source": [
    "This notebook hosts a collection of small interactive demonstrations, as these demos deal with binaural audio headphones are strongly suggested."
   ]
  },
  {
   "cell_type": "markdown",
   "metadata": {},
   "source": [
    "## `The precedence effect`"
   ]
  },
  {
   "cell_type": "markdown",
   "metadata": {},
   "source": [
    "In the study of psychoacoustics `the precedence effect`, sometimes referred to as the `law of first wavefront`, refers to the psychoacoustical phenomena in which two distinct sounds seperated by a sufficiently small time delay will be perceived by a listener as a single sound. This phenomena is experienced through the interaction of two variables, the `interaural time difference (ITD)` and the `interaural level difference (ILD)`. The `precedence effect` and by extension `ITD`s and `ILD`s influence a person's `sound source localization` ability. Due to the `precedence effect` sounds seperated by a small gap are perceived not just as occuring at the time but also the same location. "
   ]
  },
  {
   "cell_type": "markdown",
   "metadata": {},
   "source": [
    "### `Interaural time difference (ITD)`"
   ]
  },
  {
   "cell_type": "markdown",
   "metadata": {},
   "source": [
    "The difference in time from when a sound is perceived in one ear compared to the other is called the `ITD`. As touched on above, when two sounds are seperated by a small gap they will be perceived as occuring at the same time and place. When the gap between the two sounds increases beyond the listener's `echo threshold` the two sounds will be perceived as occuring seperately in both time and space. Though many factors influence the `precedence effect` in many cases the it can be experienced when the time delay is between 2 - 50 ms [[Blauert, 97]](blauert-97)."
   ]
  },
  {
   "cell_type": "code",
   "execution_count": 1,
   "metadata": {},
   "outputs": [],
   "source": [
    "# Precedence effect demo, interaural time difference -time"
   ]
  },
  {
   "cell_type": "markdown",
   "metadata": {},
   "source": [
    "### `Interaural level difference (ILD)`"
   ]
  },
  {
   "cell_type": "code",
   "execution_count": null,
   "metadata": {},
   "outputs": [],
   "source": [
    "# Precedence effect demo, interaural level difference -time"
   ]
  },
  {
   "cell_type": "markdown",
   "metadata": {},
   "source": [
    "## `Head-related transfer function (HRTF)`"
   ]
  },
  {
   "cell_type": "markdown",
   "metadata": {},
   "source": [
    "Hearing is the ability to perceive changes in the air pressure that surrounds us. As such a silent room produces a sound. More than that, the sound that a silent room makes is dependent on the position of the listener's head. In psychoacoustics an HRTF is a function that describes the horizontal rotation or `azimuth` and the vertical rotation or `zenith` of a listener's head from one position to another. "
   ]
  },
  {
   "cell_type": "code",
   "execution_count": 4,
   "metadata": {},
   "outputs": [],
   "source": [
    "# HRTF demo, click and real-time rotate"
   ]
  },
  {
   "cell_type": "markdown",
   "metadata": {},
   "source": [
    "# References"
   ]
  },
  {
   "cell_type": "markdown",
   "metadata": {},
   "source": [
    "* Blauert, J. (1997). Spatial hearing: the psychophysics of human sound localization. MIT press. <a name='Blauert-97'></a>"
   ]
  },
  {
   "cell_type": "markdown",
   "metadata": {},
   "source": [
    "* Litovsky, R. Y., Colburn, H. S., Yost, W. A., & Guzman, S. J. (1999). The precedence effect. The Journal of the Acoustical Society of America, 106(4), 1633-1654. <a name='litovsky-yost-99'><a/> [pdf link](https://www.cogsci.msu.edu/DSS/2019-2020/Hartmann/Litovsky_et_al_1999.pdf)"
   ]
  }
 ],
 "metadata": {
  "kernelspec": {
   "display_name": "Python 3 (ipykernel)",
   "language": "python",
   "name": "python3"
  },
  "language_info": {
   "codemirror_mode": {
    "name": "ipython",
    "version": 3
   },
   "file_extension": ".py",
   "mimetype": "text/x-python",
   "name": "python",
   "nbconvert_exporter": "python",
   "pygments_lexer": "ipython3",
   "version": "3.10.0"
  },
  "widgets": {
   "application/vnd.jupyter.widget-state+json": {
    "state": {},
    "version_major": 2,
    "version_minor": 0
   }
  }
 },
 "nbformat": 4,
 "nbformat_minor": 4
}

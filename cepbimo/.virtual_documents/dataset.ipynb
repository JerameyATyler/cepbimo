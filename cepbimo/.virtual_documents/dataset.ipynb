# @title Mounting Google Drive
# @markdown We need to mount a Google Drive in order to download the code we need.
# @markdown > Import `drive` from `google.colab`
from google.colab import drive
# @markdown > Mount Google Drive
drive.mount('/content/gdrive')


# @markdown > Create a directory for the code.
% mkdir "gdrive/MyDrive/Colab Notebooks/cepbimo"


# @markdown > Change directories to the new one
% cd "gdrive/MyDrive/Colab Notebooks/cepbimo"


# @title Cloning Git Repository
# @markdown Next we need to clone the Git repository
# @markdown > Clone the repository
! git clone https://github.com/JerameyATyler/cepbimo.git


# @markdown > Change directory to the repository
% cd cepbimo


# @title Anechoic Data
# @markdown Anechoic data recorded by [(Pätynen and Lokki, 2008)](#patynen-lokki-08)
# @markdown > Links to anechoic recordings
file_links = [
    'https://mediatech.aalto.fi/images/research/virtualacoustics/recordings/beethoven_mp3.zip',
    'https://mediatech.aalto.fi/images/research/virtualacoustics/recordings/mozart_mp3.zip',
    'https://mediatech.aalto.fi/images/research/virtualacoustics/recordings/bruckner_mp3.zip',
    'https://mediatech.aalto.fi/images/research/virtualacoustics/recordings/mahler_mp3.zip']
# @markdown > Download files if they don't exist
for l in file_links:
    get_ipython().getoutput("wget -nc {l}")


# @title HRTF Data
# @markdown HRTF data recorded by [(Gardner & Martin, 1994)](#gardner-martin-94)
get_ipython().getoutput("wget -nc https: // sound.media.mit.edu / resources / KEMAR / full.zip")


# @title Extracting Data
# @markdown Extract zipped data to `data/` directory.
# @markdown > List of files to unzip
zip_files = [
    ['beethoven_mp3.zip', 'data/anechoic/beethoven'],
    ['mozart_mp3.zip', 'data/anechoic/mozart'],
    ['bruckner_mp3.zip', 'data/anechoic/bruckner'],
    ['mahler_mp3.zip', 'data/anechoic/mahler'],
    ['full.zip', 'data/hrtfs']]
# > Unzip each archive to `data/anechoic` directory
for z in zip_files:
    get_ipython().getoutput("unzip -o {z[0]} -d {z[1]}")


from ipywidgets import widgets
from data_picker import DataPicker

dp = DataPicker()
dp.ui()

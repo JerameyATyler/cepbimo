# @title Anechoic Data
# @markdown Anechoic data recorded by [(Pätynen and Lokki, 2008)](#patynen-lokki-08)
# @markdown > Links to anechoic recordings
file_links = [
    'https://mediatech.aalto.fi/images/research/virtualacoustics/recordings/beethoven_mp3.zip',
    'https://mediatech.aalto.fi/images/research/virtualacoustics/recordings/mozart_mp3.zip',
    'https://mediatech.aalto.fi/images/research/virtualacoustics/recordings/bruckner_mp3.zip',
    'https://mediatech.aalto.fi/images/research/virtualacoustics/recordings/mahler_mp3.zip']
# @markdown > Download files if they don't exist
for l in file_links:
    get_ipython().getoutput("wget -nc {l}")


# @title HRTF Data
# @markdown HRTF data recorded by [(Gardner & Martin, 1994)](#gardner-martin-94)
get_ipython().getoutput("wget -nc https: // sound.media.mit.edu / resources / KEMAR / full.zip")


# @title Extracting Data
# @markdown Extract zipped data to `data/` directory.
# @markdown > List of files to unzip
zip_files = [
    ['beethoven_mp3.zip', 'data/anechoic/beethoven'],
    ['mozart_mp3.zip', 'data/anechoic/mozart'],
    ['bruckner_mp3.zip', 'data/anechoic/bruckner'],
    ['mahler_mp3.zip', 'data/anechoic/mahler'],
    ['full.zip', 'data/hrtfs']]
# > Unzip each archive to `data/anechoic` directory
for z in zip_files:
    get_ipython().getoutput("unzip -o {z[0]} -d {z[1]}")


from ipywidgets import widgets
from data_picker import DataPicker

dp = DataPicker()
dp.ui()

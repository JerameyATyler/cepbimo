{
 "cells": [
  {
   "cell_type": "markdown",
   "id": "85530975-e0e9-4cb1-87a5-a1ffcc4f4de9",
   "metadata": {
    "tags": []
   },
   "source": [
    "# Predicting reflection patterns from binaural activity maps using deep neural networks"
   ]
  },
  {
   "cell_type": "markdown",
   "id": "4e6fa3c6-607b-40d9-a277-b3358b4f7886",
   "metadata": {
    "jp-MarkdownHeadingCollapsed": true,
    "tags": []
   },
   "source": [
    "## Abstract"
   ]
  },
  {
   "cell_type": "markdown",
   "id": "04d028f5-eaa4-47f3-a753-a77566defdc0",
   "metadata": {},
   "source": [
    "A new model architecture is presented to predict room acoustical parameters from a\n",
    "running binaural signal. For this purpose, a deep neural network architecture is combined with a precedence\n",
    "effect model to extract the spatial and temporal locations of the direct signal and early reflections. The\n",
    "precedence effect model builds on the modified BICAM algorithm [(Braasch, 2016)](#braasch16),\n",
    "for which the 1st layer auto-/cross correlation functions are replaced with a Cepstrum method. The latter allows\n",
    "a better separation of features relating to the source signal's early reflections and harmonic structure. The\n",
    "precedence effect model is used to create binaural activity maps that are analyzed by the neural network for\n",
    "pattern recognition. Anechoic orchestral recordings were reverberated by adding four early reflections and late\n",
    "reverberation to test the model. Head-related transfer functions were used to spatialize direct sound and early\n",
    "reflections. The model can identify the main reflection characteristics of a room, offering applications in\n",
    "numerous fields, including room acoustical assessment, acoustical analysis for virtual-reality applications, and\n",
    "modeling of human perception."
   ]
  },
  {
   "cell_type": "markdown",
   "id": "d22e97eb-32b1-41b1-a6d1-eb2662a30ac5",
   "metadata": {
    "tags": []
   },
   "source": [
    "## Data"
   ]
  }
 ],
 "metadata": {
  "kernelspec": {
   "display_name": "Python 3 (ipykernel)",
   "language": "python",
   "name": "python3"
  },
  "language_info": {
   "codemirror_mode": {
    "name": "ipython",
    "version": 3
   },
   "file_extension": ".py",
   "mimetype": "text/x-python",
   "name": "python",
   "nbconvert_exporter": "python",
   "pygments_lexer": "ipython3",
   "version": "3.10.1"
  },
  "widgets": {
   "application/vnd.jupyter.widget-state+json": {
    "state": {},
    "version_major": 2,
    "version_minor": 0
   }
  }
 },
 "nbformat": 4,
 "nbformat_minor": 5
}

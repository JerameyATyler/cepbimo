{
 "cells": [
  {
   "cell_type": "markdown",
   "id": "85530975-e0e9-4cb1-87a5-a1ffcc4f4de9",
   "metadata": {
    "tags": []
   },
   "source": [
    "# Predicting reflection patterns from binaural activity maps using deep neural networks"
   ]
  },
  {
   "cell_type": "markdown",
   "id": "4e6fa3c6-607b-40d9-a277-b3358b4f7886",
   "metadata": {
    "tags": []
   },
   "source": [
    "## Abstract"
   ]
  },
  {
   "cell_type": "markdown",
   "id": "04d028f5-eaa4-47f3-a753-a77566defdc0",
   "metadata": {},
   "source": [
    "A new model architecture is presented to predict room acoustical parameters from a\n",
    "running binaural signal. For this purpose, a deep neural network architecture is combined with a precedence\n",
    "effect model to extract the spatial and temporal locations of the direct signal and early reflections. The\n",
    "precedence effect model builds on the modified BICAM algorithm [(Braasch, 2016)](#braasch16),\n",
    "for which the 1st layer auto-/cross correlation functions are replaced with a Cepstrum method. The latter allows\n",
    "a better separation of features relating to the source signal's early reflections and harmonic structure. The\n",
    "precedence effect model is used to create binaural activity maps that are analyzed by the neural network for\n",
    "pattern recognition. Anechoic orchestral recordings were reverberated by adding four early reflections and late\n",
    "reverberation to test the model. Head-related transfer functions were used to spatialize direct sound and early\n",
    "reflections. The model can identify the main reflection characteristics of a room, offering applications in\n",
    "numerous fields, including room acoustical assessment, acoustical analysis for virtual-reality applications, and\n",
    "modeling of human perception."
   ]
  },
  {
   "cell_type": "markdown",
   "id": "b7458586-9b78-443c-8905-90175b089d8a",
   "metadata": {
    "tags": []
   },
   "source": [
    "## Preamble"
   ]
  },
  {
   "cell_type": "markdown",
   "id": "8fd493e7-bd26-4ab9-a183-1624b1190aba",
   "metadata": {
    "tags": []
   },
   "source": [
    "### Google Colab"
   ]
  },
  {
   "cell_type": "markdown",
   "id": "9c93c621-0761-4c6e-ba6c-53d1f8234f80",
   "metadata": {},
   "source": [
    "#### Mounting Google Drive"
   ]
  },
  {
   "cell_type": "markdown",
   "id": "04364b2f-bdba-4ae6-94f1-569d5578a6da",
   "metadata": {},
   "source": [
    "We need to clone the Github repository. In order to do that we first need to mount Google Drive"
   ]
  },
  {
   "cell_type": "code",
   "execution_count": null,
   "id": "3115aa9f-63d7-4600-bc81-b297d253394c",
   "metadata": {},
   "outputs": [],
   "source": [
    "# @title Mounting Google Drive\n",
    "# @markdown We need to mount a Google Drive in order to download the code we need.\n",
    "# @markdown > Import `drive` from `google.colab`\n",
    "from google.colab import drive\n",
    "# @markdown > Mount Google Drive\n",
    "drive.mount('/content/gdrive')"
   ]
  },
  {
   "cell_type": "markdown",
   "id": "a4cd0807-d49c-43b1-9294-92618fbe920f",
   "metadata": {},
   "source": [
    "We need to make a directory for the repository if we don't already have one."
   ]
  },
  {
   "cell_type": "code",
   "execution_count": null,
   "id": "d30e71b6-c712-44b8-9108-b7c24b4264c1",
   "metadata": {},
   "outputs": [],
   "source": [
    "# @markdown > Create a directory for the code.\n",
    "% mkdir \"gdrive/MyDrive/Colab Notebooks/cepbimo\""
   ]
  },
  {
   "cell_type": "markdown",
   "id": "23598cd4-d40a-42f2-bd98-634d26ab8dc3",
   "metadata": {},
   "source": [
    "Next we will change directories to the one we just created."
   ]
  },
  {
   "cell_type": "code",
   "execution_count": null,
   "id": "d5ebf812-1b0e-4740-a242-483ec9e8f567",
   "metadata": {},
   "outputs": [],
   "source": [
    "# @markdown > Change directories to the new one\n",
    "% cd \"gdrive/MyDrive/Colab Notebooks/cepbimo\""
   ]
  },
  {
   "cell_type": "markdown",
   "id": "426fc4c7-ffec-46cd-becf-908648e167d7",
   "metadata": {},
   "source": [
    "#### Cloning Git Repository"
   ]
  },
  {
   "cell_type": "markdown",
   "id": "bf950b38-cbca-4810-9196-53b72a79aeb0",
   "metadata": {},
   "source": [
    "Now we can clone the repository to the directory."
   ]
  },
  {
   "cell_type": "code",
   "execution_count": null,
   "id": "914750b6-772d-4919-922e-ba9b18b89aa4",
   "metadata": {},
   "outputs": [],
   "source": [
    "# @title Cloning Git Repository\n",
    "# @markdown Next we need to clone the Git repository\n",
    "# @markdown > Clone the repository\n",
    "! git clone https://github.com/JerameyATyler/cepbimo.git"
   ]
  },
  {
   "cell_type": "markdown",
   "id": "1f6d0f18-8c72-4821-96e9-af4d1f539111",
   "metadata": {},
   "source": [
    "And lastly we should change directories to the repository."
   ]
  },
  {
   "cell_type": "code",
   "execution_count": null,
   "id": "8cf0a7dd-83b5-4734-b98c-76a31bb2ffec",
   "metadata": {},
   "outputs": [],
   "source": [
    "# @markdown > Change directory to the repository\n",
    "% cd cepbimo"
   ]
  },
  {
   "cell_type": "markdown",
   "id": "f3677e37-8d27-4468-aa99-b338cf2f13a0",
   "metadata": {},
   "source": [
    "### Install Packages"
   ]
  },
  {
   "cell_type": "markdown",
   "id": "71187ab8-2f9e-4cbd-bb0f-649bb861ba9e",
   "metadata": {},
   "source": [
    "Google Colab does not include all of the packages that we need. "
   ]
  },
  {
   "cell_type": "code",
   "execution_count": null,
   "id": "bd70345c-416a-4ea2-8b45-299882f0bbd8",
   "metadata": {},
   "outputs": [],
   "source": [
    "# @title Install Packages\n",
    "# @markdown We need to install the missing packages\n",
    "# @markdown > Install `torchaudio`\n",
    "! pip install torchaudio\n",
    "\n",
    "def check_packages():\n",
    "    import torchaudio\n",
    "    \n",
    "    print(torchaudio.__version__)\n",
    "\n",
    "check_packages()"
   ]
  }
 ],
 "metadata": {
  "kernelspec": {
   "display_name": "Python 3 (ipykernel)",
   "language": "python",
   "name": "python3"
  },
  "language_info": {
   "codemirror_mode": {
    "name": "ipython",
    "version": 3
   },
   "file_extension": ".py",
   "mimetype": "text/x-python",
   "name": "python",
   "nbconvert_exporter": "python",
   "pygments_lexer": "ipython3",
   "version": "3.10.1"
  }
 },
 "nbformat": 4,
 "nbformat_minor": 5
}

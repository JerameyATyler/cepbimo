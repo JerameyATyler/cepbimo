{
 "cells": [
  {
   "cell_type": "code",
   "execution_count": 1,
   "metadata": {},
   "outputs": [],
   "source": [
    "from datasets.Reflections import Count\n",
    "from notebooks.notebooks import get_ttv_paths\n",
    "import torch\n",
    "from transforms.transforms import autocorrelation"
   ]
  },
  {
   "cell_type": "code",
   "execution_count": 2,
   "metadata": {},
   "outputs": [],
   "source": [
    "train_path, test_path, validate_path = get_ttv_paths()\n",
    "\n",
    "train_dataset = Count(train_path, 'train', download=False, transform=autocorrelation)\n",
    "test_dataset = Count(test_path, 'test', download=False, transform=autocorrelation)\n",
    "validate_dataset = Count(validate_path, 'validate', download=False, transform=autocorrelation)"
   ]
  },
  {
   "cell_type": "code",
   "execution_count": 3,
   "metadata": {
    "tags": []
   },
   "outputs": [
    {
     "name": "stdout",
     "output_type": "stream",
     "text": [
      "(array([[-0.11828613, -0.11828613],\n",
      "       [-0.38079834, -0.38079834],\n",
      "       [-0.38858032, -0.38858032],\n",
      "       [ 0.9373779 ,  0.9373779 ],\n",
      "       [-0.5359192 , -0.5359192 ],\n",
      "       [-0.23815918, -0.23815918],\n",
      "       [-0.70635986, -0.70635986],\n",
      "       [ 0.1274414 ,  0.1274414 ],\n",
      "       [-0.9844971 , -0.9844971 ],\n",
      "       [-0.37756348, -0.37756348],\n",
      "       [-0.2930298 , -0.2930298 ],\n",
      "       [ 0.00262451,  0.00262451],\n",
      "       [-0.2899475 , -0.2899475 ],\n",
      "       [ 0.6123352 ,  0.6123352 ],\n",
      "       [ 0.01867676,  0.01867676],\n",
      "       [-0.84628296, -0.84628296],\n",
      "       [-0.29330444, -0.29330444],\n",
      "       [ 0.02008057,  0.02008057],\n",
      "       [-0.9746704 , -0.9746704 ],\n",
      "       [-0.32226562, -0.32226562],\n",
      "       [ 0.15539551,  0.15539551],\n",
      "       [-0.64767456, -0.64767456],\n",
      "       [ 0.9319458 ,  0.9319458 ],\n",
      "       [ 0.4401245 ,  0.4401245 ],\n",
      "       [ 0.1973877 ,  0.1973877 ],\n",
      "       [-0.2602539 , -0.2602539 ],\n",
      "       [-0.1003418 , -0.1003418 ],\n",
      "       [-0.44796753, -0.44796753],\n",
      "       [ 0.6759033 ,  0.6759033 ],\n",
      "       [-0.4992981 , -0.4992981 ],\n",
      "       [ 0.18130493,  0.18130493],\n",
      "       [-0.60058594, -0.60058594],\n",
      "       [-0.5220947 , -0.5220947 ],\n",
      "       [-0.4915161 , -0.4915161 ],\n",
      "       [-0.3881836 , -0.3881836 ],\n",
      "       [ 0.63964844,  0.63964844],\n",
      "       [-0.55859375, -0.55859375],\n",
      "       [ 0.02294922,  0.02294922],\n",
      "       [ 0.24414062,  0.24414062],\n",
      "       [-0.84155273, -0.84155273],\n",
      "       [-0.7467041 , -0.7467041 ],\n",
      "       [ 0.85827637,  0.85827637],\n",
      "       [-0.17114258, -0.17114258],\n",
      "       [-0.2828369 , -0.2828369 ],\n",
      "       [ 0.47314453,  0.47314453],\n",
      "       [ 0.9086914 ,  0.9086914 ],\n",
      "       [-0.74316406, -0.74316406],\n",
      "       [-0.9445801 , -0.9445801 ],\n",
      "       [ 0.7890625 ,  0.7890625 ],\n",
      "       [-0.1821289 , -0.1821289 ],\n",
      "       [-0.14257812, -0.14257812],\n",
      "       [-0.9013672 , -0.9013672 ],\n",
      "       [-0.73168945, -0.73168945],\n",
      "       [ 0.08691406,  0.08691406],\n",
      "       [-0.85046387, -0.85046387],\n",
      "       [-0.28979492, -0.28979492],\n",
      "       [ 0.52734375,  0.52734375],\n",
      "       [ 0.7258301 ,  0.7258301 ],\n",
      "       [-0.8840332 , -0.8840332 ],\n",
      "       [-0.12353516, -0.12353516],\n",
      "       [ 0.7595215 ,  0.7595215 ],\n",
      "       [-0.21105957, -0.21105957],\n",
      "       [ 0.29626465,  0.29626465],\n",
      "       [-0.6422119 , -0.6422119 ],\n",
      "       [ 0.30041504,  0.30041504],\n",
      "       [-0.13668823, -0.13668823],\n",
      "       [ 0.3048401 ,  0.3048401 ],\n",
      "       [-0.8809509 , -0.8809509 ],\n",
      "       [ 0.6430359 ,  0.6430359 ],\n",
      "       [ 0.6045227 ,  0.6045227 ],\n",
      "       [-0.11499023, -0.11499023],\n",
      "       [-0.43615723, -0.43615723],\n",
      "       [ 0.63461304,  0.63461304],\n",
      "       [-0.01589966, -0.01589966],\n",
      "       [ 0.9249573 ,  0.9249573 ],\n",
      "       [ 0.5081787 ,  0.5081787 ],\n",
      "       [ 0.21697998,  0.21697998],\n",
      "       [-0.5889282 , -0.5889282 ],\n",
      "       [-0.6177368 , -0.6177368 ],\n",
      "       [-0.67333984, -0.67333984],\n",
      "       [ 0.13641357,  0.13641357],\n",
      "       [ 0.5418091 ,  0.5418091 ],\n",
      "       [ 0.00134277,  0.00134277],\n",
      "       [ 0.79345703,  0.79345703],\n",
      "       [-0.13269043, -0.13269043],\n",
      "       [-0.01428223, -0.01428223],\n",
      "       [-0.48794556, -0.48794556],\n",
      "       [ 0.5260315 ,  0.5260315 ],\n",
      "       [-0.6921387 , -0.6921387 ],\n",
      "       [ 0.5213623 ,  0.5213623 ],\n",
      "       [-0.09863281, -0.09863281],\n",
      "       [ 0.27148438,  0.27148438],\n",
      "       [ 0.08929443,  0.08929443],\n",
      "       [ 0.9310913 ,  0.9310913 ],\n",
      "       [ 0.17407227,  0.17407227],\n",
      "       [ 0.83776855,  0.83776855],\n",
      "       [-0.42022705, -0.42022705]], dtype=float32), 6)\n"
     ]
    }
   ],
   "source": [
    "print(train_dataset[0])"
   ]
  },
  {
   "cell_type": "code",
   "execution_count": 4,
   "metadata": {},
   "outputs": [
    {
     "name": "stdout",
     "output_type": "stream",
     "text": [
      "Using cuda\n"
     ]
    }
   ],
   "source": [
    "device = torch.device(\"cuda\")\n",
    "print(f\"Using {device}\")"
   ]
  },
  {
   "cell_type": "code",
   "execution_count": 5,
   "metadata": {},
   "outputs": [],
   "source": [
    "def train_network(train, test, validate):\n",
    "    from torch.utils.data import DataLoader\n",
    "    from torch import nn\n",
    "    import torch\n",
    "    from utils.neural_networks import test_loop, train_loop, validate_loop\n",
    "\n",
    "    input_size = 1\n",
    "    for v in train[0][0].shape:\n",
    "        input_size *= v\n",
    "\n",
    "    output_size = 9\n",
    "    batch_size = 32\n",
    "\n",
    "    learning_rate = 0.1\n",
    "    epochs = 5\n",
    "\n",
    "    train_dataloader = DataLoader(train, batch_size=batch_size, shuffle=True)\n",
    "    test_dataloader = DataLoader(test, batch_size=batch_size, shuffle=True)\n",
    "    validate_dataloader = DataLoader(validate, batch_size=batch_size, shuffle=True)\n",
    "\n",
    "    class NeuralNetwork(nn.Module):\n",
    "        def __init__(self):\n",
    "            super(NeuralNetwork, self).__init__()\n",
    "            self.flatten = nn.Flatten()\n",
    "            self.linear_relu_stack = nn.Sequential(\n",
    "                nn.Linear(input_size, 256),\n",
    "                nn.ReLU(),\n",
    "                nn.Linear(256, 256),\n",
    "                nn.ReLU(),\n",
    "                nn.Dropout(p=0.2),\n",
    "                nn.Linear(256, 256),\n",
    "                nn.ReLU(),\n",
    "                nn.Dropout(p=0.25),\n",
    "                nn.Linear(256, 256),\n",
    "                nn.ReLU(),\n",
    "                nn.Dropout(p=0.2),\n",
    "                nn.Linear(256, output_size)\n",
    "            )\n",
    "\n",
    "        def forward(self, x):\n",
    "            x = self.flatten(x)\n",
    "            logits = self.linear_relu_stack(x)\n",
    "            return logits\n",
    "\n",
    "    model = NeuralNetwork().to()\n",
    "    print(model)\n",
    "\n",
    "    loss_fn = nn.CrossEntropyLoss()\n",
    "    optimizer = torch.optim.SGD(model.parameters(), lr=learning_rate)\n",
    "\n",
    "    for t in range(epochs):\n",
    "        print(f\"Epoch {t + 1}\\n-------------------------------\")\n",
    "        train_loop(train_dataloader, model, loss_fn, optimizer)\n",
    "        validate_loop(validate_dataloader, model, loss_fn)\n",
    "        test_loop(test_dataloader, model, loss_fn)\n",
    "    print(\"Done\")"
   ]
  },
  {
   "cell_type": "code",
   "execution_count": null,
   "metadata": {},
   "outputs": [
    {
     "name": "stdout",
     "output_type": "stream",
     "text": [
      "NeuralNetwork(\n",
      "  (flatten): Flatten(start_dim=1, end_dim=-1)\n",
      "  (linear_relu_stack): Sequential(\n",
      "    (0): Linear(in_features=194, out_features=256, bias=True)\n",
      "    (1): ReLU()\n",
      "    (2): Linear(in_features=256, out_features=256, bias=True)\n",
      "    (3): ReLU()\n",
      "    (4): Dropout(p=0.2, inplace=False)\n",
      "    (5): Linear(in_features=256, out_features=256, bias=True)\n",
      "    (6): ReLU()\n",
      "    (7): Dropout(p=0.25, inplace=False)\n",
      "    (8): Linear(in_features=256, out_features=256, bias=True)\n",
      "    (9): ReLU()\n",
      "    (10): Dropout(p=0.2, inplace=False)\n",
      "    (11): Linear(in_features=256, out_features=9, bias=True)\n",
      "  )\n",
      ")\n",
      "Epoch 1\n",
      "-------------------------------\n",
      "Accuracy: 21.88%, batch loss: 2.172204 [    0/ 6000]\n",
      "Accuracy: 21.88%, batch loss: 2.059929 [  320/ 6000]\n",
      "Accuracy: 18.75%, batch loss: 1.981529 [  640/ 6000]\n",
      "Accuracy: 25.00%, batch loss: 1.898586 [  960/ 6000]\n",
      "Accuracy: 18.75%, batch loss: 1.830761 [ 1280/ 6000]\n",
      "Accuracy: 25.00%, batch loss: 1.769387 [ 1600/ 6000]\n",
      "Accuracy: 15.62%, batch loss: 1.726486 [ 1920/ 6000]\n",
      "Accuracy: 25.00%, batch loss: 1.680691 [ 2240/ 6000]\n",
      "Accuracy: 21.88%, batch loss: 1.672201 [ 2560/ 6000]\n",
      "Accuracy: 21.88%, batch loss: 1.672872 [ 2880/ 6000]\n",
      "Accuracy: 25.00%, batch loss: 1.633705 [ 3200/ 6000]\n",
      "Accuracy: 28.12%, batch loss: 1.634455 [ 3520/ 6000]\n",
      "Accuracy: 40.62%, batch loss: 1.598976 [ 3840/ 6000]\n",
      "Accuracy: 12.50%, batch loss: 1.658122 [ 4160/ 6000]\n",
      "Accuracy: 25.00%, batch loss: 1.588677 [ 4480/ 6000]\n",
      "Accuracy: 31.25%, batch loss: 1.628775 [ 4800/ 6000]\n",
      "Accuracy: 21.88%, batch loss: 1.626019 [ 5120/ 6000]\n",
      "Accuracy: 12.50%, batch loss: 1.677257 [ 5440/ 6000]\n",
      "Accuracy: 21.88%, batch loss: 1.634188 [ 5760/ 6000]\n"
     ]
    }
   ],
   "source": [
    "train_network(train_dataset, test_dataset, validate_dataset)"
   ]
  },
  {
   "cell_type": "code",
   "execution_count": null,
   "metadata": {},
   "outputs": [],
   "source": []
  }
 ],
 "metadata": {
  "kernelspec": {
   "display_name": "Python 3 (ipykernel)",
   "language": "python",
   "name": "python3"
  },
  "language_info": {
   "codemirror_mode": {
    "name": "ipython",
    "version": 3
   },
   "file_extension": ".py",
   "mimetype": "text/x-python",
   "name": "python",
   "nbconvert_exporter": "python",
   "pygments_lexer": "ipython3",
   "version": "3.10.0"
  },
  "widgets": {
   "application/vnd.jupyter.widget-state+json": {
    "state": {},
    "version_major": 2,
    "version_minor": 0
   }
  }
 },
 "nbformat": 4,
 "nbformat_minor": 4
}

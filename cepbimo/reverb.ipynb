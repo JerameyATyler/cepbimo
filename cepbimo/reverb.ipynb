{
 "cells": [
  {
   "cell_type": "markdown",
   "metadata": {},
   "source": [
    "# Reverberation datasets"
   ]
  },
  {
   "cell_type": "code",
   "execution_count": 1,
   "metadata": {},
   "outputs": [],
   "source": [
    "from datasets.Reverberation import Time\n",
    "from notebooks.notebooks import get_ttv_paths\n",
    "from transforms.transforms import mfcc"
   ]
  },
  {
   "cell_type": "code",
   "execution_count": 2,
   "metadata": {},
   "outputs": [],
   "source": [
    "train_path, test_path, validate_path = get_ttv_paths()\n",
    "\n",
    "train_dataset = Time(train_path, 'train', download=False, transform=mfcc)\n",
    "test_dataset = Time(test_path, 'test', download=False, transform=mfcc)\n",
    "validate_dataset = Time(validate_path, 'validate', download=False, transform=mfcc)"
   ]
  },
  {
   "cell_type": "code",
   "execution_count": 3,
   "metadata": {},
   "outputs": [
    {
     "name": "stdout",
     "output_type": "stream",
     "text": [
      "(array([[-0.45428467, -0.23236084],\n",
      "       [ 0.1708374 ,  0.619751  ],\n",
      "       [ 0.07452393, -0.8592529 ],\n",
      "       ...,\n",
      "       [ 0.5364075 ,  0.36709595],\n",
      "       [-0.3960266 ,  0.20367432],\n",
      "       [ 0.44882202,  0.8918762 ]], dtype=float32), 6)\n"
     ]
    }
   ],
   "source": [
    "print(train_dataset[0])"
   ]
  },
  {
   "cell_type": "code",
   "execution_count": 4,
   "metadata": {},
   "outputs": [
    {
     "name": "stdout",
     "output_type": "stream",
     "text": [
      "Using cpu\n"
     ]
    }
   ],
   "source": [
    "device = \"cpu\"\n",
    "print(f\"Using {device}\")"
   ]
  },
  {
   "cell_type": "code",
   "execution_count": 5,
   "metadata": {},
   "outputs": [],
   "source": [
    "def train_network(train, test, validate):\n",
    "    from torch.utils.data import DataLoader\n",
    "    from torch import nn\n",
    "    import torch\n",
    "    from utils.neural_networks import test_loop, train_loop, validate_loop\n",
    "\n",
    "    input_size = 1\n",
    "    for v in train[0][0].shape:\n",
    "        input_size *= v\n",
    "\n",
    "    output_size = 9\n",
    "    batch_size = 64\n",
    "\n",
    "    learning_rate = 1e-2\n",
    "    epochs = 5\n",
    "\n",
    "    train_dataloader = DataLoader(train, batch_size=batch_size, shuffle=True)\n",
    "    test_dataloader = DataLoader(test, batch_size=batch_size, shuffle=True)\n",
    "    validate_dataloader = DataLoader(validate, batch_size=batch_size, shuffle=True)\n",
    "\n",
    "    class NeuralNetwork(nn.Module):\n",
    "        def __init__(self):\n",
    "            super(NeuralNetwork, self).__init__()\n",
    "            self.flatten = nn.Flatten()\n",
    "            self.linear_relu_stack = nn.Sequential(\n",
    "                nn.Linear(input_size, 512),\n",
    "                nn.ReLU(),\n",
    "                nn.Dropout(p=0.2),\n",
    "                nn.Linear(512, 512),\n",
    "                nn.ReLU(),\n",
    "                nn.Dropout(p=0.2),\n",
    "                nn.Linear(512, output_size)\n",
    "            )\n",
    "\n",
    "        def forward(self, x):\n",
    "            x = self.flatten(x)\n",
    "            logits = self.linear_relu_stack(x)\n",
    "            return logits\n",
    "\n",
    "    model = NeuralNetwork().to(device)\n",
    "    print(model)\n",
    "\n",
    "    loss_fn = nn.CrossEntropyLoss()\n",
    "    optimizer = torch.optim.SGD(model.parameters(), lr=learning_rate)\n",
    "\n",
    "    for t in range(epochs):\n",
    "        print(f\"Epoch {t + 1}\\n-------------------------------\")\n",
    "        train_loop(train_dataloader, model, loss_fn, optimizer)\n",
    "        validate_loop(validate_dataloader, model, loss_fn)\n",
    "        test_loop(test_dataloader, model, loss_fn)\n",
    "    print(\"Done\")"
   ]
  },
  {
   "cell_type": "markdown",
   "metadata": {},
   "source": [
    "## Reverberation time"
   ]
  },
  {
   "cell_type": "code",
   "execution_count": 6,
   "metadata": {
    "tags": []
   },
   "outputs": [
    {
     "name": "stdout",
     "output_type": "stream",
     "text": [
      "NeuralNetwork(\n",
      "  (flatten): Flatten(start_dim=1, end_dim=-1)\n",
      "  (linear_relu_stack): Sequential(\n",
      "    (0): Linear(in_features=18760, out_features=512, bias=True)\n",
      "    (1): ReLU()\n",
      "    (2): Dropout(p=0.2, inplace=False)\n",
      "    (3): Linear(in_features=512, out_features=512, bias=True)\n",
      "    (4): ReLU()\n",
      "    (5): Dropout(p=0.2, inplace=False)\n",
      "    (6): Linear(in_features=512, out_features=9, bias=True)\n",
      "  )\n",
      ")\n",
      "Epoch 1\n",
      "-------------------------------\n",
      "loss: 2.223696 [    0/ 6000]\n",
      "loss: 2.199118 [  640/ 6000]\n",
      "loss: 2.180701 [ 1280/ 6000]\n",
      "loss: 2.184377 [ 1920/ 6000]\n",
      "loss: 2.198511 [ 2560/ 6000]\n",
      "loss: 2.192051 [ 3200/ 6000]\n",
      "loss: 2.179449 [ 3840/ 6000]\n",
      "loss: 2.154261 [ 4480/ 6000]\n",
      "loss: 2.162158 [ 5120/ 6000]\n",
      "loss: 2.163050 [ 5760/ 6000]\n",
      "Validation Error: \n",
      " Accuracy: 12.35, Avg loss: 2.156939 \n",
      "\n",
      "Test Error: \n",
      " Accuracy: 12.55%, Avg loss: 2.156894 \n",
      "\n",
      "Epoch 2\n",
      "-------------------------------\n",
      "loss: 2.133029 [    0/ 6000]\n",
      "loss: 2.133557 [  640/ 6000]\n",
      "loss: 2.132632 [ 1280/ 6000]\n",
      "loss: 2.123295 [ 1920/ 6000]\n",
      "loss: 2.132557 [ 2560/ 6000]\n",
      "loss: 2.118731 [ 3200/ 6000]\n",
      "loss: 2.111563 [ 3840/ 6000]\n",
      "loss: 2.122419 [ 4480/ 6000]\n",
      "loss: 2.126599 [ 5120/ 6000]\n",
      "loss: 2.093459 [ 5760/ 6000]\n",
      "Validation Error: \n",
      " Accuracy: 12.00, Avg loss: 2.132887 \n",
      "\n",
      "Test Error: \n",
      " Accuracy: 12.60%, Avg loss: 2.132407 \n",
      "\n",
      "Epoch 3\n",
      "-------------------------------\n",
      "loss: 2.109325 [    0/ 6000]\n",
      "loss: 2.090100 [  640/ 6000]\n",
      "loss: 2.089846 [ 1280/ 6000]\n",
      "loss: 2.087180 [ 1920/ 6000]\n",
      "loss: 2.085134 [ 2560/ 6000]\n",
      "loss: 2.076533 [ 3200/ 6000]\n",
      "loss: 2.071642 [ 3840/ 6000]\n",
      "loss: 2.070038 [ 4480/ 6000]\n",
      "loss: 2.076151 [ 5120/ 6000]\n",
      "loss: 2.075482 [ 5760/ 6000]\n",
      "Validation Error: \n",
      " Accuracy: 10.95, Avg loss: 2.119548 \n",
      "\n",
      "Test Error: \n",
      " Accuracy: 12.65%, Avg loss: 2.116448 \n",
      "\n",
      "Epoch 4\n",
      "-------------------------------\n",
      "loss: 2.039244 [    0/ 6000]\n",
      "loss: 2.052368 [  640/ 6000]\n",
      "loss: 2.058068 [ 1280/ 6000]\n",
      "loss: 2.068324 [ 1920/ 6000]\n",
      "loss: 2.042209 [ 2560/ 6000]\n",
      "loss: 2.029963 [ 3200/ 6000]\n",
      "loss: 2.042983 [ 3840/ 6000]\n",
      "loss: 2.030068 [ 4480/ 6000]\n",
      "loss: 2.033229 [ 5120/ 6000]\n",
      "loss: 2.032196 [ 5760/ 6000]\n",
      "Validation Error: \n",
      " Accuracy: 12.80, Avg loss: 2.110215 \n",
      "\n",
      "Test Error: \n",
      " Accuracy: 12.25%, Avg loss: 2.109208 \n",
      "\n",
      "Epoch 5\n",
      "-------------------------------\n",
      "loss: 2.000568 [    0/ 6000]\n",
      "loss: 2.007972 [  640/ 6000]\n",
      "loss: 2.017012 [ 1280/ 6000]\n",
      "loss: 2.013879 [ 1920/ 6000]\n",
      "loss: 1.999789 [ 2560/ 6000]\n",
      "loss: 2.009224 [ 3200/ 6000]\n",
      "loss: 1.999279 [ 3840/ 6000]\n",
      "loss: 2.016290 [ 4480/ 6000]\n",
      "loss: 1.998796 [ 5120/ 6000]\n",
      "loss: 2.011409 [ 5760/ 6000]\n",
      "Validation Error: \n",
      " Accuracy: 10.70, Avg loss: 2.105730 \n",
      "\n",
      "Test Error: \n",
      " Accuracy: 12.15%, Avg loss: 2.104311 \n",
      "\n",
      "Done\n"
     ]
    }
   ],
   "source": [
    "train_network(train_dataset, test_dataset, validate_dataset)"
   ]
  },
  {
   "cell_type": "code",
   "execution_count": null,
   "metadata": {},
   "outputs": [],
   "source": []
  }
 ],
 "metadata": {
  "kernelspec": {
   "display_name": "Python (cepbimo)",
   "language": "python",
   "name": "cepbimo"
  },
  "language_info": {
   "codemirror_mode": {
    "name": "ipython",
    "version": 3
   },
   "file_extension": ".py",
   "mimetype": "text/x-python",
   "name": "python",
   "nbconvert_exporter": "python",
   "pygments_lexer": "ipython3",
   "version": "3.9.7"
  },
  "widgets": {
   "application/vnd.jupyter.widget-state+json": {
    "state": {},
    "version_major": 2,
    "version_minor": 0
   }
  }
 },
 "nbformat": 4,
 "nbformat_minor": 4
}

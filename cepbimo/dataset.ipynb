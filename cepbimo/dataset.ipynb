{
 "cells": [
  {
   "cell_type": "markdown",
   "id": "9379ddda-34b4-48dc-8456-1233c83ce06f",
   "metadata": {},
   "source": [
    "# Dataset Generator"
   ]
  },
  {
   "cell_type": "markdown",
   "id": "8ed523a2-908f-4011-b112-7235cd6eee3a",
   "metadata": {},
   "source": [
    "The models we design are only as good as the data that is fed into them. No matter how well a model or network is designed the efficacy of its predictions will be limited by the integrity of its data, \"garbage in, garbage out\". Since no open-access dataset exists sufficiently large enough to suit our needs we created our own. The code in this notebook will allow you to interactively create a dataset using the same process we used. To generate an identical dataset leave all parameters at their default settings."
   ]
  },
  {
   "cell_type": "markdown",
   "id": "d01e054b-e2aa-4c58-b1fd-e5f3b2d8d376",
   "metadata": {
    "jp-MarkdownHeadingCollapsed": true,
    "tags": []
   },
   "source": [
    "## Data sources\n",
    "<a name='data-sources'><a/>"
   ]
  },
  {
   "cell_type": "markdown",
   "id": "8a49ccc6-0576-4274-9505-95ffc949c1c4",
   "metadata": {
    "tags": []
   },
   "source": [
    "### Anechoic Data"
   ]
  },
  {
   "cell_type": "markdown",
   "id": "a6a58573-865b-4242-8947-966672725510",
   "metadata": {},
   "source": [
    "In order to generate a dataset of reflections we need to start with anechoic data. A dataset of anechoic orchestral recordings is available thanks to [(Pätynen and Lokki, 2008)](#patynen-lokki-08).\n",
    "***\n",
    "> 1. [Mozart's An aria of Donna Elvira](https://mediatech.aalto.fi/images/research/virtualacoustics/recordings/mozart_mp3.zip)\n",
    ">   - Flute, clarinet, bassoon, french horns (1-2), violin (I), violin (II), viola, cello, contrabass, soprano (soloist)\n",
    "> 2. [Beethoven's Symphony no. 7, I movement, bars 1-53](https://mediatech.aalto.fi/images/research/virtualacoustics/recordings/beethoven_mp3.zip)\n",
    ">   - Flutes (1-2), oboes (1-2), clarinets (1-2), bassoon (1-2), french horns (1-2),\n",
    ">     trumpets (1-3), timpani, violin (I), violin (II), viola, cello, contrabass\n",
    "> 3. [Bruckner's Symphony no. 8, II movement, bars 1-61](https://mediatech.aalto.fi/images/research/virtualacoustics/recordings/bruckner_mp3.zip)\n",
    ">   - Flutes (1-3), oboes (1-3), clarinets (1-3), bassoon (1-3),\n",
    ">     french horns (1-8), trumpets (1-3), trombones (1-3), tuba, timpani,\n",
    ">     violin (I) (two divisi), violin (II) (two divisi), viola (two divisi),\n",
    ">     cello (two divisi), contrabass (two divisi)\n",
    "> 4. [Mahler's Symphony no. 1, IV movement, bars 1-85](https://mediatech.aalto.fi/images/research/virtualacoustics/recordings/mahler_mp3.zip)\n",
    ">   - Piccolo (1-2) (fl1), flutes (1-2) (fl3), oboes (1-4), clarinets (1-4),\n",
    "> bassoon (1-3), french horns (1-7), trumpets (1-4), tuba, timpani,\n",
    "> percussions (1-2), violin I (two divisi), violin II (two divisi),\n",
    "> viola, cello, contrabass\n",
    "***\n",
    "For more information on the anechoic data we use click [this link.](https://research.cs.aalto.fi//acoustics/virtual-acoustics/research/acoustic-measurement-and-analysis/85-anechoic-recordings.html)"
   ]
  },
  {
   "cell_type": "markdown",
   "id": "b7d01972-4f2d-4299-bc6e-d5a80d6002e5",
   "metadata": {
    "tags": []
   },
   "source": [
    "### Head-related Transfer Functions"
   ]
  },
  {
   "cell_type": "markdown",
   "id": "ddd1116c-b2aa-48c7-b994-aa76ccd36625",
   "metadata": {},
   "source": [
    "Next we need a dataset of head-related transfer functions (HRTF). A set of HRTFs is available thanks to [(Gardner & Martin, 1994)](#gardner-martin-94) and MIT Media Lab.\n",
    "***\n",
    "For more information see [KEMAR HRTF measurements](https://sound.media.mit.edu/resources/KEMAR.html)"
   ]
  },
  {
   "cell_type": "markdown",
   "id": "467eb04d-8a62-4484-b715-dcfdf1f7da17",
   "metadata": {
    "tags": []
   },
   "source": [
    "## Dataset"
   ]
  },
  {
   "cell_type": "code",
   "execution_count": null,
   "id": "970fd37a-371a-4d35-91ca-0cd27debde01",
   "metadata": {},
   "outputs": [],
   "source": [
    "%mv ~/anechoic data\n",
    "%mv ~/hrtf data"
   ]
  },
  {
   "cell_type": "markdown",
   "id": "5295e711-e661-4920-9673-9e5d15ef4392",
   "metadata": {},
   "source": [
    "The Python `DataPicker` class will walk you through generating data."
   ]
  },
  {
   "cell_type": "code",
   "execution_count": 3,
   "id": "75a9d27b-ab7c-4eee-8a7f-8228452ba016",
   "metadata": {
    "pycharm": {
     "name": "#%%\n"
    },
    "tags": []
   },
   "outputs": [
    {
     "name": "stdout",
     "output_type": "stream",
     "text": [
      "Data generator started\n",
      "Generating ingredients list\n"
     ]
    }
   ],
   "source": [
    "from notebooks.data_picker import DataPicker\n",
    "\n",
    "dp = DataPicker()"
   ]
  },
  {
   "cell_type": "markdown",
   "id": "0a480150-fdec-4d55-b883-ee660c65408b",
   "metadata": {
    "tags": []
   },
   "source": [
    "### Configurable parameters"
   ]
  },
  {
   "cell_type": "markdown",
   "id": "b1d3cebe-ca3c-4399-aa62-89f391311c9b",
   "metadata": {},
   "source": [
    "The data generator has a number of parameters that can be set to place restrictions on the generated data. Below are the configurable parameters and their default values."
   ]
  },
  {
   "cell_type": "code",
   "execution_count": 4,
   "id": "0907b3c6-bac6-4016-a7b3-3a6d16768b76",
   "metadata": {
    "tags": []
   },
   "outputs": [
    {
     "data": {
      "text/html": [
       "<div>\n",
       "<style scoped>\n",
       "    .dataframe tbody tr th:only-of-type {\n",
       "        vertical-align: middle;\n",
       "    }\n",
       "\n",
       "    .dataframe tbody tr th {\n",
       "        vertical-align: top;\n",
       "    }\n",
       "\n",
       "    .dataframe thead th {\n",
       "        text-align: right;\n",
       "    }\n",
       "</style>\n",
       "<table border=\"1\" class=\"dataframe\">\n",
       "  <thead>\n",
       "    <tr style=\"text-align: right;\">\n",
       "      <th></th>\n",
       "      <th>seed</th>\n",
       "      <th>duration</th>\n",
       "      <th>delay_limits</th>\n",
       "      <th>time_limits</th>\n",
       "      <th>reflection_limits</th>\n",
       "      <th>zenith_limits</th>\n",
       "      <th>azimuth_limits</th>\n",
       "      <th>sample_count</th>\n",
       "    </tr>\n",
       "  </thead>\n",
       "  <tbody>\n",
       "    <tr>\n",
       "      <th>0</th>\n",
       "      <td>0xec0ec0</td>\n",
       "      <td>10</td>\n",
       "      <td>(1, 60)</td>\n",
       "      <td>(1, 8)</td>\n",
       "      <td>(4, 8)</td>\n",
       "      <td>(-40, 90)</td>\n",
       "      <td>(0, 360)</td>\n",
       "      <td>1</td>\n",
       "    </tr>\n",
       "  </tbody>\n",
       "</table>\n",
       "</div>"
      ],
      "text/plain": [
       "       seed  duration delay_limits time_limits reflection_limits  \\\n",
       "0  0xec0ec0        10      (1, 60)      (1, 8)            (4, 8)   \n",
       "\n",
       "  zenith_limits azimuth_limits  sample_count  \n",
       "0     (-40, 90)       (0, 360)             1  "
      ]
     },
     "execution_count": 4,
     "metadata": {},
     "output_type": "execute_result"
    }
   ],
   "source": [
    "dp.sample_parameters"
   ]
  },
  {
   "cell_type": "markdown",
   "id": "3dcf1821-32fc-4954-a524-a59d0e318f6e",
   "metadata": {
    "tags": []
   },
   "source": [
    "> * Seed - A hex value between 0x0000 and 0xffff that is used to initialize the random number generator\n",
    "> * Duration - The length of each sample in seconds\n",
    "> * Delay - The amount of time in milliseconds that a reflection or reverberation will lag behind a signal\n",
    "> * Time - The amount of time in seconds that reverberation will last\n",
    "> * Reflection count - The number of reflections in a sample\n",
    "> * Zenith - The elevation angle in degrees from the listener to the direct signal or a reflection\n",
    "> * Azimuth - The rotation angle in degrees from the listener to the direct signal or a reflection\n",
    "> * Sample count - The number of samples to generate\n",
    "> * Verbose - When true all output will be generated"
   ]
  },
  {
   "cell_type": "markdown",
   "id": "2f1b2935-358f-46a6-a718-7244923c1a78",
   "metadata": {
    "tags": []
   },
   "source": [
    "### Sample data"
   ]
  },
  {
   "cell_type": "markdown",
   "id": "9f401799-988b-45b5-a576-17e4e2558ea0",
   "metadata": {},
   "source": [
    "Using the parameters above a sample dataset was generated with a single data point."
   ]
  },
  {
   "cell_type": "code",
   "execution_count": 5,
   "id": "e635891a-6e48-4aac-911d-242f04b9fa3e",
   "metadata": {
    "tags": []
   },
   "outputs": [
    {
     "data": {
      "text/html": [
       "<div>\n",
       "<style scoped>\n",
       "    .dataframe tbody tr th:only-of-type {\n",
       "        vertical-align: middle;\n",
       "    }\n",
       "\n",
       "    .dataframe tbody tr th {\n",
       "        vertical-align: top;\n",
       "    }\n",
       "\n",
       "    .dataframe thead th {\n",
       "        text-align: right;\n",
       "    }\n",
       "</style>\n",
       "<table border=\"1\" class=\"dataframe\">\n",
       "  <thead>\n",
       "    <tr style=\"text-align: right;\">\n",
       "      <th></th>\n",
       "      <th>composer</th>\n",
       "      <th>part_count</th>\n",
       "      <th>parts</th>\n",
       "      <th>zenith</th>\n",
       "      <th>azimuth</th>\n",
       "      <th>offset</th>\n",
       "      <th>duration</th>\n",
       "      <th>reverb_time</th>\n",
       "      <th>reverb_delay</th>\n",
       "      <th>reverb_amplitude</th>\n",
       "      <th>reflection_count</th>\n",
       "      <th>reflection_amplitude</th>\n",
       "      <th>reflection_delay</th>\n",
       "      <th>reflection_zenith</th>\n",
       "      <th>reflection_azimuth</th>\n",
       "      <th>filepath</th>\n",
       "      <th>name</th>\n",
       "    </tr>\n",
       "  </thead>\n",
       "  <tbody>\n",
       "    <tr>\n",
       "      <th>0</th>\n",
       "      <td>mahler</td>\n",
       "      <td>20</td>\n",
       "      <td>[data\\anechoic\\mahler\\mahler_corno2_6.mp3, dat...</td>\n",
       "      <td>50</td>\n",
       "      <td>80</td>\n",
       "      <td>115395</td>\n",
       "      <td>10</td>\n",
       "      <td>3</td>\n",
       "      <td>37</td>\n",
       "      <td>0.029793</td>\n",
       "      <td>4</td>\n",
       "      <td>[0.45875729159366263, 0.8331660430010549, 0.93...</td>\n",
       "      <td>[50, 11, 4, 47]</td>\n",
       "      <td>[60, 10, 30, 50]</td>\n",
       "      <td>[40, 270, 72, 256]</td>\n",
       "      <td>mahler_2894305</td>\n",
       "      <td></td>\n",
       "    </tr>\n",
       "  </tbody>\n",
       "</table>\n",
       "</div>"
      ],
      "text/plain": [
       "  composer  part_count                                              parts  \\\n",
       "0   mahler          20  [data\\anechoic\\mahler\\mahler_corno2_6.mp3, dat...   \n",
       "\n",
       "   zenith  azimuth  offset  duration  reverb_time  reverb_delay  \\\n",
       "0      50       80  115395        10            3            37   \n",
       "\n",
       "   reverb_amplitude  reflection_count  \\\n",
       "0          0.029793                 4   \n",
       "\n",
       "                                reflection_amplitude reflection_delay  \\\n",
       "0  [0.45875729159366263, 0.8331660430010549, 0.93...  [50, 11, 4, 47]   \n",
       "\n",
       "  reflection_zenith  reflection_azimuth        filepath name  \n",
       "0  [60, 10, 30, 50]  [40, 270, 72, 256]  mahler_2894305       "
      ]
     },
     "execution_count": 5,
     "metadata": {},
     "output_type": "execute_result"
    }
   ],
   "source": [
    "dp.sample_data"
   ]
  },
  {
   "cell_type": "markdown",
   "id": "938d22b3-2aee-4b38-8e5b-8855857fedb9",
   "metadata": {},
   "source": [
    "Sample data can be found in the `data/sample_data/reflections/` directory. The `reflections/` directory will contain the `recipe.json` and `ingredients.json` files along with a `samples/` directory. The `ingredients.json` file contains the parameters that were used to generate the dataset. The `samples.json` file contains labels for each data point. The `samples/` directory contains `.wav` files generated by the data generator. When `verbose` is set to `True` the data generator will save `.wav` and `.png` files for each step in the generation process. `verbose` increases the disk size of the dataset by approximately 10x. The cell below has a brief overview of the output data."
   ]
  },
  {
   "cell_type": "code",
   "execution_count": 6,
   "id": "ebe2b448-0ed1-45b1-863f-7c7f07ed9e7b",
   "metadata": {
    "tags": []
   },
   "outputs": [
    {
     "data": {
      "application/vnd.jupyter.widget-view+json": {
       "model_id": "25cab05ffeab4046a162d0bf188d93be",
       "version_major": 2,
       "version_minor": 0
      },
      "text/plain": [
       "Box(children=(HTML(value='<h1>Raw signal</h1><p>An anechoic signal.</p>'), Output(outputs=({'output_type': 'di…"
      ]
     },
     "metadata": {},
     "output_type": "display_data"
    }
   ],
   "source": [
    "dp.sample_viewer()"
   ]
  },
  {
   "cell_type": "markdown",
   "id": "2644f9eb-b56f-4699-be8c-e11f36e1bb93",
   "metadata": {
    "tags": []
   },
   "source": [
    "### Data generator"
   ]
  },
  {
   "cell_type": "markdown",
   "id": "78b4dfb1-3996-4809-8d99-4f057a9852d3",
   "metadata": {
    "tags": []
   },
   "source": [
    "#### Set parameters"
   ]
  },
  {
   "cell_type": "markdown",
   "id": "d2e15fad-c8b1-4986-b92b-e656563baea2",
   "metadata": {},
   "source": [
    "Use the sliders in the cell below to configure the dataset.\n",
    "\n",
    "> #### Instructions\n",
    "> 1. Select parameters using the sliders\n",
    "> 2. Run `Review parameters` code cell and press confirm\n",
    "> 3. Press the generate button in the `Generate dataset` cell"
   ]
  },
  {
   "cell_type": "code",
   "execution_count": 7,
   "id": "b9d511d7-381f-4355-9deb-a9283770be47",
   "metadata": {},
   "outputs": [
    {
     "data": {
      "application/vnd.jupyter.widget-view+json": {
       "model_id": "6c53833641c74c8c877163b66aa3e6e2",
       "version_major": 2,
       "version_minor": 0
      },
      "text/plain": [
       "Box(children=(Label(value='RNG seed, hex'), IntSlider(value=15470272, continuous_update=False, max=16777215, r…"
      ]
     },
     "metadata": {},
     "output_type": "display_data"
    }
   ],
   "source": [
    "dp.picker_viewer()"
   ]
  },
  {
   "cell_type": "markdown",
   "id": "70b856a0-184f-4fc7-9b50-5161d1d379a5",
   "metadata": {
    "tags": []
   },
   "source": [
    "#### Review parameters"
   ]
  },
  {
   "cell_type": "markdown",
   "id": "73dbfe01-1711-436f-b22c-6bb93b202e22",
   "metadata": {},
   "source": [
    "Review the parameters below then press the `Confirm` button. **If changes are made rerun the cell and press confirm**"
   ]
  },
  {
   "cell_type": "code",
   "execution_count": 8,
   "id": "655eabe9-4170-48f7-a841-9c1c0cc85657",
   "metadata": {},
   "outputs": [
    {
     "data": {
      "application/vnd.jupyter.widget-view+json": {
       "model_id": "f1c5deae95384464a5630cdf2c95e4fa",
       "version_major": 2,
       "version_minor": 0
      },
      "text/plain": [
       "Box(children=(Label(value='seed = 0xec0ec0'), Label(value='delay_limits = (1, 60)'), Label(value='time_limits …"
      ]
     },
     "metadata": {},
     "output_type": "display_data"
    }
   ],
   "source": [
    "dp.review_viewer()"
   ]
  },
  {
   "cell_type": "markdown",
   "id": "3a35e8c5-098d-4b11-944d-590ce95a9e93",
   "metadata": {},
   "source": [
    "#### Generate dataset"
   ]
  },
  {
   "cell_type": "markdown",
   "id": "3421fecf-e7bd-4d96-9c51-4118fcae27ee",
   "metadata": {},
   "source": [
    "Pressing the `Confirm` button above loads the parameters into the data generator. Press the `Generate` button below to start generating a dataset. When the dataset is complete a `download` link will appear. Additionally a `.zip` archive of the dataset can be found in the `data/` directory."
   ]
  },
  {
   "cell_type": "code",
   "execution_count": 9,
   "id": "a5cf31c6-2999-4cc5-ac25-09664847f426",
   "metadata": {
    "tags": []
   },
   "outputs": [
    {
     "data": {
      "application/vnd.jupyter.widget-view+json": {
       "model_id": "54235bc4d1db45d0b0d2615112252be9",
       "version_major": 2,
       "version_minor": 0
      },
      "text/plain": [
       "Box(children=(Button(description='Generate', style=ButtonStyle()), Output()), layout=Layout(display='flex', fl…"
      ]
     },
     "metadata": {},
     "output_type": "display_data"
    }
   ],
   "source": [
    "dp.generate_viewer()"
   ]
  },
  {
   "cell_type": "markdown",
   "id": "fbcea1f4-d323-4a11-80ce-98c05cb757c7",
   "metadata": {
    "tags": []
   },
   "source": [
    "## References"
   ]
  },
  {
   "cell_type": "markdown",
   "id": "257bbc33-1b7d-4e2c-a824-a7945b6efc45",
   "metadata": {
    "tags": []
   },
   "source": [
    "* Gardner, B., & Martin, K. (1994). Hrtf measurements of a kemar dummy-head microphone. MIT Media Lab. Perceptual Computing-Technical Report, 280, 1-7.\n",
    "<a name='gardner-martin-94'><a/>"
   ]
  },
  {
   "cell_type": "markdown",
   "id": "e8dcc08f-1c51-4cd2-833a-451d539d47fc",
   "metadata": {
    "tags": []
   },
   "source": [
    "* Pätynen, J., Pulkki, V., & Lokki, T. (2008). Anechoic recording system for symphony orchestra. Acta Acustica united with Acustica, 94(6), 856-865. \n",
    "<a name='patynen-lokki-08'><a/>"
   ]
  },
  {
   "cell_type": "code",
   "execution_count": null,
   "id": "aee53eb9-70fa-4b98-9098-9630f8cb44f4",
   "metadata": {},
   "outputs": [],
   "source": []
  }
 ],
 "metadata": {
  "kernelspec": {
   "display_name": "Python 3 (ipykernel)",
   "language": "python",
   "name": "python3"
  },
  "language_info": {
   "codemirror_mode": {
    "name": "ipython",
    "version": 3
   },
   "file_extension": ".py",
   "mimetype": "text/x-python",
   "name": "python",
   "nbconvert_exporter": "python",
   "pygments_lexer": "ipython3",
   "version": "3.10.0"
  },
  "toc-autonumbering": false,
  "toc-showcode": false,
  "toc-showmarkdowntxt": false,
  "widgets": {
   "application/vnd.jupyter.widget-state+json": {
    "state": {},
    "version_major": 2,
    "version_minor": 0
   }
  }
 },
 "nbformat": 4,
 "nbformat_minor": 5
}
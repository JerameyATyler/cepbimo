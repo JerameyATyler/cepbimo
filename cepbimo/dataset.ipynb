{
 "cells": [
  {
   "cell_type": "markdown",
   "id": "9379ddda-34b4-48dc-8456-1233c83ce06f",
   "metadata": {},
   "source": [
    "# Dataset Generator"
   ]
  },
  {
   "cell_type": "markdown",
   "id": "8ed523a2-908f-4011-b112-7235cd6eee3a",
   "metadata": {},
   "source": [
    "We need to generate a dataset of reflections. To do this we need to gather some data from the internet. Make sure you have already executed the appropriate cells in Cepbimo - Preamble."
   ]
  },
  {
   "cell_type": "markdown",
   "id": "8a49ccc6-0576-4274-9505-95ffc949c1c4",
   "metadata": {},
   "source": [
    "## Anechoic Data"
   ]
  },
  {
   "cell_type": "markdown",
   "id": "a6a58573-865b-4242-8947-966672725510",
   "metadata": {},
   "source": [
    "In order to generate a dataset of reflections we need to start with anechoic data. A dataset of anechoic orchestral recordings is available thanks to [(Pätynen and Lokki, 2008)](#patynen-lokki-08).\n",
    "***\n",
    "> 1. [Mozart's An aria of Donna Elvira](https://mediatech.aalto.fi/images/research/virtualacoustics/recordings/mozart_mp3.zip)\n",
    ">   - Flute, clarinet, bassoon, french horns (1-2), violin (I), violin (II), viola, cello, contrabass, soprano (soloist)\n",
    "> 2. [Beethoven's Symphony no. 7, I movement, bars 1-53](https://mediatech.aalto.fi/images/research/virtualacoustics/recordings/beethoven_mp3.zip)\n",
    ">   - Flutes (1-2), oboes (1-2), clarinets (1-2), bassoon (1-2), french horns (1-2),\n",
    ">     trumpets (1-3), timpani, violin (I), violin (II), viola, cello, contrabass\n",
    "> 3. [Bruckner's Symphony no. 8, II movement, bars 1-61](https://mediatech.aalto.fi/images/research/virtualacoustics/recordings/bruckner_mp3.zip)\n",
    ">   - Flutes (1-3), oboes (1-3), clarinets (1-3), bassoon (1-3),\n",
    ">     french horns (1-8), trumpets (1-3), trombones (1-3), tuba, timpani,\n",
    ">     violin (I) (two divisi), violin (II) (two divisi), viola (two divisi),\n",
    ">     cello (two divisi), contrabass (two divisi)\n",
    "> 4. [Mahler's Symphony no. 1, IV movement, bars 1-85](https://mediatech.aalto.fi/images/research/virtualacoustics/recordings/mahler_mp3.zip)\n",
    ">   - Piccolo (1-2) (fl1), flutes (1-2) (fl3), oboes (1-4), clarinets (1-4),\n",
    "> bassoon (1-3), french horns (1-7), trumpets (1-4), tuba, timpani,\n",
    "> percussions (1-2), violin I (two divisi), violin II (two divisi),\n",
    "> viola, cello, contrabass\n",
    "***\n",
    "For more information on the anechoic data we use click [this link.](https://research.cs.aalto.fi//acoustics/virtual-acoustics/research/acoustic-measurement-and-analysis/85-anechoic-recordings.html)"
   ]
  },
  {
   "cell_type": "code",
   "execution_count": 1,
   "id": "88f69e98-4020-4fbd-b3c0-6715c1ac10c5",
   "metadata": {},
   "outputs": [
    {
     "name": "stderr",
     "output_type": "stream",
     "text": [
      "'wget' is not recognized as an internal or external command,\n",
      "operable program or batch file.\n",
      "'wget' is not recognized as an internal or external command,\n",
      "operable program or batch file.\n",
      "'wget' is not recognized as an internal or external command,\n",
      "operable program or batch file.\n",
      "'wget' is not recognized as an internal or external command,\n",
      "operable program or batch file.\n"
     ]
    }
   ],
   "source": [
    "# @title Anechoic Data\n",
    "# @markdown Anechoic data recorded by [(Pätynen and Lokki, 2008)](#patynen-lokki-08)\n",
    "# @markdown > Links to anechoic recordings\n",
    "file_links = [\n",
    "              'https://mediatech.aalto.fi/images/research/virtualacoustics/recordings/beethoven_mp3.zip',\n",
    "              'https://mediatech.aalto.fi/images/research/virtualacoustics/recordings/mozart_mp3.zip',\n",
    "              'https://mediatech.aalto.fi/images/research/virtualacoustics/recordings/bruckner_mp3.zip',\n",
    "              'https://mediatech.aalto.fi/images/research/virtualacoustics/recordings/mahler_mp3.zip']\n",
    "# @markdown > Download files if they don't exist\n",
    "for l in file_links:\n",
    "  ! wget -nc {l}"
   ]
  },
  {
   "cell_type": "markdown",
   "id": "b7d01972-4f2d-4299-bc6e-d5a80d6002e5",
   "metadata": {},
   "source": [
    "## Head-related Transfer Functions"
   ]
  },
  {
   "cell_type": "markdown",
   "id": "ddd1116c-b2aa-48c7-b994-aa76ccd36625",
   "metadata": {},
   "source": [
    "Next we need a dataset of head-related transfer functions (HRTF). A set of HRTFs is available thanks to [(Gardner & Martin, 1994)](#gardner-martin-94) and MIT Media Lab.\n",
    "***\n",
    "For more information see [KEMAR HRTF measurements](https://sound.media.mit.edu/resources/KEMAR.html)"
   ]
  },
  {
   "cell_type": "code",
   "execution_count": null,
   "id": "9b59282f-11c0-4625-8202-0c14f7eecb56",
   "metadata": {},
   "outputs": [],
   "source": [
    "# @title HRTF Data\n",
    "# @markdown HRTF data recorded by [(Gardner & Martin, 1994)](#gardner-martin-94)\n",
    "! wget -nc https://sound.media.mit.edu/resources/KEMAR/full.zip"
   ]
  },
  {
   "cell_type": "markdown",
   "id": "3cd458f0-6c5b-4c84-8b90-e472307636aa",
   "metadata": {
    "tags": []
   },
   "source": [
    "## Extracting Data"
   ]
  },
  {
   "cell_type": "markdown",
   "id": "3555d450-3a56-4f6b-b114-6df231c46400",
   "metadata": {},
   "source": [
    "Extract the archived data to the `data/` directory.\n",
    "***\n",
    "**Warning: Overwrites existing files**"
   ]
  },
  {
   "cell_type": "code",
   "execution_count": null,
   "id": "b17a81cc-5c14-47a9-a106-f4524eac3911",
   "metadata": {},
   "outputs": [],
   "source": [
    "# @title Extracting Data\n",
    "# @markdown Extract zipped data to `data/` directory.\n",
    "# @markdown > List of files to unzip\n",
    "zip_files = [\n",
    "             ['beethoven_mp3.zip', 'data/anechoic/beethoven'],\n",
    "             ['mozart_mp3.zip', 'data/anechoic/mozart'],\n",
    "             ['bruckner_mp3.zip', 'data/anechoic/bruckner'],\n",
    "             ['mahler_mp3.zip', 'data/anechoic/mahler'],\n",
    "             ['full.zip', 'data/hrtfs']]\n",
    "# > Unzip each archive to `data/anechoic` directory\n",
    "for z in zip_files:\n",
    "  !unzip -o {z[0]} -d {z[1]}"
   ]
  },
  {
   "cell_type": "markdown",
   "id": "467eb04d-8a62-4484-b715-dcfdf1f7da17",
   "metadata": {},
   "source": [
    "## Dataset Parameters"
   ]
  },
  {
   "cell_type": "markdown",
   "id": "c7ad9649-cd93-4f7e-ae3d-c8f4a9f4e5cc",
   "metadata": {},
   "source": [
    "We need to define the limits for generating random data."
   ]
  },
  {
   "cell_type": "markdown",
   "id": "5424e827-3c9d-4c7a-ac24-995747f260a1",
   "metadata": {},
   "source": [
    "### Random Number Generator Seed"
   ]
  },
  {
   "cell_type": "markdown",
   "id": "779df59d-1893-4a1b-970d-855d75b7653d",
   "metadata": {},
   "source": [
    "We want to generate random data but we do not want to generate data randomly. By providing a `seed` value to a pseudo-random number generator (`RNG`) we are able to generate reproducible random data. RNGs produce pseudo-random numbers but they need a starting number, by specifying the `seed` value we can produce a deterministic string of random numbers. It can be thought of as `lorem ipsum` for data."
   ]
  },
  {
   "cell_type": "code",
   "execution_count": 1,
   "id": "ac2d642f-fde9-4055-a91b-e6b70885a154",
   "metadata": {},
   "outputs": [
    {
     "ename": "ModuleNotFoundError",
     "evalue": "No module named 'ipywidgets'",
     "output_type": "error",
     "traceback": [
      "\u001B[1;31m---------------------------------------------------------------------------\u001B[0m",
      "\u001B[1;31mModuleNotFoundError\u001B[0m                       Traceback (most recent call last)",
      "\u001B[1;32m~\\AppData\\Local\\Temp/ipykernel_17708/1270711882.py\u001B[0m in \u001B[0;36m<module>\u001B[1;34m\u001B[0m\n\u001B[1;32m----> 1\u001B[1;33m \u001B[1;32mfrom\u001B[0m \u001B[0mipywidgets\u001B[0m \u001B[1;32mimport\u001B[0m \u001B[0mIntSlider\u001B[0m\u001B[1;33m\u001B[0m\u001B[1;33m\u001B[0m\u001B[0m\n\u001B[0m\u001B[0;32m      2\u001B[0m \u001B[1;33m\u001B[0m\u001B[0m\n\u001B[0;32m      3\u001B[0m \u001B[0mIntSlider\u001B[0m\u001B[1;33m(\u001B[0m\u001B[0mvalue\u001B[0m\u001B[1;33m=\u001B[0m\u001B[1;36m0\u001B[0m\u001B[1;33m,\u001B[0m \u001B[0mmin\u001B[0m\u001B[1;33m=\u001B[0m\u001B[1;36m0\u001B[0m\u001B[1;33m,\u001B[0m \u001B[0mmax\u001B[0m\u001B[1;33m=\u001B[0m\u001B[1;36m16\u001B[0m\u001B[1;33m,\u001B[0m \u001B[0mstep\u001B[0m\u001B[1;33m=\u001B[0m\u001B[1;36m1\u001B[0m\u001B[1;33m,\u001B[0m \u001B[0mdisabled\u001B[0m\u001B[1;33m=\u001B[0m\u001B[1;32mFalse\u001B[0m\u001B[1;33m,\u001B[0m\u001B[0mreadout\u001B[0m\u001B[1;33m=\u001B[0m\u001B[1;32mTrue\u001B[0m\u001B[1;33m,\u001B[0m \u001B[0mreadout_format\u001B[0m\u001B[1;33m=\u001B[0m\u001B[1;34m\"x\"\u001B[0m\u001B[1;33m)\u001B[0m\u001B[1;33m\u001B[0m\u001B[1;33m\u001B[0m\u001B[0m\n",
      "\u001B[1;31mModuleNotFoundError\u001B[0m: No module named 'ipywidgets'"
     ]
    }
   ],
   "source": [
    "from ipywidgets import IntSlider\n",
    "\n",
    "IntSlider(value=0, min=0, max=16, step=1, disabled=False,readout=True, readout_format=\"x\")"
   ]
  },
  {
   "cell_type": "markdown",
   "id": "fbcea1f4-d323-4a11-80ce-98c05cb757c7",
   "metadata": {
    "tags": []
   },
   "source": [
    "## References"
   ]
  },
  {
   "cell_type": "markdown",
   "id": "257bbc33-1b7d-4e2c-a824-a7945b6efc45",
   "metadata": {},
   "source": [
    "* Gardner, B., & Martin, K. (1994). Hrtf measurements of a kemar dummy-head microphone. MIT Media Lab. Perceptual Computing-Technical Report, 280, 1-7.\n",
    "<a name='gardner-martin-94'><a/>"
   ]
  },
  {
   "cell_type": "markdown",
   "id": "e8dcc08f-1c51-4cd2-833a-451d539d47fc",
   "metadata": {},
   "source": [
    "* Pätynen, J., Pulkki, V., & Lokki, T. (2008). Anechoic recording system for symphony orchestra. Acta Acustica united with Acustica, 94(6), 856-865. \n",
    "<a name='patynen-lokki-08'><a/>"
   ]
  },
  {
   "cell_type": "code",
   "execution_count": null,
   "id": "820a6bba-5b23-463a-9815-37b0a655a393",
   "metadata": {},
   "outputs": [],
   "source": []
  }
 ],
 "metadata": {
  "kernelspec": {
   "display_name": "Python 3 (ipykernel)",
   "language": "python",
   "name": "python3"
  },
  "language_info": {
   "codemirror_mode": {
    "name": "ipython",
    "version": 3
   },
   "file_extension": ".py",
   "mimetype": "text/x-python",
   "name": "python",
   "nbconvert_exporter": "python",
   "pygments_lexer": "ipython3",
   "version": "3.10.1"
  }
 },
 "nbformat": 4,
 "nbformat_minor": 5
}
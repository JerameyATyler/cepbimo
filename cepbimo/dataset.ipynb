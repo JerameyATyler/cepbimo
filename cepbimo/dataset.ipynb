{
 "cells": [
  {
   "cell_type": "markdown",
   "id": "9379ddda-34b4-48dc-8456-1233c83ce06f",
   "metadata": {},
   "source": [
    "# Dataset Generator"
   ]
  },
  {
   "cell_type": "markdown",
   "id": "8ed523a2-908f-4011-b112-7235cd6eee3a",
   "metadata": {},
   "source": [
    "We need to generate a dataset of reflections. To do this we need to gather some data from the internet. Make sure you have already executed the appropriate cells in Cepbimo - Preamble."
   ]
  },
  {
   "cell_type": "markdown",
   "id": "d01e054b-e2aa-4c58-b1fd-e5f3b2d8d376",
   "metadata": {
    "jp-MarkdownHeadingCollapsed": true,
    "tags": []
   },
   "source": [
    "## Data sources"
   ]
  },
  {
   "cell_type": "markdown",
   "id": "8a49ccc6-0576-4274-9505-95ffc949c1c4",
   "metadata": {
    "jp-MarkdownHeadingCollapsed": true,
    "tags": []
   },
   "source": [
    "### Anechoic Data"
   ]
  },
  {
   "cell_type": "markdown",
   "id": "a6a58573-865b-4242-8947-966672725510",
   "metadata": {},
   "source": [
    "In order to generate a dataset of reflections we need to start with anechoic data. A dataset of anechoic orchestral recordings is available thanks to [(Pätynen and Lokki, 2008)](#patynen-lokki-08).\n",
    "***\n",
    "> 1. [Mozart's An aria of Donna Elvira](https://mediatech.aalto.fi/images/research/virtualacoustics/recordings/mozart_mp3.zip)\n",
    ">   - Flute, clarinet, bassoon, french horns (1-2), violin (I), violin (II), viola, cello, contrabass, soprano (soloist)\n",
    "> 2. [Beethoven's Symphony no. 7, I movement, bars 1-53](https://mediatech.aalto.fi/images/research/virtualacoustics/recordings/beethoven_mp3.zip)\n",
    ">   - Flutes (1-2), oboes (1-2), clarinets (1-2), bassoon (1-2), french horns (1-2),\n",
    ">     trumpets (1-3), timpani, violin (I), violin (II), viola, cello, contrabass\n",
    "> 3. [Bruckner's Symphony no. 8, II movement, bars 1-61](https://mediatech.aalto.fi/images/research/virtualacoustics/recordings/bruckner_mp3.zip)\n",
    ">   - Flutes (1-3), oboes (1-3), clarinets (1-3), bassoon (1-3),\n",
    ">     french horns (1-8), trumpets (1-3), trombones (1-3), tuba, timpani,\n",
    ">     violin (I) (two divisi), violin (II) (two divisi), viola (two divisi),\n",
    ">     cello (two divisi), contrabass (two divisi)\n",
    "> 4. [Mahler's Symphony no. 1, IV movement, bars 1-85](https://mediatech.aalto.fi/images/research/virtualacoustics/recordings/mahler_mp3.zip)\n",
    ">   - Piccolo (1-2) (fl1), flutes (1-2) (fl3), oboes (1-4), clarinets (1-4),\n",
    "> bassoon (1-3), french horns (1-7), trumpets (1-4), tuba, timpani,\n",
    "> percussions (1-2), violin I (two divisi), violin II (two divisi),\n",
    "> viola, cello, contrabass\n",
    "***\n",
    "For more information on the anechoic data we use click [this link.](https://research.cs.aalto.fi//acoustics/virtual-acoustics/research/acoustic-measurement-and-analysis/85-anechoic-recordings.html)"
   ]
  },
  {
   "cell_type": "code",
   "execution_count": null,
   "id": "88f69e98-4020-4fbd-b3c0-6715c1ac10c5",
   "metadata": {},
   "outputs": [],
   "source": [
    "# @title Anechoic Data\n",
    "# @markdown Anechoic data recorded by [(Pätynen and Lokki, 2008)](#patynen-lokki-08)\n",
    "# @markdown > Links to anechoic recordings\n",
    "file_links = [\n",
    "              'https://mediatech.aalto.fi/images/research/virtualacoustics/recordings/beethoven_mp3.zip',\n",
    "              'https://mediatech.aalto.fi/images/research/virtualacoustics/recordings/mozart_mp3.zip',\n",
    "              'https://mediatech.aalto.fi/images/research/virtualacoustics/recordings/bruckner_mp3.zip',\n",
    "              'https://mediatech.aalto.fi/images/research/virtualacoustics/recordings/mahler_mp3.zip']\n",
    "# @markdown > Download files if they don't exist\n",
    "for l in file_links:\n",
    "  ! wget -nc {l}"
   ]
  },
  {
   "cell_type": "markdown",
   "id": "b7d01972-4f2d-4299-bc6e-d5a80d6002e5",
   "metadata": {
    "jp-MarkdownHeadingCollapsed": true,
    "tags": []
   },
   "source": [
    "### Head-related Transfer Functions"
   ]
  },
  {
   "cell_type": "markdown",
   "id": "ddd1116c-b2aa-48c7-b994-aa76ccd36625",
   "metadata": {},
   "source": [
    "Next we need a dataset of head-related transfer functions (HRTF). A set of HRTFs is available thanks to [(Gardner & Martin, 1994)](#gardner-martin-94) and MIT Media Lab.\n",
    "***\n",
    "For more information see [KEMAR HRTF measurements](https://sound.media.mit.edu/resources/KEMAR.html)"
   ]
  },
  {
   "cell_type": "code",
   "execution_count": null,
   "id": "9b59282f-11c0-4625-8202-0c14f7eecb56",
   "metadata": {},
   "outputs": [],
   "source": [
    "# @title HRTF Data\n",
    "# @markdown HRTF data recorded by [(Gardner & Martin, 1994)](#gardner-martin-94)\n",
    "! wget -nc https://sound.media.mit.edu/resources/KEMAR/full.zip"
   ]
  },
  {
   "cell_type": "markdown",
   "id": "3cd458f0-6c5b-4c84-8b90-e472307636aa",
   "metadata": {
    "jp-MarkdownHeadingCollapsed": true,
    "tags": []
   },
   "source": [
    "### Extracting Data"
   ]
  },
  {
   "cell_type": "markdown",
   "id": "3555d450-3a56-4f6b-b114-6df231c46400",
   "metadata": {},
   "source": [
    "Extract the archived data to the `data/` directory.\n",
    "***\n",
    "**Warning: Overwrites existing files**"
   ]
  },
  {
   "cell_type": "code",
   "execution_count": null,
   "id": "b17a81cc-5c14-47a9-a106-f4524eac3911",
   "metadata": {},
   "outputs": [],
   "source": [
    "# @title Extracting Data\n",
    "# @markdown Extract zipped data to `data/` directory.\n",
    "# @markdown > List of files to unzip\n",
    "zip_files = [\n",
    "             ['beethoven_mp3.zip', 'data/anechoic/beethoven'],\n",
    "             ['mozart_mp3.zip', 'data/anechoic/mozart'],\n",
    "             ['bruckner_mp3.zip', 'data/anechoic/bruckner'],\n",
    "             ['mahler_mp3.zip', 'data/anechoic/mahler'],\n",
    "             ['full.zip', 'data/hrtfs']]\n",
    "# > Unzip each archive to `data/anechoic` directory\n",
    "for z in zip_files:\n",
    "  !unzip -o {z[0]} -d {z[1]}"
   ]
  },
  {
   "cell_type": "markdown",
   "id": "467eb04d-8a62-4484-b715-dcfdf1f7da17",
   "metadata": {
    "tags": []
   },
   "source": [
    "## Dataset Parameters"
   ]
  },
  {
   "cell_type": "markdown",
   "id": "5c0ae94b-3f41-48b9-91d9-430e3389e536",
   "metadata": {
    "jp-MarkdownHeadingCollapsed": true,
    "tags": []
   },
   "source": [
    "### Random seed"
   ]
  },
  {
   "cell_type": "markdown",
   "id": "1e205cf4-f8be-46e7-8f31-9b448488039c",
   "metadata": {},
   "source": [
    "Pseudo-random number generators (RNG) use seed values to produce sequences of random numbers. By using a seed value we are able to generate a reproducible random dataset. The seed value we use is a hexidecimal number between 0x000000 and 0xffffff. The default seed value can be changed using the slider below."
   ]
  },
  {
   "cell_type": "code",
   "execution_count": 21,
   "id": "150c3dc2-e45b-42cf-8fa2-9df893012648",
   "metadata": {
    "jupyter": {
     "source_hidden": true
    },
    "tags": []
   },
   "outputs": [
    {
     "data": {
      "application/vnd.jupyter.widget-view+json": {
       "model_id": "2521ea03fa4d499fb4bed4fb630c81ec",
       "version_major": 2,
       "version_minor": 0
      },
      "text/plain": [
       "VBox(children=(HBox(children=(Label(value='Set seed value'),), layout=Layout(align_items='center', border='sol…"
      ]
     },
     "metadata": {},
     "output_type": "display_data"
    }
   ],
   "source": [
    "import interactive\n",
    "from notebook import *\n",
    "import matplotlib.pyplot as plt\n",
    "_ = plt.ion();\n",
    "\n",
    "make_seed_picker()"
   ]
  },
  {
   "cell_type": "markdown",
   "id": "df25e961-8876-49d1-ad98-296e8f7c6164",
   "metadata": {
    "jp-MarkdownHeadingCollapsed": true,
    "tags": []
   },
   "source": [
    "### Sample duration"
   ]
  },
  {
   "cell_type": "markdown",
   "id": "dcb30cd9-74df-4f40-b49d-6bfae415d60c",
   "metadata": {},
   "source": [
    "The anechoic data is longer than necessary. The sample duration has a default value of 20 and determines the length of each sample in seconds. Use the slider below to change the default value."
   ]
  },
  {
   "cell_type": "code",
   "execution_count": 23,
   "id": "c0750674-db74-47c3-a112-8a44cc0c683e",
   "metadata": {
    "jupyter": {
     "source_hidden": true
    },
    "tags": []
   },
   "outputs": [
    {
     "data": {
      "application/vnd.jupyter.widget-view+json": {
       "model_id": "12e4d24950f64b07a38fa9922ef4d54c",
       "version_major": 2,
       "version_minor": 0
      },
      "text/plain": [
       "VBox(children=(HBox(children=(Label(value='Set sample duration in seconds'),), layout=Layout(align_items='cent…"
      ]
     },
     "metadata": {},
     "output_type": "display_data"
    }
   ],
   "source": [
    "make_duration_picker()"
   ]
  },
  {
   "cell_type": "markdown",
   "id": "4e2bc49c-6539-4f56-a96a-22261ecdd6de",
   "metadata": {
    "jp-MarkdownHeadingCollapsed": true,
    "tags": []
   },
   "source": [
    "### HRTF"
   ]
  },
  {
   "cell_type": "markdown",
   "id": "f6b49c37-1058-447e-a8aa-275f3c18fe28",
   "metadata": {},
   "source": [
    "Head-related transfer functions (HRTF) describe the relationship between the direction a person is looking and the perceived direction of a sound in terms of zenith, or elevation, and azimuth. By default HRTFs range in zenith from -30$^{\\circ}$ to 90$^{\\circ}$ and azimuths range from 0$^{\\circ}$ to 360$^{\\circ}$. Use the sliders below to adjust the zenith and azimuth ranges."
   ]
  },
  {
   "cell_type": "code",
   "execution_count": 4,
   "id": "ac2d642f-fde9-4055-a91b-e6b70885a154",
   "metadata": {
    "jupyter": {
     "source_hidden": true
    },
    "tags": []
   },
   "outputs": [
    {
     "data": {
      "application/vnd.jupyter.widget-view+json": {
       "model_id": "d3e41700215449e493aa2b47cd05743f",
       "version_major": 2,
       "version_minor": 0
      },
      "text/plain": [
       "VBox(children=(HBox(children=(VBox(children=(HBox(children=(Label(value='Set zenith range'),), layout=Layout(a…"
      ]
     },
     "metadata": {},
     "output_type": "display_data"
    }
   ],
   "source": [
    "make_hrtf_picker()"
   ]
  },
  {
   "cell_type": "markdown",
   "id": "aec6c1dd-5ae5-41a0-9b8e-84d8a41054fa",
   "metadata": {
    "jp-MarkdownHeadingCollapsed": true,
    "tags": []
   },
   "source": [
    "### Reflections"
   ]
  },
  {
   "cell_type": "markdown",
   "id": "b7a2c52c-903e-4f42-928b-f121c24d22f7",
   "metadata": {},
   "source": [
    "A reflection is defined by amplitude, delay, zenith, and azimuth. The zenith and azimuth were set in the HRTF section while the amplitude is set to the range 0-1. By default there will be between 4-8 reflections per sample with default delays in the range 1-60ms. The reflection count and delay ranges can be adjusted below."
   ]
  },
  {
   "cell_type": "code",
   "execution_count": 5,
   "id": "e478ef8b-747b-4325-bb81-d8607d2745ba",
   "metadata": {
    "jupyter": {
     "source_hidden": true
    },
    "tags": []
   },
   "outputs": [
    {
     "data": {
      "application/vnd.jupyter.widget-view+json": {
       "model_id": "1bc6d30584f44d98bd9215f1cd4b56ac",
       "version_major": 2,
       "version_minor": 0
      },
      "text/plain": [
       "VBox(children=(HBox(children=(Label(value='Set reflection count and delay limits'),), layout=Layout(align_item…"
      ]
     },
     "metadata": {},
     "output_type": "display_data"
    }
   ],
   "source": [
    "make_reflection_picker()"
   ]
  },
  {
   "cell_type": "markdown",
   "id": "f5b356e4-7369-4afe-9872-829110878e77",
   "metadata": {
    "jp-MarkdownHeadingCollapsed": true,
    "tags": []
   },
   "source": [
    "### Reverberation"
   ]
  },
  {
   "cell_type": "markdown",
   "id": "9d2d3b46-feda-42fe-90cd-c3e22c962d20",
   "metadata": {},
   "source": [
    "Reverberation is defined by amplitude, delay, and time. Reverberation and refelction share the properties delay and amplitude while time represents the duration of reverberation in seconds. By default reverberation can have a duration between 1-8s. To change the reverberation time adjust the slider below"
   ]
  },
  {
   "cell_type": "code",
   "execution_count": 6,
   "id": "b72f301d-8297-4d91-a6f0-221016ef3449",
   "metadata": {
    "jupyter": {
     "source_hidden": true
    },
    "tags": []
   },
   "outputs": [
    {
     "data": {
      "application/vnd.jupyter.widget-view+json": {
       "model_id": "b1816a17def9466ba71707501d1e6d85",
       "version_major": 2,
       "version_minor": 0
      },
      "text/plain": [
       "VBox(children=(HBox(children=(Label(value='Set reverberation time in seconds'),), layout=Layout(align_items='c…"
      ]
     },
     "metadata": {},
     "output_type": "display_data"
    }
   ],
   "source": [
    "make_reverberation_picker()"
   ]
  },
  {
   "cell_type": "markdown",
   "id": "d489f7f7-28cc-4daa-8a41-d69fe85ffea0",
   "metadata": {
    "jp-MarkdownHeadingCollapsed": true,
    "tags": []
   },
   "source": [
    "### Sample count"
   ]
  },
  {
   "cell_type": "markdown",
   "id": "73572389-6f88-4cf7-9646-a7d236492025",
   "metadata": {},
   "source": [
    "Lastly we need to determine how many samples to generate. You can generate up to 10 samples by adjusting the slider."
   ]
  },
  {
   "cell_type": "code",
   "execution_count": 7,
   "id": "820a6bba-5b23-463a-9815-37b0a655a393",
   "metadata": {
    "jupyter": {
     "source_hidden": true
    },
    "tags": []
   },
   "outputs": [
    {
     "data": {
      "application/vnd.jupyter.widget-view+json": {
       "model_id": "a86bd19354014169aef370c8217998dc",
       "version_major": 2,
       "version_minor": 0
      },
      "text/plain": [
       "VBox(children=(HBox(children=(Label(value='Set the number of samples'),), layout=Layout(align_items='center', …"
      ]
     },
     "metadata": {},
     "output_type": "display_data"
    }
   ],
   "source": [
    "make_count_picker()"
   ]
  },
  {
   "cell_type": "markdown",
   "id": "a9a7371f-e511-48bb-8e98-ede8f77490f6",
   "metadata": {
    "jp-MarkdownHeadingCollapsed": true,
    "tags": []
   },
   "source": [
    "### Review parameters"
   ]
  },
  {
   "cell_type": "markdown",
   "id": "876cbfae-e21d-4576-aa4a-7a2a0a2b3c9c",
   "metadata": {},
   "source": [
    "Review the parameters and the sample data produced. To edit parameters adjust the appropriate slider then rerun the cell below to update review. When you are ready press the `generate` button."
   ]
  },
  {
   "cell_type": "code",
   "execution_count": 8,
   "id": "ce797518-8cbe-4877-88c7-99111ed86a95",
   "metadata": {
    "jupyter": {
     "source_hidden": true
    },
    "tags": []
   },
   "outputs": [
    {
     "data": {
      "application/vnd.jupyter.widget-view+json": {
       "model_id": "a6f8849da35843f692ca755e20e410ec",
       "version_major": 2,
       "version_minor": 0
      },
      "text/plain": [
       "VBox(children=(HBox(children=(HBox(children=(Label(value='Seed value: 0xec0ec0'),), layout=Layout(align_items=…"
      ]
     },
     "metadata": {},
     "output_type": "display_data"
    }
   ],
   "source": [
    "make_reviewer()"
   ]
  },
  {
   "cell_type": "markdown",
   "id": "7b8ca7a2-c2f7-4b05-ad71-b3c228d34c8e",
   "metadata": {},
   "source": [
    "### Generate dataset"
   ]
  },
  {
   "cell_type": "code",
   "execution_count": 32,
   "id": "1d78f172-c967-4a07-9a31-640cf7e841dd",
   "metadata": {
    "jupyter": {
     "source_hidden": true
    },
    "scrolled": true,
    "tags": []
   },
   "outputs": [
    {
     "name": "stdout",
     "output_type": "stream",
     "text": [
      "Start plotting samples:\n",
      "Finished plotting samples:\n",
      "\n",
      "Start mixing parts into signals:\n",
      "Finished mixing parts into signals:\n",
      "\n",
      "Start plotting signals:\n",
      "Finished plotting signals:\n",
      "\n",
      "Start applying HRTFs:\n",
      "Finished applying HRTFs:\n",
      "\n",
      "Start plotting HRTFs:\n",
      "Finished plotting HRTFs:\n",
      "\n",
      "Start applying reflections:\n",
      "Finished applying reflections:\n",
      "\n",
      "Start plotting reflections:\n",
      "Finished plotting reflections:\n",
      "\n",
      "Start applying reverberation:\n",
      "Finished applying reverberation:\n",
      "\n",
      "Start plotting reverberation:\n",
      "Finished plotting reverberation:\n",
      "\n",
      "Start summing signals:\n",
      "Finished summing signals:\n",
      "\n",
      "Start plotting summation:\n",
      "Finished plotting summation:\n",
      "\n",
      "Start adjusting signal-to-noise ratio:\n",
      "Finished adjusting signal-to-noise ratio:\n",
      "\n",
      "Start plotting noise:\n",
      "Finished plotting noise:\n",
      "\n",
      "Start trimming samples:\n",
      "Finished trimming samples:\n",
      "\n",
      "Start plotting trimmed:\n",
      "Finished plotting trimmed:\n",
      "\n",
      "Start plotting cepstrums:\n",
      "Finished plotting cepstrums:\n",
      "\n",
      "Start plotting RIR:\n",
      "Finished plotting RIR:\n",
      "\n",
      "Start generating Cepbimo:\n",
      "Finished generating Cepbimo:\n",
      "\n",
      "Start plotting Cepbimo:\n",
      "Finished plotting Cepbimo:\n",
      "\n"
     ]
    },
    {
     "data": {
      "text/html": [
       "<div>\n",
       "<style scoped>\n",
       "    .dataframe tbody tr th:only-of-type {\n",
       "        vertical-align: middle;\n",
       "    }\n",
       "\n",
       "    .dataframe tbody tr th {\n",
       "        vertical-align: top;\n",
       "    }\n",
       "\n",
       "    .dataframe thead th {\n",
       "        text-align: right;\n",
       "    }\n",
       "</style>\n",
       "<table border=\"1\" class=\"dataframe\">\n",
       "  <thead>\n",
       "    <tr style=\"text-align: right;\">\n",
       "      <th></th>\n",
       "      <th>zenith</th>\n",
       "      <th>azimuth</th>\n",
       "      <th>composer</th>\n",
       "      <th>part_count</th>\n",
       "      <th>parts</th>\n",
       "      <th>offset</th>\n",
       "      <th>duration</th>\n",
       "      <th>reverb_time</th>\n",
       "      <th>reverb_delay</th>\n",
       "      <th>reverb_amplitude</th>\n",
       "      <th>...</th>\n",
       "      <th>reflection_zenith</th>\n",
       "      <th>reflection_azimuth</th>\n",
       "      <th>filepath</th>\n",
       "      <th>signal</th>\n",
       "      <th>reflections</th>\n",
       "      <th>reverberation</th>\n",
       "      <th>summation</th>\n",
       "      <th>noise</th>\n",
       "      <th>sample</th>\n",
       "      <th>cepbimo</th>\n",
       "    </tr>\n",
       "  </thead>\n",
       "  <tbody>\n",
       "    <tr>\n",
       "      <th>0</th>\n",
       "      <td>50</td>\n",
       "      <td>80</td>\n",
       "      <td>mahler</td>\n",
       "      <td>20</td>\n",
       "      <td>[data\\anechoic\\mahler\\mahler_corno2_6.mp3, dat...</td>\n",
       "      <td>105937</td>\n",
       "      <td>20</td>\n",
       "      <td>3</td>\n",
       "      <td>37</td>\n",
       "      <td>0.029793</td>\n",
       "      <td>...</td>\n",
       "      <td>[60, 10, 30, 50]</td>\n",
       "      <td>[40, 270, 72, 256]</td>\n",
       "      <td>mahler_p20_a080_e050</td>\n",
       "      <td>(((&lt;pydub.audio_segment.AudioSegment object at...</td>\n",
       "      <td>(((&lt;pydub.audio_segment.AudioSegment object at...</td>\n",
       "      <td>(((&lt;pydub.audio_segment.AudioSegment object at...</td>\n",
       "      <td>(((&lt;pydub.audio_segment.AudioSegment object at...</td>\n",
       "      <td>(((&lt;pydub.audio_segment.AudioSegment object at...</td>\n",
       "      <td>(((&lt;pydub.audio_segment.AudioSegment object at...</td>\n",
       "      <td>&lt;Cepbimo.Cepbimo object at 0x0000025DD5E2CFA0&gt;</td>\n",
       "    </tr>\n",
       "  </tbody>\n",
       "</table>\n",
       "<p>1 rows × 23 columns</p>\n",
       "</div>"
      ],
      "text/plain": [
       "   zenith  azimuth composer  part_count  \\\n",
       "0      50       80   mahler          20   \n",
       "\n",
       "                                               parts  offset  duration  \\\n",
       "0  [data\\anechoic\\mahler\\mahler_corno2_6.mp3, dat...  105937        20   \n",
       "\n",
       "   reverb_time  reverb_delay  reverb_amplitude  ...  reflection_zenith  \\\n",
       "0            3            37          0.029793  ...   [60, 10, 30, 50]   \n",
       "\n",
       "   reflection_azimuth              filepath  \\\n",
       "0  [40, 270, 72, 256]  mahler_p20_a080_e050   \n",
       "\n",
       "                                              signal  \\\n",
       "0  (((<pydub.audio_segment.AudioSegment object at...   \n",
       "\n",
       "                                         reflections  \\\n",
       "0  (((<pydub.audio_segment.AudioSegment object at...   \n",
       "\n",
       "                                       reverberation  \\\n",
       "0  (((<pydub.audio_segment.AudioSegment object at...   \n",
       "\n",
       "                                           summation  \\\n",
       "0  (((<pydub.audio_segment.AudioSegment object at...   \n",
       "\n",
       "                                               noise  \\\n",
       "0  (((<pydub.audio_segment.AudioSegment object at...   \n",
       "\n",
       "                                              sample  \\\n",
       "0  (((<pydub.audio_segment.AudioSegment object at...   \n",
       "\n",
       "                                          cepbimo  \n",
       "0  <Cepbimo.Cepbimo object at 0x0000025DD5E2CFA0>  \n",
       "\n",
       "[1 rows x 23 columns]"
      ]
     },
     "execution_count": 32,
     "metadata": {},
     "output_type": "execute_result"
    }
   ],
   "source": [
    "def generate_data():\n",
    "    from data_generator import DataGenerator\n",
    "    from RNG import RNG\n",
    "    \n",
    "    rng = RNG(\n",
    "        seed = dataset_parameters['seed'],\n",
    "        duration = dataset_parameters['duration'],\n",
    "        delay_limits = dataset_parameters['delay_limits'],\n",
    "        time_limits = dataset_parameters['time_limits'],\n",
    "        reflection_limits= dataset_parameters['reflection_limits'],\n",
    "        zenith_limits = dataset_parameters['zenith_limits'],\n",
    "        azimuth_limits = dataset_parameters['azimuth_limits'])\n",
    "    \n",
    "    dg = DataGenerator(dataset_parameters['count'], rng).generate()\n",
    "    return dg\n",
    "    \n",
    "    \n",
    "df = generate_data()\n",
    "df"
   ]
  },
  {
   "cell_type": "markdown",
   "id": "fbcea1f4-d323-4a11-80ce-98c05cb757c7",
   "metadata": {
    "tags": []
   },
   "source": [
    "## References"
   ]
  },
  {
   "cell_type": "markdown",
   "id": "257bbc33-1b7d-4e2c-a824-a7945b6efc45",
   "metadata": {},
   "source": [
    "* Gardner, B., & Martin, K. (1994). Hrtf measurements of a kemar dummy-head microphone. MIT Media Lab. Perceptual Computing-Technical Report, 280, 1-7.\n",
    "<a name='gardner-martin-94'><a/>"
   ]
  },
  {
   "cell_type": "markdown",
   "id": "e8dcc08f-1c51-4cd2-833a-451d539d47fc",
   "metadata": {},
   "source": [
    "* Pätynen, J., Pulkki, V., & Lokki, T. (2008). Anechoic recording system for symphony orchestra. Acta Acustica united with Acustica, 94(6), 856-865. \n",
    "<a name='patynen-lokki-08'><a/>"
   ]
  }
 ],
 "metadata": {
  "kernelspec": {
   "display_name": "Python (cepbimo)",
   "language": "python",
   "name": "cepbimo"
  },
  "language_info": {
   "codemirror_mode": {
    "name": "ipython",
    "version": 3
   },
   "file_extension": ".py",
   "mimetype": "text/x-python",
   "name": "python",
   "nbconvert_exporter": "python",
   "pygments_lexer": "ipython3",
   "version": "3.9.7"
  },
  "toc-autonumbering": false,
  "toc-showcode": false,
  "toc-showmarkdowntxt": false,
  "widgets": {
   "application/vnd.jupyter.widget-state+json": {
    "state": {
     "0004451782e041378effefe0f450e09e": {
      "model_module": "@jupyter-widgets/base",
      "model_module_version": "1.2.0",
      "model_name": "LayoutModel",
      "state": {}
     },
     "013c481a59554ff0b49a037f66a2178a": {
      "model_module": "@jupyter-widgets/base",
      "model_module_version": "1.2.0",
      "model_name": "LayoutModel",
      "state": {
       "align_items": "center",
       "display": "flex",
       "justify_content": "space-between"
      }
     },
     "030151ce41974b41ab97ce9b09ca3184": {
      "model_module": "@jupyter-widgets/base",
      "model_module_version": "1.2.0",
      "model_name": "LayoutModel",
      "state": {}
     },
     "054229bd339940da823b57a7d0dee1be": {
      "model_module": "@jupyter-widgets/base",
      "model_module_version": "1.2.0",
      "model_name": "LayoutModel",
      "state": {}
     },
     "0586ad54423943c8b45d7d60b44ac6ea": {
      "model_module": "@jupyter-widgets/controls",
      "model_module_version": "1.5.0",
      "model_name": "HBoxModel",
      "state": {
       "children": [
        "IPY_MODEL_725d996a59cb4858b73d634de6eb9f4f"
       ],
       "layout": "IPY_MODEL_75475fdbe51041e1be066577f26251ef"
      }
     },
     "06628259cf054a2e93fbdfb7d2616e25": {
      "model_module": "@jupyter-widgets/controls",
      "model_module_version": "1.5.0",
      "model_name": "HBoxModel",
      "state": {
       "children": [
        "IPY_MODEL_c78424cd36794c38bfb80dec2cd8d1c3"
       ],
       "layout": "IPY_MODEL_a8ec85d71dab453c903824820b6c243e"
      }
     },
     "0774bcf28fa14ba28d89166ac16ba278": {
      "model_module": "@jupyter-widgets/output",
      "model_module_version": "1.0.0",
      "model_name": "OutputModel",
      "state": {
       "layout": "IPY_MODEL_959d5484cf63480583c24c6c639d31f0"
      }
     },
     "0865c3d2878944a293162a3292318fbd": {
      "model_module": "@jupyter-widgets/controls",
      "model_module_version": "1.5.0",
      "model_name": "VBoxModel",
      "state": {
       "_dom_classes": [
        "widget-interact"
       ],
       "children": [
        "IPY_MODEL_cb34723235d8418a9791a1e8dbfa025b",
        "IPY_MODEL_739f2e28e94c4eb4b573fdb8fa237f51"
       ],
       "layout": "IPY_MODEL_7479254de50a4adb8b94348274d1c754"
      }
     },
     "09cb95c3504d42a1a624e454f50d2cd4": {
      "model_module": "@jupyter-widgets/controls",
      "model_module_version": "1.5.0",
      "model_name": "SliderStyleModel",
      "state": {
       "description_width": ""
      }
     },
     "0a562e43fafc45abbbb963c6e9e1a871": {
      "model_module": "@jupyter-widgets/base",
      "model_module_version": "1.2.0",
      "model_name": "LayoutModel",
      "state": {
       "align_items": "center",
       "border": "solid thin white",
       "display": "flex",
       "justify_content": "space-between"
      }
     },
     "0abfd4baec944d4c881b4ecb59a8b718": {
      "model_module": "@jupyter-widgets/controls",
      "model_module_version": "1.5.0",
      "model_name": "LabelModel",
      "state": {
       "layout": "IPY_MODEL_e27f420882894b258576e9aa087fc8be",
       "style": "IPY_MODEL_a16db08ca5ad41809e32109f7cb0891a",
       "value": "Zenith range: -40$^{\\circ}$  -  90$^{\\circ}$"
      }
     },
     "0b535c5201754ba98d04e5a11dc64291": {
      "model_module": "@jupyter-widgets/controls",
      "model_module_version": "1.5.0",
      "model_name": "SliderStyleModel",
      "state": {
       "description_width": ""
      }
     },
     "0b65e84baeb440ab9741e4a24b20d4b9": {
      "model_module": "@jupyter-widgets/base",
      "model_module_version": "1.2.0",
      "model_name": "LayoutModel",
      "state": {
       "align_items": "center",
       "border": "solid thin white",
       "display": "flex",
       "justify_content": "space-between"
      }
     },
     "0c46766c720049ae8f020775d6799e69": {
      "model_module": "@jupyter-widgets/controls",
      "model_module_version": "1.5.0",
      "model_name": "VBoxModel",
      "state": {
       "_dom_classes": [
        "widget-interact"
       ],
       "children": [
        "IPY_MODEL_842f2b377fc34ef186cbbe573eceecb1",
        "IPY_MODEL_428cdf262e61486ba8391b87e1e3f9de",
        "IPY_MODEL_65f576f0aedd4c0b84f18fdc15aab292"
       ],
       "layout": "IPY_MODEL_0004451782e041378effefe0f450e09e"
      }
     },
     "0c926f9c49bf4fca8be92d700046c387": {
      "model_module": "@jupyter-widgets/controls",
      "model_module_version": "1.5.0",
      "model_name": "VBoxModel",
      "state": {
       "children": [
        "IPY_MODEL_21569acf7f754b5ca14ac23ae3bdcd16",
        "IPY_MODEL_acf79dca83fb4a41aaf6ff86c74c1ebb"
       ],
       "layout": "IPY_MODEL_d1fc5254cf194b89b979217cdf9b8946"
      }
     },
     "0ed222fa123841c3b9f66e4d04042d39": {
      "model_module": "@jupyter-widgets/controls",
      "model_module_version": "1.5.0",
      "model_name": "DescriptionStyleModel",
      "state": {
       "description_width": ""
      }
     },
     "12e4d24950f64b07a38fa9922ef4d54c": {
      "model_module": "@jupyter-widgets/controls",
      "model_module_version": "1.5.0",
      "model_name": "VBoxModel",
      "state": {
       "children": [
        "IPY_MODEL_22836d322fb645b7b7d46c7c340b54b7",
        "IPY_MODEL_9c22c0284d664b08ac6fa71c1cb98743"
       ],
       "layout": "IPY_MODEL_c70bbb7b88c74e87a2fa0880e5268994"
      }
     },
     "141c5fb81d4c40789b4d8685bb72a8ef": {
      "model_module": "@jupyter-widgets/base",
      "model_module_version": "1.2.0",
      "model_name": "LayoutModel",
      "state": {
       "align_items": "center",
       "border": "solid thin white",
       "display": "flex",
       "justify_content": "space-between"
      }
     },
     "15025be05a694704a41465a613798459": {
      "model_module": "@jupyter-widgets/base",
      "model_module_version": "1.2.0",
      "model_name": "LayoutModel",
      "state": {}
     },
     "16fae8ae28204cbf80495ad70dacafeb": {
      "model_module": "@jupyter-widgets/controls",
      "model_module_version": "1.5.0",
      "model_name": "SliderStyleModel",
      "state": {
       "description_width": ""
      }
     },
     "179bd00a324243d28b09c9a1583e60e5": {
      "model_module": "@jupyter-widgets/base",
      "model_module_version": "1.2.0",
      "model_name": "LayoutModel",
      "state": {
       "align_items": "center",
       "border": "solid thin white",
       "display": "flex",
       "justify_content": "space-between"
      }
     },
     "18124141d46f4a289a481209aaf0c46f": {
      "model_module": "@jupyter-widgets/base",
      "model_module_version": "1.2.0",
      "model_name": "LayoutModel",
      "state": {
       "align_items": "center",
       "border": "solid thin white",
       "display": "flex",
       "justify_content": "space-between"
      }
     },
     "18c9a58135ab409a910f23eb394bd5e9": {
      "model_module": "@jupyter-widgets/base",
      "model_module_version": "1.2.0",
      "model_name": "LayoutModel",
      "state": {}
     },
     "19a0424474524987bcfb958caffc73f5": {
      "model_module": "@jupyter-widgets/controls",
      "model_module_version": "1.5.0",
      "model_name": "VBoxModel",
      "state": {
       "children": [
        "IPY_MODEL_afbafe4efc144d2c9e5a01370f85007b",
        "IPY_MODEL_846b434f306d4245a71e86cdac4bae4f"
       ],
       "layout": "IPY_MODEL_c331a4b7912142f9850a823bad86c84e"
      }
     },
     "1bc6d30584f44d98bd9215f1cd4b56ac": {
      "model_module": "@jupyter-widgets/controls",
      "model_module_version": "1.5.0",
      "model_name": "VBoxModel",
      "state": {
       "children": [
        "IPY_MODEL_3d6f06d376a04a9dbc6c0de7f0df8d5e",
        "IPY_MODEL_f6547ffecf344ba58562b66996ef5376"
       ],
       "layout": "IPY_MODEL_b1d65a06ab0a496d8d40b325dc7a503b"
      }
     },
     "1e770907a7514c5f9a0e4cd8139d225e": {
      "model_module": "@jupyter-widgets/base",
      "model_module_version": "1.2.0",
      "model_name": "LayoutModel",
      "state": {
       "align_items": "center",
       "border": "solid thin white",
       "display": "flex",
       "justify_content": "space-between"
      }
     },
     "21569acf7f754b5ca14ac23ae3bdcd16": {
      "model_module": "@jupyter-widgets/controls",
      "model_module_version": "1.5.0",
      "model_name": "HBoxModel",
      "state": {
       "children": [
        "IPY_MODEL_5a557790bef948b78b270becad49fe1e"
       ],
       "layout": "IPY_MODEL_18124141d46f4a289a481209aaf0c46f"
      }
     },
     "215e84ee81404e60815a68072f790c27": {
      "model_module": "@jupyter-widgets/controls",
      "model_module_version": "1.5.0",
      "model_name": "IntRangeSliderModel",
      "state": {
       "_model_name": "IntRangeSliderModel",
       "_view_name": "IntRangeSliderView",
       "continuous_update": false,
       "description": "time",
       "layout": "IPY_MODEL_b8803b31f88948c787e92a19ced89756",
       "max": 8,
       "min": 1,
       "style": "IPY_MODEL_678bb94d0f8043c9a3a6e66ab45002d7",
       "value": [
        1,
        8
       ]
      }
     },
     "21d67fa8a11f468a82efa1f3027104dd": {
      "model_module": "@jupyter-widgets/output",
      "model_module_version": "1.0.0",
      "model_name": "OutputModel",
      "state": {
       "layout": "IPY_MODEL_89bd6d5576eb44109d321aa043b332a0",
       "outputs": [
        {
         "name": "stdout",
         "output_type": "stream",
         "text": "First 5 random floats for seed:\n\t0xec0ebf:[0.13, 0.66, 0.84, 0.79, 0.22]\n\t0xec0ec0:[0.49, 0.20, 0.06, 0.72, 0.29]\n\t0xec0ec1:[0.50, 0.97, 0.52, 0.84, 0.30]\n"
        }
       ]
      }
     },
     "22836d322fb645b7b7d46c7c340b54b7": {
      "model_module": "@jupyter-widgets/controls",
      "model_module_version": "1.5.0",
      "model_name": "HBoxModel",
      "state": {
       "children": [
        "IPY_MODEL_789c0013eeb14c3ea18e20c42b343295"
       ],
       "layout": "IPY_MODEL_8ff29251ffaa408d8c50e176f1eef665"
      }
     },
     "22b6f17415af4a2483c22881dd2ef77f": {
      "model_module": "@jupyter-widgets/base",
      "model_module_version": "1.2.0",
      "model_name": "LayoutModel",
      "state": {
       "align_items": "center",
       "border": "solid thin white",
       "display": "flex",
       "justify_content": "space-between"
      }
     },
     "23475a45756e4626be2212c796f74fcd": {
      "model_module": "@jupyter-widgets/controls",
      "model_module_version": "1.5.0",
      "model_name": "HBoxModel",
      "state": {
       "children": [
        "IPY_MODEL_4f8d0c20d9a24a9a89ae365bd6c3b9aa"
       ],
       "layout": "IPY_MODEL_4a4b1e223eb6402e899283df167f500e"
      }
     },
     "23e90bb48b0b44a2aee0a4e9b5677eb3": {
      "model_module": "@jupyter-widgets/controls",
      "model_module_version": "1.5.0",
      "model_name": "SliderStyleModel",
      "state": {
       "description_width": ""
      }
     },
     "247ce4ea9f8e41cd8144f02b171b080c": {
      "model_module": "@jupyter-widgets/controls",
      "model_module_version": "1.5.0",
      "model_name": "IntSliderModel",
      "state": {
       "description": "Seed",
       "layout": "IPY_MODEL_f5243b9adb374709b2f23c1c5aa960b4",
       "max": 16777215,
       "readout_format": "x",
       "style": "IPY_MODEL_3cdad65175424403908d8cb1e554c4a1",
       "value": 15470272
      }
     },
     "2521ea03fa4d499fb4bed4fb630c81ec": {
      "model_module": "@jupyter-widgets/controls",
      "model_module_version": "1.5.0",
      "model_name": "VBoxModel",
      "state": {
       "children": [
        "IPY_MODEL_6cb064aeaf7f437e8747d76bb556f90a",
        "IPY_MODEL_369ec8d90a1445bf947c0c425d0caebe"
       ],
       "layout": "IPY_MODEL_72a4fda08fb4415582a23fe9352610eb"
      }
     },
     "252b7505a34a47ff87920914e3b3a948": {
      "model_module": "@jupyter-widgets/controls",
      "model_module_version": "1.5.0",
      "model_name": "VBoxModel",
      "state": {
       "children": [
        "IPY_MODEL_f5ac6d0eed944cc2958029e52bed596a",
        "IPY_MODEL_fe9ac899f8db415397b2d3a07804c5d4"
       ],
       "layout": "IPY_MODEL_51c1a498734145a580db2ff4c03aa826"
      }
     },
     "25c4c490b8c64a2a949181dcf3a7fa7e": {
      "model_module": "@jupyter-widgets/base",
      "model_module_version": "1.2.0",
      "model_name": "LayoutModel",
      "state": {}
     },
     "283e6b907f904366989acc65f9cca840": {
      "model_module": "@jupyter-widgets/base",
      "model_module_version": "1.2.0",
      "model_name": "LayoutModel",
      "state": {}
     },
     "2984bf199de440a680e0264018e13ae8": {
      "model_module": "@jupyter-widgets/controls",
      "model_module_version": "1.5.0",
      "model_name": "DescriptionStyleModel",
      "state": {
       "description_width": ""
      }
     },
     "29b3c7318d2243eaac52ef75756bde8b": {
      "model_module": "@jupyter-widgets/output",
      "model_module_version": "1.0.0",
      "model_name": "OutputModel",
      "state": {
       "layout": "IPY_MODEL_cbe183f5d079422a8c2d72e67601ba10",
       "outputs": [
        {
         "data": {
          "image/png": "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\n",
          "text/plain": "<Figure size 1080x360 with 3 Axes>"
         },
         "metadata": {},
         "output_type": "display_data"
        }
       ]
      }
     },
     "2a95267f39ed47c28c770226025a0565": {
      "model_module": "@jupyter-widgets/controls",
      "model_module_version": "1.5.0",
      "model_name": "HBoxModel",
      "state": {
       "children": [
        "IPY_MODEL_4ccc2c86bee64ad2a17a3a21d3dc92cb"
       ],
       "layout": "IPY_MODEL_aeef94b052bd49b699c428599369936c"
      }
     },
     "2b61963dd91447a989883d68dcc36325": {
      "model_module": "@jupyter-widgets/base",
      "model_module_version": "1.2.0",
      "model_name": "LayoutModel",
      "state": {
       "align_items": "center",
       "border": "solid thin white",
       "display": "flex",
       "justify_content": "space-between"
      }
     },
     "2c1f712c5ed649bd9bb6183f1cc4c147": {
      "model_module": "@jupyter-widgets/base",
      "model_module_version": "1.2.0",
      "model_name": "LayoutModel",
      "state": {
       "align_items": "center",
       "display": "flex",
       "justify_content": "space-between"
      }
     },
     "2ea81b8e597f40128f828a98d1aa10b6": {
      "model_module": "@jupyter-widgets/base",
      "model_module_version": "1.2.0",
      "model_name": "LayoutModel",
      "state": {}
     },
     "303d8b3d74c64340ad33dcdffa9b7114": {
      "model_module": "@jupyter-widgets/controls",
      "model_module_version": "1.5.0",
      "model_name": "LabelModel",
      "state": {
       "layout": "IPY_MODEL_36bc3fe1982d441a8b55ad1e68ffcd06",
       "style": "IPY_MODEL_b7da616e3fac4e3cb577006024567551",
       "value": "Azimuth range: 0$^{\\circ}$  -  355$^{\\circ}$"
      }
     },
     "30fad03bd1324f189da7088d4c0cdff6": {
      "model_module": "@jupyter-widgets/controls",
      "model_module_version": "1.5.0",
      "model_name": "LabelModel",
      "state": {
       "layout": "IPY_MODEL_b09d6ace9aad4b65a6fb0bf5be45e211",
       "style": "IPY_MODEL_591c859529344bb3b51ae65498ec4861",
       "value": "Sample duration: 20s"
      }
     },
     "31330aca1bdd4561933b3aba32949caf": {
      "model_module": "@jupyter-widgets/controls",
      "model_module_version": "1.5.0",
      "model_name": "VBoxModel",
      "state": {
       "children": [
        "IPY_MODEL_b33e6864371d4522a69cfeda1fb935b4"
       ],
       "layout": "IPY_MODEL_aab7f07150fd41db8cc898db30c0e6cc"
      }
     },
     "3516bf5497aa4c86a28cfb63d2d3edee": {
      "model_module": "@jupyter-widgets/controls",
      "model_module_version": "1.5.0",
      "model_name": "VBoxModel",
      "state": {
       "children": [
        "IPY_MODEL_b6bb67f1aa274786a2103f5b296c6ebd",
        "IPY_MODEL_94d135692f5d498785f998b25a18fe27"
       ],
       "layout": "IPY_MODEL_cc99b7d62b644e03bfc83e6b31ee5ac3"
      }
     },
     "35f40cfb4aa6433ba55c557b8ffc5276": {
      "model_module": "@jupyter-widgets/base",
      "model_module_version": "1.2.0",
      "model_name": "LayoutModel",
      "state": {}
     },
     "362369633ccd42fea15e8e12c8c97f8e": {
      "model_module": "@jupyter-widgets/base",
      "model_module_version": "1.2.0",
      "model_name": "LayoutModel",
      "state": {
       "align_items": "center",
       "display": "flex",
       "justify_content": "space-between"
      }
     },
     "369ec8d90a1445bf947c0c425d0caebe": {
      "model_module": "@jupyter-widgets/controls",
      "model_module_version": "1.5.0",
      "model_name": "HBoxModel",
      "state": {
       "children": [
        "IPY_MODEL_7f3d1563e7cb40ceba5bbd4b4974e218"
       ],
       "layout": "IPY_MODEL_362369633ccd42fea15e8e12c8c97f8e"
      }
     },
     "36bc3fe1982d441a8b55ad1e68ffcd06": {
      "model_module": "@jupyter-widgets/base",
      "model_module_version": "1.2.0",
      "model_name": "LayoutModel",
      "state": {}
     },
     "36d30c8a3e9641deba0de9f57837d710": {
      "model_module": "@jupyter-widgets/base",
      "model_module_version": "1.2.0",
      "model_name": "LayoutModel",
      "state": {
       "align_items": "center",
       "display": "flex",
       "justify_content": "space-between"
      }
     },
     "3889c03e88d14af6a5787aa0ddf9c043": {
      "model_module": "@jupyter-widgets/base",
      "model_module_version": "1.2.0",
      "model_name": "LayoutModel",
      "state": {}
     },
     "38f231808eb54f4888550bc5344970a2": {
      "model_module": "@jupyter-widgets/base",
      "model_module_version": "1.2.0",
      "model_name": "LayoutModel",
      "state": {
       "align_items": "center",
       "display": "flex",
       "justify_content": "space-between"
      }
     },
     "3a16410677904d0ca03d78b26167490d": {
      "model_module": "@jupyter-widgets/base",
      "model_module_version": "1.2.0",
      "model_name": "LayoutModel",
      "state": {}
     },
     "3aef5525fcc24bd09a1db7a353587bed": {
      "model_module": "@jupyter-widgets/base",
      "model_module_version": "1.2.0",
      "model_name": "LayoutModel",
      "state": {}
     },
     "3b8001b51d70424495c1f30ca69d6672": {
      "model_module": "@jupyter-widgets/base",
      "model_module_version": "1.2.0",
      "model_name": "LayoutModel",
      "state": {
       "align_items": "center",
       "border": "solid thin white",
       "display": "flex",
       "justify_content": "space-between"
      }
     },
     "3cdad65175424403908d8cb1e554c4a1": {
      "model_module": "@jupyter-widgets/controls",
      "model_module_version": "1.5.0",
      "model_name": "SliderStyleModel",
      "state": {
       "description_width": ""
      }
     },
     "3ce270cf42de4a7db8d2c3ccf786c1fc": {
      "model_module": "@jupyter-widgets/controls",
      "model_module_version": "1.5.0",
      "model_name": "VBoxModel",
      "state": {
       "_dom_classes": [
        "widget-interact"
       ],
       "children": [
        "IPY_MODEL_e8158b49a2a04045ad3b4a9c64a64391",
        "IPY_MODEL_e3b4befe70d44978876e5139334aec1b"
       ],
       "layout": "IPY_MODEL_c7ae289c5259487d9b89a02875beb489"
      }
     },
     "3d6f06d376a04a9dbc6c0de7f0df8d5e": {
      "model_module": "@jupyter-widgets/controls",
      "model_module_version": "1.5.0",
      "model_name": "HBoxModel",
      "state": {
       "children": [
        "IPY_MODEL_ea8ac56fb00349a2b8dbbed6cc31da19"
       ],
       "layout": "IPY_MODEL_de53d19bd4d34bef85e03122f336ab9c"
      }
     },
     "3dd006882fbf46fd8be0e666622f943e": {
      "model_module": "@jupyter-widgets/base",
      "model_module_version": "1.2.0",
      "model_name": "LayoutModel",
      "state": {}
     },
     "3f84b59b799f4ed7a85e9e18303a4f32": {
      "model_module": "@jupyter-widgets/controls",
      "model_module_version": "1.5.0",
      "model_name": "DescriptionStyleModel",
      "state": {
       "description_width": ""
      }
     },
     "41d3be0531154803bb170d636803002a": {
      "model_module": "@jupyter-widgets/base",
      "model_module_version": "1.2.0",
      "model_name": "LayoutModel",
      "state": {}
     },
     "42113db6f72d4f3fbb7ad80403a6e4d9": {
      "model_module": "@jupyter-widgets/controls",
      "model_module_version": "1.5.0",
      "model_name": "HBoxModel",
      "state": {
       "children": [
        "IPY_MODEL_eb493581635a4fd7ace5bedc2b706f87"
       ],
       "layout": "IPY_MODEL_2c1f712c5ed649bd9bb6183f1cc4c147"
      }
     },
     "428cdf262e61486ba8391b87e1e3f9de": {
      "model_module": "@jupyter-widgets/controls",
      "model_module_version": "1.5.0",
      "model_name": "IntRangeSliderModel",
      "state": {
       "_model_name": "IntRangeSliderModel",
       "_view_name": "IntRangeSliderView",
       "continuous_update": false,
       "description": "Delay",
       "layout": "IPY_MODEL_62408e4a6a3645ebbd41bcfcc230ad39",
       "max": 60,
       "min": 1,
       "style": "IPY_MODEL_d9edcecd5d7f401c8087edd3b394b182",
       "value": [
        1,
        60
       ]
      }
     },
     "42abb2a13f394354859a07e53d21a646": {
      "model_module": "@jupyter-widgets/controls",
      "model_module_version": "1.5.0",
      "model_name": "HBoxModel",
      "state": {
       "children": [
        "IPY_MODEL_30fad03bd1324f189da7088d4c0cdff6"
       ],
       "layout": "IPY_MODEL_b29b0958b6a3451b809c459fcd7b3ab7"
      }
     },
     "431c0ab8c15a4922824a2ff909357bfd": {
      "model_module": "@jupyter-widgets/base",
      "model_module_version": "1.2.0",
      "model_name": "LayoutModel",
      "state": {
       "align_items": "center",
       "display": "flex",
       "justify_content": "space-between"
      }
     },
     "43acd5d4bb554994b7af7c9dbb63a6a5": {
      "model_module": "@jupyter-widgets/controls",
      "model_module_version": "1.5.0",
      "model_name": "HBoxModel",
      "state": {
       "children": [
        "IPY_MODEL_c3cc893e2ef04d6ca0ed8c0ec41302c9"
       ],
       "layout": "IPY_MODEL_9ab5a42abdad43018999d9c1dfacbf10"
      }
     },
     "45accd5f163746149bdf110adae464b2": {
      "model_module": "@jupyter-widgets/controls",
      "model_module_version": "1.5.0",
      "model_name": "HBoxModel",
      "state": {
       "children": [
        "IPY_MODEL_c8e89290b58a424aaacd372995346807"
       ],
       "layout": "IPY_MODEL_fff8cd3876944e8cae485b63a885a86a"
      }
     },
     "46318bd7a08441f7a81eda6cb147b2ca": {
      "model_module": "@jupyter-widgets/base",
      "model_module_version": "1.2.0",
      "model_name": "LayoutModel",
      "state": {
       "align_items": "center",
       "border": "solid thin white",
       "display": "flex",
       "justify_content": "space-between"
      }
     },
     "4723658da6bc491ebc234355b5bd7dac": {
      "model_module": "@jupyter-widgets/controls",
      "model_module_version": "1.5.0",
      "model_name": "VBoxModel",
      "state": {
       "_dom_classes": [
        "widget-interact"
       ],
       "children": [
        "IPY_MODEL_215e84ee81404e60815a68072f790c27",
        "IPY_MODEL_6ec8f6f2f3184d45af7566626544316c"
       ],
       "layout": "IPY_MODEL_9248aec085e1419887d9e8e1986b3585"
      }
     },
     "48b215a9bbb44ea993c663db3fd6338f": {
      "model_module": "@jupyter-widgets/base",
      "model_module_version": "1.2.0",
      "model_name": "LayoutModel",
      "state": {}
     },
     "4a4b1e223eb6402e899283df167f500e": {
      "model_module": "@jupyter-widgets/base",
      "model_module_version": "1.2.0",
      "model_name": "LayoutModel",
      "state": {
       "align_items": "center",
       "border": "solid thin white",
       "display": "flex",
       "justify_content": "space-between"
      }
     },
     "4bbd645e52834b2d91b8f99a953b94f3": {
      "model_module": "@jupyter-widgets/controls",
      "model_module_version": "1.5.0",
      "model_name": "DescriptionStyleModel",
      "state": {
       "description_width": ""
      }
     },
     "4ccc2c86bee64ad2a17a3a21d3dc92cb": {
      "model_module": "@jupyter-widgets/controls",
      "model_module_version": "1.5.0",
      "model_name": "SelectionRangeSliderModel",
      "state": {
       "_model_name": "SelectionRangeSliderModel",
       "_options_labels": [
        "-40",
        "-30",
        "-20",
        "-10",
        "0",
        "10",
        "20",
        "30",
        "40",
        "50",
        "60",
        "70",
        "80",
        "90"
       ],
       "_view_name": "SelectionRangeSliderView",
       "description": "Zenith",
       "index": [
        0,
        8
       ],
       "layout": "IPY_MODEL_d221be733cfe41588ad132f5be43b568",
       "style": "IPY_MODEL_b75d8b57db904acf9a3c76ebd2051858"
      }
     },
     "4e1a2feabe5740c595c1589ddc84c38c": {
      "model_module": "@jupyter-widgets/controls",
      "model_module_version": "1.5.0",
      "model_name": "LabelModel",
      "state": {
       "layout": "IPY_MODEL_6c1840a70356474daec38801a3b2ca3f",
       "style": "IPY_MODEL_b18af9ac559a427abd6dd8fb66337b6d",
       "value": "Set seed value"
      }
     },
     "4f8d0c20d9a24a9a89ae365bd6c3b9aa": {
      "model_module": "@jupyter-widgets/controls",
      "model_module_version": "1.5.0",
      "model_name": "LabelModel",
      "state": {
       "layout": "IPY_MODEL_726220cdc15e4f4e9a4cbf039d268bd4",
       "style": "IPY_MODEL_97688183c1994c90aeac71a9ce67b611",
       "value": "Set seed value"
      }
     },
     "503fc99c39664d08a7ac5cd6990fd6af": {
      "model_module": "@jupyter-widgets/base",
      "model_module_version": "1.2.0",
      "model_name": "LayoutModel",
      "state": {}
     },
     "509a2fb2fa6b4601aa0ae7bdcf5caec6": {
      "model_module": "@jupyter-widgets/controls",
      "model_module_version": "1.5.0",
      "model_name": "DescriptionStyleModel",
      "state": {
       "description_width": ""
      }
     },
     "50ca122925624de59aa8fbb1f085ac02": {
      "model_module": "@jupyter-widgets/base",
      "model_module_version": "1.2.0",
      "model_name": "LayoutModel",
      "state": {}
     },
     "516f999852b4407bbec66d4521493a46": {
      "model_module": "@jupyter-widgets/controls",
      "model_module_version": "1.5.0",
      "model_name": "LabelModel",
      "state": {
       "layout": "IPY_MODEL_9fa1979140ed41d2a6e45ac93cb22ab5",
       "style": "IPY_MODEL_95203e57c00e46a9a7b96d432f5113a1",
       "value": "Set zenith range"
      }
     },
     "51c1a498734145a580db2ff4c03aa826": {
      "model_module": "@jupyter-widgets/base",
      "model_module_version": "1.2.0",
      "model_name": "LayoutModel",
      "state": {
       "align_items": "center",
       "border": "solid thin white",
       "display": "flex",
       "justify_content": "space-between"
      }
     },
     "529a2971bb864273be7c4e668a2de650": {
      "model_module": "@jupyter-widgets/controls",
      "model_module_version": "1.5.0",
      "model_name": "SliderStyleModel",
      "state": {
       "description_width": ""
      }
     },
     "55047267879d4f9ea091901e9446188c": {
      "model_module": "@jupyter-widgets/base",
      "model_module_version": "1.2.0",
      "model_name": "LayoutModel",
      "state": {
       "align_items": "center",
       "display": "flex",
       "justify_content": "space-between"
      }
     },
     "55ccc3e4640b40e39abb68d5e533cf0e": {
      "model_module": "@jupyter-widgets/controls",
      "model_module_version": "1.5.0",
      "model_name": "LabelModel",
      "state": {
       "layout": "IPY_MODEL_48b215a9bbb44ea993c663db3fd6338f",
       "style": "IPY_MODEL_5e4d2953b160463aacae5e640f720393",
       "value": "Set seed value"
      }
     },
     "561649c71f204da1ae5ee07e72dbb8b8": {
      "model_module": "@jupyter-widgets/controls",
      "model_module_version": "1.5.0",
      "model_name": "VBoxModel",
      "state": {
       "children": [
        "IPY_MODEL_72b81156d72d4fc4b7cbc22ca569552e",
        "IPY_MODEL_b40ed4fb7b164f8db6b807533d33fd38"
       ],
       "layout": "IPY_MODEL_77cd7ce35d5d4c01bd882fc3deff2ca5"
      }
     },
     "575ff8aca7994ac698076a35d636f58e": {
      "model_module": "@jupyter-widgets/base",
      "model_module_version": "1.2.0",
      "model_name": "LayoutModel",
      "state": {}
     },
     "58febd52657447a2afad7116da34e34e": {
      "model_module": "@jupyter-widgets/base",
      "model_module_version": "1.2.0",
      "model_name": "LayoutModel",
      "state": {
       "align_items": "center",
       "border": "solid thin white",
       "display": "flex",
       "justify_content": "space-between"
      }
     },
     "591c859529344bb3b51ae65498ec4861": {
      "model_module": "@jupyter-widgets/controls",
      "model_module_version": "1.5.0",
      "model_name": "DescriptionStyleModel",
      "state": {
       "description_width": ""
      }
     },
     "592604d685e340849e7fd4a7cf403e4d": {
      "model_module": "@jupyter-widgets/base",
      "model_module_version": "1.2.0",
      "model_name": "LayoutModel",
      "state": {
       "align_items": "center",
       "border": "solid thin white",
       "display": "flex",
       "justify_content": "space-between"
      }
     },
     "5a2d99cce61d43a1a19d97bf5d5f4adf": {
      "model_module": "@jupyter-widgets/base",
      "model_module_version": "1.2.0",
      "model_name": "LayoutModel",
      "state": {}
     },
     "5a557790bef948b78b270becad49fe1e": {
      "model_module": "@jupyter-widgets/controls",
      "model_module_version": "1.5.0",
      "model_name": "LabelModel",
      "state": {
       "layout": "IPY_MODEL_fcea484282a842aba08093c9bf98b52e",
       "style": "IPY_MODEL_d5aa864de69046ddb8c1877c4622d153",
       "value": "Set sample duration in seconds"
      }
     },
     "5cd9b0ab3ba44f43a348736fe5c8447e": {
      "model_module": "@jupyter-widgets/base",
      "model_module_version": "1.2.0",
      "model_name": "LayoutModel",
      "state": {
       "align_items": "center",
       "border": "solid thin white",
       "display": "flex",
       "justify_content": "space-between"
      }
     },
     "5ce410889e3a4a33b1ad1069cdcac357": {
      "model_module": "@jupyter-widgets/controls",
      "model_module_version": "1.5.0",
      "model_name": "SliderStyleModel",
      "state": {
       "description_width": ""
      }
     },
     "5d2c39560e6349e58675dd2a09e6ba48": {
      "model_module": "@jupyter-widgets/controls",
      "model_module_version": "1.5.0",
      "model_name": "DescriptionStyleModel",
      "state": {
       "description_width": ""
      }
     },
     "5d69cd240daa4451a44d51908d3718f7": {
      "model_module": "@jupyter-widgets/controls",
      "model_module_version": "1.5.0",
      "model_name": "DescriptionStyleModel",
      "state": {
       "description_width": ""
      }
     },
     "5e4d2953b160463aacae5e640f720393": {
      "model_module": "@jupyter-widgets/controls",
      "model_module_version": "1.5.0",
      "model_name": "DescriptionStyleModel",
      "state": {
       "description_width": ""
      }
     },
     "5e56abfce162427f81bca57246d42482": {
      "model_module": "@jupyter-widgets/controls",
      "model_module_version": "1.5.0",
      "model_name": "LabelModel",
      "state": {
       "layout": "IPY_MODEL_575ff8aca7994ac698076a35d636f58e",
       "style": "IPY_MODEL_e53c613f515f4769a56fde63e8a6359a",
       "value": "Set seed value"
      }
     },
     "5fb00606cfac45baa3c60e814a746e60": {
      "model_module": "@jupyter-widgets/controls",
      "model_module_version": "1.5.0",
      "model_name": "LabelModel",
      "state": {
       "layout": "IPY_MODEL_e55432810caf4549b635e964c2c54cd4",
       "style": "IPY_MODEL_dee12142b5424339b87ee2bf1d97ac2e",
       "value": "Number of samples: 1"
      }
     },
     "5ff46a6d84854b34a4df63b09c761fe0": {
      "model_module": "@jupyter-widgets/output",
      "model_module_version": "1.0.0",
      "model_name": "OutputModel",
      "state": {
       "layout": "IPY_MODEL_054229bd339940da823b57a7d0dee1be",
       "outputs": [
        {
         "name": "stderr",
         "output_type": "stream",
         "text": "*c* argument looks like a single numeric RGB or RGBA sequence, which should be avoided as value-mapping will have precedence in case its length matches with *x* & *y*.  Please use the *color* keyword-argument or provide a 2D array with a single row if you intend to specify the same RGB or RGBA value for all points.\n"
        }
       ]
      }
     },
     "60213b4f1c8647eca7d2739aa565f9c9": {
      "model_module": "@jupyter-widgets/base",
      "model_module_version": "1.2.0",
      "model_name": "LayoutModel",
      "state": {
       "align_items": "center",
       "border": "solid thin white",
       "display": "flex",
       "justify_content": "space-between"
      }
     },
     "61be5cd718094ecf887fe9b8e5613b2c": {
      "model_module": "@jupyter-widgets/controls",
      "model_module_version": "1.5.0",
      "model_name": "LabelModel",
      "state": {
       "layout": "IPY_MODEL_35f40cfb4aa6433ba55c557b8ffc5276",
       "style": "IPY_MODEL_5d2c39560e6349e58675dd2a09e6ba48",
       "value": "Reflection limits: 4 - 8"
      }
     },
     "62408e4a6a3645ebbd41bcfcc230ad39": {
      "model_module": "@jupyter-widgets/base",
      "model_module_version": "1.2.0",
      "model_name": "LayoutModel",
      "state": {}
     },
     "63313f415df7438db38e9c757c4d8548": {
      "model_module": "@jupyter-widgets/output",
      "model_module_version": "1.0.0",
      "model_name": "OutputModel",
      "state": {
       "layout": "IPY_MODEL_68529c3f18dc441faf44b411f7785b24",
       "outputs": [
        {
         "name": "stdout",
         "output_type": "stream",
         "text": "First 5 random floats for seed:\n\t0xec0ebf:[0.13, 0.66, 0.84, 0.79, 0.22]\n\t0xec0ec0:[0.49, 0.20, 0.06, 0.72, 0.29]\n\t0xec0ec1:[0.50, 0.97, 0.52, 0.84, 0.30]\n"
        }
       ]
      }
     },
     "6495baa2e5d44e45abc8f07d97e30be9": {
      "model_module": "@jupyter-widgets/controls",
      "model_module_version": "1.5.0",
      "model_name": "IntSliderModel",
      "state": {
       "description": "Seed",
       "layout": "IPY_MODEL_77d079ea07f84ea5b1676766fe4c1753",
       "max": 16777215,
       "readout_format": "x",
       "style": "IPY_MODEL_529a2971bb864273be7c4e668a2de650",
       "value": 15470272
      }
     },
     "65d47fb98ecd448880a04eb513f19ecf": {
      "model_module": "@jupyter-widgets/output",
      "model_module_version": "1.0.0",
      "model_name": "OutputModel",
      "state": {
       "layout": "IPY_MODEL_aeb6c057606348b6888fd27b45b91419",
       "outputs": [
        {
         "name": "stdout",
         "output_type": "stream",
         "text": "20\n"
        }
       ]
      }
     },
     "65f576f0aedd4c0b84f18fdc15aab292": {
      "model_module": "@jupyter-widgets/output",
      "model_module_version": "1.0.0",
      "model_name": "OutputModel",
      "state": {
       "layout": "IPY_MODEL_25c4c490b8c64a2a949181dcf3a7fa7e",
       "outputs": [
        {
         "name": "stdout",
         "output_type": "stream",
         "text": "(4, 8) (1, 60)\n"
        }
       ]
      }
     },
     "6623f0c4c7cc4d209d8764df509326e4": {
      "model_module": "@jupyter-widgets/base",
      "model_module_version": "1.2.0",
      "model_name": "LayoutModel",
      "state": {}
     },
     "678bb94d0f8043c9a3a6e66ab45002d7": {
      "model_module": "@jupyter-widgets/controls",
      "model_module_version": "1.5.0",
      "model_name": "SliderStyleModel",
      "state": {
       "description_width": ""
      }
     },
     "67973f4fd593446a95c97686b0fa5cdc": {
      "model_module": "@jupyter-widgets/base",
      "model_module_version": "1.2.0",
      "model_name": "LayoutModel",
      "state": {}
     },
     "681396e0575c4a34bfc994867583384a": {
      "model_module": "@jupyter-widgets/base",
      "model_module_version": "1.2.0",
      "model_name": "LayoutModel",
      "state": {
       "align_items": "center",
       "border": "solid thin white",
       "display": "flex",
       "justify_content": "space-between"
      }
     },
     "68529c3f18dc441faf44b411f7785b24": {
      "model_module": "@jupyter-widgets/base",
      "model_module_version": "1.2.0",
      "model_name": "LayoutModel",
      "state": {}
     },
     "68d6ac0609524a1b9a5f726bf0579d60": {
      "model_module": "@jupyter-widgets/output",
      "model_module_version": "1.0.0",
      "model_name": "OutputModel",
      "state": {
       "layout": "IPY_MODEL_874a0a3f9bd44c70b13401e49bc45618",
       "outputs": [
        {
         "name": "stderr",
         "output_type": "stream",
         "text": "*c* argument looks like a single numeric RGB or RGBA sequence, which should be avoided as value-mapping will have precedence in case its length matches with *x* & *y*.  Please use the *color* keyword-argument or provide a 2D array with a single row if you intend to specify the same RGB or RGBA value for all points.\n"
        }
       ]
      }
     },
     "696460a9e1b74bc69ccfd79faf8276b6": {
      "model_module": "@jupyter-widgets/controls",
      "model_module_version": "1.5.0",
      "model_name": "VBoxModel",
      "state": {
       "children": [
        "IPY_MODEL_23475a45756e4626be2212c796f74fcd",
        "IPY_MODEL_e524a95f29bc4c5ab5caa0ed0df63805"
       ],
       "layout": "IPY_MODEL_efc5fad06d884777aeb6e7aae1b6739f"
      }
     },
     "6a6100d4256949d5905c5156215f6364": {
      "model_module": "@jupyter-widgets/base",
      "model_module_version": "1.2.0",
      "model_name": "LayoutModel",
      "state": {
       "align_items": "center",
       "border": "solid thin white",
       "display": "flex",
       "justify_content": "space-between"
      }
     },
     "6c1840a70356474daec38801a3b2ca3f": {
      "model_module": "@jupyter-widgets/base",
      "model_module_version": "1.2.0",
      "model_name": "LayoutModel",
      "state": {}
     },
     "6c5f19b78c544c9790749d93db686b7f": {
      "model_module": "@jupyter-widgets/base",
      "model_module_version": "1.2.0",
      "model_name": "LayoutModel",
      "state": {
       "align_items": "center",
       "display": "flex",
       "justify_content": "space-between"
      }
     },
     "6cb064aeaf7f437e8747d76bb556f90a": {
      "model_module": "@jupyter-widgets/controls",
      "model_module_version": "1.5.0",
      "model_name": "HBoxModel",
      "state": {
       "children": [
        "IPY_MODEL_55ccc3e4640b40e39abb68d5e533cf0e"
       ],
       "layout": "IPY_MODEL_58febd52657447a2afad7116da34e34e"
      }
     },
     "6d2d1c0a2e5241f9b22c14b5fd1a693e": {
      "model_module": "@jupyter-widgets/controls",
      "model_module_version": "1.5.0",
      "model_name": "LabelModel",
      "state": {
       "layout": "IPY_MODEL_5a2d99cce61d43a1a19d97bf5d5f4adf",
       "style": "IPY_MODEL_509a2fb2fa6b4601aa0ae7bdcf5caec6",
       "value": "Set reverberation time in seconds"
      }
     },
     "6ec8f6f2f3184d45af7566626544316c": {
      "model_module": "@jupyter-widgets/output",
      "model_module_version": "1.0.0",
      "model_name": "OutputModel",
      "state": {
       "layout": "IPY_MODEL_c4ee2cbb09124c52a80887a4e52dc256",
       "outputs": [
        {
         "name": "stdout",
         "output_type": "stream",
         "text": "(1, 8)\n"
        }
       ]
      }
     },
     "6fe0defd21584a1ebec4b0480f8128af": {
      "model_module": "@jupyter-widgets/controls",
      "model_module_version": "1.5.0",
      "model_name": "VBoxModel",
      "state": {
       "_dom_classes": [
        "widget-interact"
       ],
       "children": [
        "IPY_MODEL_fb675c26301340eb926153dd94164687",
        "IPY_MODEL_a0c702edc22d436f8d7229b3a5bb52d6"
       ],
       "layout": "IPY_MODEL_ff8b18d688f14f149e06f1261a1a6d4e"
      }
     },
     "700dc02aeb9f4e54bb6454905e40d8b1": {
      "model_module": "@jupyter-widgets/base",
      "model_module_version": "1.2.0",
      "model_name": "LayoutModel",
      "state": {
       "align_items": "center",
       "border": "solid thin white",
       "display": "flex",
       "justify_content": "space-between"
      }
     },
     "705547feb83c439dad042bc5cd9d7f9d": {
      "model_module": "@jupyter-widgets/base",
      "model_module_version": "1.2.0",
      "model_name": "LayoutModel",
      "state": {
       "align_items": "center",
       "display": "flex",
       "justify_content": "space-between"
      }
     },
     "71ecb32d4c1240a1b4374105fa967ee8": {
      "model_module": "@jupyter-widgets/base",
      "model_module_version": "1.2.0",
      "model_name": "LayoutModel",
      "state": {
       "align_items": "center",
       "display": "flex",
       "justify_content": "space-between"
      }
     },
     "720ae264fc7049799aa2969ad4b3e2d2": {
      "model_module": "@jupyter-widgets/controls",
      "model_module_version": "1.5.0",
      "model_name": "HBoxModel",
      "state": {
       "children": [
        "IPY_MODEL_516f999852b4407bbec66d4521493a46"
       ],
       "layout": "IPY_MODEL_ef9baa998ee647158c1bbc4a6869eef3"
      }
     },
     "721ad311cd7a4ad79dc8304971b590cd": {
      "model_module": "@jupyter-widgets/base",
      "model_module_version": "1.2.0",
      "model_name": "LayoutModel",
      "state": {}
     },
     "725d996a59cb4858b73d634de6eb9f4f": {
      "model_module": "@jupyter-widgets/controls",
      "model_module_version": "1.5.0",
      "model_name": "VBoxModel",
      "state": {
       "_dom_classes": [
        "widget-interact"
       ],
       "children": [
        "IPY_MODEL_7de75748160a446d9978b3132d3db3f6",
        "IPY_MODEL_0774bcf28fa14ba28d89166ac16ba278"
       ],
       "layout": "IPY_MODEL_f5fc8a5afc234cef92089cf8e2c840f2"
      }
     },
     "726220cdc15e4f4e9a4cbf039d268bd4": {
      "model_module": "@jupyter-widgets/base",
      "model_module_version": "1.2.0",
      "model_name": "LayoutModel",
      "state": {}
     },
     "72a4fda08fb4415582a23fe9352610eb": {
      "model_module": "@jupyter-widgets/base",
      "model_module_version": "1.2.0",
      "model_name": "LayoutModel",
      "state": {
       "align_items": "center",
       "border": "solid thin white",
       "display": "flex",
       "justify_content": "space-between"
      }
     },
     "72b81156d72d4fc4b7cbc22ca569552e": {
      "model_module": "@jupyter-widgets/controls",
      "model_module_version": "1.5.0",
      "model_name": "HBoxModel",
      "state": {
       "children": [
        "IPY_MODEL_869628a9b4094f68afe7425ec9b82c11"
       ],
       "layout": "IPY_MODEL_592604d685e340849e7fd4a7cf403e4d"
      }
     },
     "739f2e28e94c4eb4b573fdb8fa237f51": {
      "model_module": "@jupyter-widgets/output",
      "model_module_version": "1.0.0",
      "model_name": "OutputModel",
      "state": {
       "layout": "IPY_MODEL_9776817d7fe44ea99ebb9c9ffaba5146"
      }
     },
     "7479254de50a4adb8b94348274d1c754": {
      "model_module": "@jupyter-widgets/base",
      "model_module_version": "1.2.0",
      "model_name": "LayoutModel",
      "state": {}
     },
     "75475fdbe51041e1be066577f26251ef": {
      "model_module": "@jupyter-widgets/base",
      "model_module_version": "1.2.0",
      "model_name": "LayoutModel",
      "state": {
       "align_items": "center",
       "display": "flex",
       "justify_content": "space-between"
      }
     },
     "7617e7e3bf714092b150b94070ed7555": {
      "model_module": "@jupyter-widgets/controls",
      "model_module_version": "1.5.0",
      "model_name": "HBoxModel",
      "state": {
       "children": [
        "IPY_MODEL_43acd5d4bb554994b7af7c9dbb63a6a5",
        "IPY_MODEL_c92b182d4670481e9fa4ad3f8f534e82"
       ],
       "layout": "IPY_MODEL_9083b423e8624390af0dff54d008805e"
      }
     },
     "766e0bb5637041389c7c623be8650da7": {
      "model_module": "@jupyter-widgets/base",
      "model_module_version": "1.2.0",
      "model_name": "LayoutModel",
      "state": {}
     },
     "771f4961a3914d169c477c67fbeea901": {
      "model_module": "@jupyter-widgets/base",
      "model_module_version": "1.2.0",
      "model_name": "LayoutModel",
      "state": {
       "align_items": "center",
       "border": "solid thin white",
       "display": "flex",
       "justify_content": "space-between"
      }
     },
     "77cd7ce35d5d4c01bd882fc3deff2ca5": {
      "model_module": "@jupyter-widgets/base",
      "model_module_version": "1.2.0",
      "model_name": "LayoutModel",
      "state": {
       "align_items": "center",
       "border": "solid thin white",
       "display": "flex",
       "justify_content": "space-between"
      }
     },
     "77d079ea07f84ea5b1676766fe4c1753": {
      "model_module": "@jupyter-widgets/base",
      "model_module_version": "1.2.0",
      "model_name": "LayoutModel",
      "state": {}
     },
     "789c0013eeb14c3ea18e20c42b343295": {
      "model_module": "@jupyter-widgets/controls",
      "model_module_version": "1.5.0",
      "model_name": "LabelModel",
      "state": {
       "layout": "IPY_MODEL_030151ce41974b41ab97ce9b09ca3184",
       "style": "IPY_MODEL_ba0197422b4840bcb3fc612c7f65633c",
       "value": "Set sample duration in seconds"
      }
     },
     "795a9b24a4e74081845bbe838db87b2d": {
      "model_module": "@jupyter-widgets/controls",
      "model_module_version": "1.5.0",
      "model_name": "HBoxModel",
      "state": {
       "children": [
        "IPY_MODEL_c6b4c67c10844d1685fcb42c790e3af8"
       ],
       "layout": "IPY_MODEL_36d30c8a3e9641deba0de9f57837d710"
      }
     },
     "7987d088bf4543d0b435865119b6e114": {
      "model_module": "@jupyter-widgets/controls",
      "model_module_version": "1.5.0",
      "model_name": "VBoxModel",
      "state": {
       "_dom_classes": [
        "widget-interact"
       ],
       "children": [
        "IPY_MODEL_9520f6112aad4e1cabf7a287528b6835",
        "IPY_MODEL_a155f75719784902872deca4f9da2bd3"
       ],
       "layout": "IPY_MODEL_3a16410677904d0ca03d78b26167490d"
      }
     },
     "7a381acf645e4621994794e50d3a9e1f": {
      "model_module": "@jupyter-widgets/output",
      "model_module_version": "1.0.0",
      "model_name": "OutputModel",
      "state": {
       "layout": "IPY_MODEL_cda234b870d54163956fcccce2a0c5cd",
       "outputs": [
        {
         "name": "stderr",
         "output_type": "stream",
         "text": "*c* argument looks like a single numeric RGB or RGBA sequence, which should be avoided as value-mapping will have precedence in case its length matches with *x* & *y*.  Please use the *color* keyword-argument or provide a 2D array with a single row if you intend to specify the same RGB or RGBA value for all points.\n"
        }
       ]
      }
     },
     "7b38c08e9c7b4a9b80faaf3cb348e993": {
      "model_module": "@jupyter-widgets/controls",
      "model_module_version": "1.5.0",
      "model_name": "VBoxModel",
      "state": {
       "_dom_classes": [
        "widget-interact"
       ],
       "children": [
        "IPY_MODEL_bee4072c7bf64be190cb31fe8f434fb2",
        "IPY_MODEL_21d67fa8a11f468a82efa1f3027104dd"
       ],
       "layout": "IPY_MODEL_15025be05a694704a41465a613798459"
      }
     },
     "7b44ffc45df7463eaf49803241c1a9d0": {
      "model_module": "@jupyter-widgets/base",
      "model_module_version": "1.2.0",
      "model_name": "LayoutModel",
      "state": {}
     },
     "7bd616ee300e48bf96a9e7e8399da399": {
      "model_module": "@jupyter-widgets/controls",
      "model_module_version": "1.5.0",
      "model_name": "DescriptionStyleModel",
      "state": {
       "description_width": ""
      }
     },
     "7d23dfe787684a4bb8a658056b372bb1": {
      "model_module": "@jupyter-widgets/controls",
      "model_module_version": "1.5.0",
      "model_name": "VBoxModel",
      "state": {
       "_dom_classes": [
        "widget-interact"
       ],
       "children": [
        "IPY_MODEL_bf24811d9881470f92d7497bfcc85dea",
        "IPY_MODEL_da631b63ecfa49cc97e471ea94e55a45"
       ],
       "layout": "IPY_MODEL_721ad311cd7a4ad79dc8304971b590cd"
      }
     },
     "7de75748160a446d9978b3132d3db3f6": {
      "model_module": "@jupyter-widgets/controls",
      "model_module_version": "1.5.0",
      "model_name": "IntSliderModel",
      "state": {
       "continuous_update": false,
       "description": "Count",
       "layout": "IPY_MODEL_283e6b907f904366989acc65f9cca840",
       "max": 10,
       "min": 1,
       "style": "IPY_MODEL_e97f58ada02346a590b69a152e4d9abd",
       "value": 1
      }
     },
     "7ead7fa2d6e8457486631deaace4a23c": {
      "model_module": "@jupyter-widgets/controls",
      "model_module_version": "1.5.0",
      "model_name": "HBoxModel",
      "state": {
       "children": [
        "IPY_MODEL_61be5cd718094ecf887fe9b8e5613b2c"
       ],
       "layout": "IPY_MODEL_22b6f17415af4a2483c22881dd2ef77f"
      }
     },
     "7f3d1563e7cb40ceba5bbd4b4974e218": {
      "model_module": "@jupyter-widgets/controls",
      "model_module_version": "1.5.0",
      "model_name": "VBoxModel",
      "state": {
       "_dom_classes": [
        "widget-interact"
       ],
       "children": [
        "IPY_MODEL_6495baa2e5d44e45abc8f07d97e30be9",
        "IPY_MODEL_63313f415df7438db38e9c757c4d8548"
       ],
       "layout": "IPY_MODEL_c264323a62c94836b00900a58793ee54"
      }
     },
     "7fa853f8a0ee4edc88548a061951462e": {
      "model_module": "@jupyter-widgets/controls",
      "model_module_version": "1.5.0",
      "model_name": "IntSliderModel",
      "state": {
       "description": "Duration",
       "layout": "IPY_MODEL_67973f4fd593446a95c97686b0fa5cdc",
       "max": 30,
       "min": 10,
       "style": "IPY_MODEL_16fae8ae28204cbf80495ad70dacafeb",
       "value": 20
      }
     },
     "80db707eaf62427091b55032c500e125": {
      "model_module": "@jupyter-widgets/controls",
      "model_module_version": "1.5.0",
      "model_name": "SliderStyleModel",
      "state": {
       "description_width": ""
      }
     },
     "81be0df51e0345b88cfaf66f97df970e": {
      "model_module": "@jupyter-widgets/controls",
      "model_module_version": "1.5.0",
      "model_name": "DescriptionStyleModel",
      "state": {
       "description_width": ""
      }
     },
     "829ba8e0c0e342f5a9347833cbd72276": {
      "model_module": "@jupyter-widgets/base",
      "model_module_version": "1.2.0",
      "model_name": "LayoutModel",
      "state": {
       "align_items": "center",
       "border": "solid thin white",
       "display": "flex",
       "justify_content": "space-between"
      }
     },
     "842f2b377fc34ef186cbbe573eceecb1": {
      "model_module": "@jupyter-widgets/controls",
      "model_module_version": "1.5.0",
      "model_name": "IntRangeSliderModel",
      "state": {
       "_model_name": "IntRangeSliderModel",
       "_view_name": "IntRangeSliderView",
       "continuous_update": false,
       "description": "Reflections",
       "layout": "IPY_MODEL_766e0bb5637041389c7c623be8650da7",
       "max": 8,
       "min": 4,
       "style": "IPY_MODEL_d4d58d2dbd7748129ba21b0e8455e520",
       "value": [
        4,
        8
       ]
      }
     },
     "846b434f306d4245a71e86cdac4bae4f": {
      "model_module": "@jupyter-widgets/controls",
      "model_module_version": "1.5.0",
      "model_name": "HBoxModel",
      "state": {
       "children": [
        "IPY_MODEL_7d23dfe787684a4bb8a658056b372bb1"
       ],
       "layout": "IPY_MODEL_ce3a2279ddb04cdba9b473aeeb3d9665"
      }
     },
     "849b3daa763f437ea30a627dcfcb5538": {
      "model_module": "@jupyter-widgets/base",
      "model_module_version": "1.2.0",
      "model_name": "LayoutModel",
      "state": {
       "align_items": "center",
       "display": "flex",
       "justify_content": "space-between"
      }
     },
     "869628a9b4094f68afe7425ec9b82c11": {
      "model_module": "@jupyter-widgets/controls",
      "model_module_version": "1.5.0",
      "model_name": "LabelModel",
      "state": {
       "layout": "IPY_MODEL_cdc68bdbbf78487dad72ec08c32d0da2",
       "style": "IPY_MODEL_2984bf199de440a680e0264018e13ae8",
       "value": "Set sample duration in seconds"
      }
     },
     "874a0a3f9bd44c70b13401e49bc45618": {
      "model_module": "@jupyter-widgets/base",
      "model_module_version": "1.2.0",
      "model_name": "LayoutModel",
      "state": {}
     },
     "8845f7f5ea7949109294ceeb109edb34": {
      "model_module": "@jupyter-widgets/base",
      "model_module_version": "1.2.0",
      "model_name": "LayoutModel",
      "state": {}
     },
     "885c1cd80b104b6aba99f87a2e6ec80e": {
      "model_module": "@jupyter-widgets/controls",
      "model_module_version": "1.5.0",
      "model_name": "VBoxModel",
      "state": {
       "children": [
        "IPY_MODEL_f0864c2454a849feb1ed4f67694a9d8e",
        "IPY_MODEL_bcca2b4f4d724b9facd2e1d6f0ea9426"
       ],
       "layout": "IPY_MODEL_1e770907a7514c5f9a0e4cd8139d225e"
      }
     },
     "895b2fcfcfe544c08f1fcbe58cf86e35": {
      "model_module": "@jupyter-widgets/controls",
      "model_module_version": "1.5.0",
      "model_name": "HBoxModel",
      "state": {
       "children": [
        "IPY_MODEL_7ead7fa2d6e8457486631deaace4a23c",
        "IPY_MODEL_45accd5f163746149bdf110adae464b2"
       ],
       "layout": "IPY_MODEL_f66b832f3e9840e391a7d73a3bbdf5fe"
      }
     },
     "89bd6d5576eb44109d321aa043b332a0": {
      "model_module": "@jupyter-widgets/base",
      "model_module_version": "1.2.0",
      "model_name": "LayoutModel",
      "state": {}
     },
     "8a2e9483bb304b3aa75c0ba46f1561f7": {
      "model_module": "@jupyter-widgets/base",
      "model_module_version": "1.2.0",
      "model_name": "LayoutModel",
      "state": {}
     },
     "8ad6652ba0984c84b0a258813baa9816": {
      "model_module": "@jupyter-widgets/controls",
      "model_module_version": "1.5.0",
      "model_name": "VBoxModel",
      "state": {
       "children": [
        "IPY_MODEL_7a381acf645e4621994794e50d3a9e1f"
       ],
       "layout": "IPY_MODEL_cfae363f73bc460d9a7809a3d56db13b"
      }
     },
     "8cdd4daa09654621af1129c18a34b78b": {
      "model_module": "@jupyter-widgets/base",
      "model_module_version": "1.2.0",
      "model_name": "LayoutModel",
      "state": {}
     },
     "8ff29251ffaa408d8c50e176f1eef665": {
      "model_module": "@jupyter-widgets/base",
      "model_module_version": "1.2.0",
      "model_name": "LayoutModel",
      "state": {
       "align_items": "center",
       "border": "solid thin white",
       "display": "flex",
       "justify_content": "space-between"
      }
     },
     "9083b423e8624390af0dff54d008805e": {
      "model_module": "@jupyter-widgets/base",
      "model_module_version": "1.2.0",
      "model_name": "LayoutModel",
      "state": {
       "align_items": "center",
       "display": "flex",
       "justify_content": "space-between"
      }
     },
     "91787bc6bbb6495fa63c8ed5f01b4765": {
      "model_module": "@jupyter-widgets/output",
      "model_module_version": "1.0.0",
      "model_name": "OutputModel",
      "state": {
       "layout": "IPY_MODEL_fb7a34edae0b45f7aeaeb80f75b829fd"
      }
     },
     "91dbd8391b514d1f876b6928c2144854": {
      "model_module": "@jupyter-widgets/output",
      "model_module_version": "1.0.0",
      "model_name": "OutputModel",
      "state": {
       "layout": "IPY_MODEL_d6c97420756440c2b4e17bc0140e548e",
       "outputs": [
        {
         "name": "stderr",
         "output_type": "stream",
         "text": "*c* argument looks like a single numeric RGB or RGBA sequence, which should be avoided as value-mapping will have precedence in case its length matches with *x* & *y*.  Please use the *color* keyword-argument or provide a 2D array with a single row if you intend to specify the same RGB or RGBA value for all points.\n"
        }
       ]
      }
     },
     "9248aec085e1419887d9e8e1986b3585": {
      "model_module": "@jupyter-widgets/base",
      "model_module_version": "1.2.0",
      "model_name": "LayoutModel",
      "state": {}
     },
     "927cddd98fe342ab8df8c19fb0ec4e2a": {
      "model_module": "@jupyter-widgets/output",
      "model_module_version": "1.0.0",
      "model_name": "OutputModel",
      "state": {
       "layout": "IPY_MODEL_41d3be0531154803bb170d636803002a",
       "outputs": [
        {
         "name": "stdout",
         "output_type": "stream",
         "text": "First 5 random floats for seed:\n\t0xec0ebf:[0.13, 0.66, 0.84, 0.79, 0.22]\n\t0xec0ec0:[0.49, 0.20, 0.06, 0.72, 0.29]\n\t0xec0ec1:[0.50, 0.97, 0.52, 0.84, 0.30]\n"
        }
       ]
      }
     },
     "94c693b5f1f74f02b31756c007b49a46": {
      "model_module": "@jupyter-widgets/controls",
      "model_module_version": "1.5.0",
      "model_name": "HBoxModel",
      "state": {
       "children": [
        "IPY_MODEL_97c406a7f0dd41e49a90fb4651fc956b"
       ],
       "layout": "IPY_MODEL_0b65e84baeb440ab9741e4a24b20d4b9"
      }
     },
     "94d135692f5d498785f998b25a18fe27": {
      "model_module": "@jupyter-widgets/controls",
      "model_module_version": "1.5.0",
      "model_name": "HBoxModel",
      "state": {
       "children": [
        "IPY_MODEL_3ce270cf42de4a7db8d2c3ccf786c1fc"
       ],
       "layout": "IPY_MODEL_ac98552eac6c4591ac1fc3c0fc7467cb"
      }
     },
     "95203e57c00e46a9a7b96d432f5113a1": {
      "model_module": "@jupyter-widgets/controls",
      "model_module_version": "1.5.0",
      "model_name": "DescriptionStyleModel",
      "state": {
       "description_width": ""
      }
     },
     "9520f6112aad4e1cabf7a287528b6835": {
      "model_module": "@jupyter-widgets/controls",
      "model_module_version": "1.5.0",
      "model_name": "IntSliderModel",
      "state": {
       "description": "Seed",
       "layout": "IPY_MODEL_8cdd4daa09654621af1129c18a34b78b",
       "max": 16777215,
       "readout_format": "x",
       "style": "IPY_MODEL_09cb95c3504d42a1a624e454f50d2cd4",
       "value": 15470272
      }
     },
     "9532f153fc254d47bf2375bd4754d32e": {
      "model_module": "@jupyter-widgets/base",
      "model_module_version": "1.2.0",
      "model_name": "LayoutModel",
      "state": {
       "align_items": "center",
       "border": "solid thin white",
       "display": "flex",
       "justify_content": "space-between"
      }
     },
     "959d5484cf63480583c24c6c639d31f0": {
      "model_module": "@jupyter-widgets/base",
      "model_module_version": "1.2.0",
      "model_name": "LayoutModel",
      "state": {}
     },
     "95fb8cb4877e4ed680c2aa0cec321ecc": {
      "model_module": "@jupyter-widgets/base",
      "model_module_version": "1.2.0",
      "model_name": "LayoutModel",
      "state": {}
     },
     "97688183c1994c90aeac71a9ce67b611": {
      "model_module": "@jupyter-widgets/controls",
      "model_module_version": "1.5.0",
      "model_name": "DescriptionStyleModel",
      "state": {
       "description_width": ""
      }
     },
     "9776817d7fe44ea99ebb9c9ffaba5146": {
      "model_module": "@jupyter-widgets/base",
      "model_module_version": "1.2.0",
      "model_name": "LayoutModel",
      "state": {}
     },
     "97be7add251b4587a267b821929853f1": {
      "model_module": "@jupyter-widgets/base",
      "model_module_version": "1.2.0",
      "model_name": "LayoutModel",
      "state": {
       "align_items": "center",
       "border": "solid thin white",
       "display": "flex",
       "justify_content": "space-between"
      }
     },
     "97c406a7f0dd41e49a90fb4651fc956b": {
      "model_module": "@jupyter-widgets/controls",
      "model_module_version": "1.5.0",
      "model_name": "LabelModel",
      "state": {
       "layout": "IPY_MODEL_3889c03e88d14af6a5787aa0ddf9c043",
       "style": "IPY_MODEL_81be0df51e0345b88cfaf66f97df970e",
       "value": "Set azimuth range"
      }
     },
     "999923101cc2493c8d928bdd986ff658": {
      "model_module": "@jupyter-widgets/base",
      "model_module_version": "1.2.0",
      "model_name": "LayoutModel",
      "state": {}
     },
     "9ab5a42abdad43018999d9c1dfacbf10": {
      "model_module": "@jupyter-widgets/base",
      "model_module_version": "1.2.0",
      "model_name": "LayoutModel",
      "state": {
       "align_items": "center",
       "border": "solid thin white",
       "display": "flex",
       "justify_content": "space-between"
      }
     },
     "9b8ddfbfa5c1443ea78d0610ed2ea913": {
      "model_module": "@jupyter-widgets/base",
      "model_module_version": "1.2.0",
      "model_name": "LayoutModel",
      "state": {
       "align_items": "center",
       "border": "solid thin white",
       "display": "flex",
       "justify_content": "space-between"
      }
     },
     "9c22c0284d664b08ac6fa71c1cb98743": {
      "model_module": "@jupyter-widgets/controls",
      "model_module_version": "1.5.0",
      "model_name": "HBoxModel",
      "state": {
       "children": [
        "IPY_MODEL_dbd2b62f4afc4e199403aea177969056"
       ],
       "layout": "IPY_MODEL_38f231808eb54f4888550bc5344970a2"
      }
     },
     "9c2fb54c6178476281df31ca0d090d00": {
      "model_module": "@jupyter-widgets/controls",
      "model_module_version": "1.5.0",
      "model_name": "DescriptionStyleModel",
      "state": {
       "description_width": ""
      }
     },
     "9d51c9278eab47519573bbed451a40e7": {
      "model_module": "@jupyter-widgets/base",
      "model_module_version": "1.2.0",
      "model_name": "LayoutModel",
      "state": {
       "align_items": "center",
       "border": "solid thin white",
       "display": "flex",
       "justify_content": "space-between"
      }
     },
     "9f89494802c546b49341957e3464644d": {
      "model_module": "@jupyter-widgets/base",
      "model_module_version": "1.2.0",
      "model_name": "LayoutModel",
      "state": {}
     },
     "9fa1979140ed41d2a6e45ac93cb22ab5": {
      "model_module": "@jupyter-widgets/base",
      "model_module_version": "1.2.0",
      "model_name": "LayoutModel",
      "state": {}
     },
     "a0c702edc22d436f8d7229b3a5bb52d6": {
      "model_module": "@jupyter-widgets/output",
      "model_module_version": "1.0.0",
      "model_name": "OutputModel",
      "state": {
       "layout": "IPY_MODEL_a525726de029430d843e65f8f08f0983",
       "outputs": [
        {
         "name": "stdout",
         "output_type": "stream",
         "text": "20\n"
        }
       ]
      }
     },
     "a0d3606ade544d4b97f334a34762cfe1": {
      "model_module": "@jupyter-widgets/base",
      "model_module_version": "1.2.0",
      "model_name": "LayoutModel",
      "state": {
       "align_items": "center",
       "display": "flex",
       "justify_content": "space-between"
      }
     },
     "a155f75719784902872deca4f9da2bd3": {
      "model_module": "@jupyter-widgets/output",
      "model_module_version": "1.0.0",
      "model_name": "OutputModel",
      "state": {
       "layout": "IPY_MODEL_d38c8ea1a42a46f998e2595c4192579e",
       "outputs": [
        {
         "name": "stdout",
         "output_type": "stream",
         "text": "First 5 random floats for seed:\n\t0xec0ebf:[0.13, 0.66, 0.84, 0.79, 0.22]\n\t0xec0ec0:[0.49, 0.20, 0.06, 0.72, 0.29]\n\t0xec0ec1:[0.50, 0.97, 0.52, 0.84, 0.30]\n"
        }
       ]
      }
     },
     "a16db08ca5ad41809e32109f7cb0891a": {
      "model_module": "@jupyter-widgets/controls",
      "model_module_version": "1.5.0",
      "model_name": "DescriptionStyleModel",
      "state": {
       "description_width": ""
      }
     },
     "a525726de029430d843e65f8f08f0983": {
      "model_module": "@jupyter-widgets/base",
      "model_module_version": "1.2.0",
      "model_name": "LayoutModel",
      "state": {}
     },
     "a66e5bedbfe246db900498dd4e64db19": {
      "model_module": "@jupyter-widgets/base",
      "model_module_version": "1.2.0",
      "model_name": "LayoutModel",
      "state": {}
     },
     "a6f8849da35843f692ca755e20e410ec": {
      "model_module": "@jupyter-widgets/controls",
      "model_module_version": "1.5.0",
      "model_name": "VBoxModel",
      "state": {
       "children": [
        "IPY_MODEL_e88c641abf8b43a4ba3891c91693f4a8",
        "IPY_MODEL_be595ae6af3d4b319fe49c5d4bf64457",
        "IPY_MODEL_895b2fcfcfe544c08f1fcbe58cf86e35",
        "IPY_MODEL_7617e7e3bf714092b150b94070ed7555"
       ],
       "layout": "IPY_MODEL_681396e0575c4a34bfc994867583384a"
      }
     },
     "a86bd19354014169aef370c8217998dc": {
      "model_module": "@jupyter-widgets/controls",
      "model_module_version": "1.5.0",
      "model_name": "VBoxModel",
      "state": {
       "children": [
        "IPY_MODEL_06628259cf054a2e93fbdfb7d2616e25",
        "IPY_MODEL_0586ad54423943c8b45d7d60b44ac6ea"
       ],
       "layout": "IPY_MODEL_2b61963dd91447a989883d68dcc36325"
      }
     },
     "a8ec85d71dab453c903824820b6c243e": {
      "model_module": "@jupyter-widgets/base",
      "model_module_version": "1.2.0",
      "model_name": "LayoutModel",
      "state": {
       "align_items": "center",
       "border": "solid thin white",
       "display": "flex",
       "justify_content": "space-between"
      }
     },
     "a9215b81a5be4238b7495e10f7db41cd": {
      "model_module": "@jupyter-widgets/base",
      "model_module_version": "1.2.0",
      "model_name": "LayoutModel",
      "state": {}
     },
     "a9e48fdf216940c88c2ce491cccfe431": {
      "model_module": "@jupyter-widgets/base",
      "model_module_version": "1.2.0",
      "model_name": "LayoutModel",
      "state": {
       "align_items": "center",
       "border": "solid thin white",
       "display": "flex",
       "justify_content": "space-between"
      }
     },
     "aab7f07150fd41db8cc898db30c0e6cc": {
      "model_module": "@jupyter-widgets/base",
      "model_module_version": "1.2.0",
      "model_name": "LayoutModel",
      "state": {
       "align_items": "center",
       "border": "solid thin white",
       "display": "flex",
       "justify_content": "space-between"
      }
     },
     "ab9683f520634d72b3d6c357dadab83c": {
      "model_module": "@jupyter-widgets/controls",
      "model_module_version": "1.5.0",
      "model_name": "DescriptionStyleModel",
      "state": {
       "description_width": ""
      }
     },
     "ac98552eac6c4591ac1fc3c0fc7467cb": {
      "model_module": "@jupyter-widgets/base",
      "model_module_version": "1.2.0",
      "model_name": "LayoutModel",
      "state": {
       "align_items": "center",
       "display": "flex",
       "justify_content": "space-between"
      }
     },
     "acea2910f69f489ab01385e9c10a5868": {
      "model_module": "@jupyter-widgets/controls",
      "model_module_version": "1.5.0",
      "model_name": "VBoxModel",
      "state": {
       "children": [
        "IPY_MODEL_5ff46a6d84854b34a4df63b09c761fe0"
       ],
       "layout": "IPY_MODEL_6a6100d4256949d5905c5156215f6364"
      }
     },
     "acf79dca83fb4a41aaf6ff86c74c1ebb": {
      "model_module": "@jupyter-widgets/controls",
      "model_module_version": "1.5.0",
      "model_name": "HBoxModel",
      "state": {
       "children": [
        "IPY_MODEL_0865c3d2878944a293162a3292318fbd"
       ],
       "layout": "IPY_MODEL_71ecb32d4c1240a1b4374105fa967ee8"
      }
     },
     "aeb6c057606348b6888fd27b45b91419": {
      "model_module": "@jupyter-widgets/base",
      "model_module_version": "1.2.0",
      "model_name": "LayoutModel",
      "state": {}
     },
     "aeef94b052bd49b699c428599369936c": {
      "model_module": "@jupyter-widgets/base",
      "model_module_version": "1.2.0",
      "model_name": "LayoutModel",
      "state": {
       "align_items": "center",
       "display": "flex",
       "justify_content": "space-between"
      }
     },
     "af423b7ae57646cf8d24c5cc8a227f83": {
      "model_module": "@jupyter-widgets/base",
      "model_module_version": "1.2.0",
      "model_name": "LayoutModel",
      "state": {}
     },
     "afbafe4efc144d2c9e5a01370f85007b": {
      "model_module": "@jupyter-widgets/controls",
      "model_module_version": "1.5.0",
      "model_name": "HBoxModel",
      "state": {
       "children": [
        "IPY_MODEL_4e1a2feabe5740c595c1589ddc84c38c"
       ],
       "layout": "IPY_MODEL_b83c188830184d988fd104a4a7ec91ff"
      }
     },
     "b00ff9945a1c4c96abe9004937c313e6": {
      "model_module": "@jupyter-widgets/base",
      "model_module_version": "1.2.0",
      "model_name": "LayoutModel",
      "state": {
       "align_items": "center",
       "display": "flex",
       "justify_content": "space-between"
      }
     },
     "b09d6ace9aad4b65a6fb0bf5be45e211": {
      "model_module": "@jupyter-widgets/base",
      "model_module_version": "1.2.0",
      "model_name": "LayoutModel",
      "state": {}
     },
     "b120e55320da4af284f1c09c513151ea": {
      "model_module": "@jupyter-widgets/base",
      "model_module_version": "1.2.0",
      "model_name": "LayoutModel",
      "state": {}
     },
     "b1816a17def9466ba71707501d1e6d85": {
      "model_module": "@jupyter-widgets/controls",
      "model_module_version": "1.5.0",
      "model_name": "VBoxModel",
      "state": {
       "children": [
        "IPY_MODEL_e967ae6a2532415faaa34c8161845a20",
        "IPY_MODEL_ece45b83b2e644b49095c4c02b1ecdd8"
       ],
       "layout": "IPY_MODEL_179bd00a324243d28b09c9a1583e60e5"
      }
     },
     "b18af9ac559a427abd6dd8fb66337b6d": {
      "model_module": "@jupyter-widgets/controls",
      "model_module_version": "1.5.0",
      "model_name": "DescriptionStyleModel",
      "state": {
       "description_width": ""
      }
     },
     "b1d65a06ab0a496d8d40b325dc7a503b": {
      "model_module": "@jupyter-widgets/base",
      "model_module_version": "1.2.0",
      "model_name": "LayoutModel",
      "state": {
       "align_items": "center",
       "border": "solid thin white",
       "display": "flex",
       "justify_content": "space-between"
      }
     },
     "b1d807e6c9c04e0c9521e7ec5f627f71": {
      "model_module": "@jupyter-widgets/controls",
      "model_module_version": "1.5.0",
      "model_name": "DescriptionStyleModel",
      "state": {
       "description_width": ""
      }
     },
     "b29b0958b6a3451b809c459fcd7b3ab7": {
      "model_module": "@jupyter-widgets/base",
      "model_module_version": "1.2.0",
      "model_name": "LayoutModel",
      "state": {
       "align_items": "center",
       "border": "solid thin white",
       "display": "flex",
       "justify_content": "space-between"
      }
     },
     "b33e6864371d4522a69cfeda1fb935b4": {
      "model_module": "@jupyter-widgets/output",
      "model_module_version": "1.0.0",
      "model_name": "OutputModel",
      "state": {
       "layout": "IPY_MODEL_18c9a58135ab409a910f23eb394bd5e9",
       "outputs": [
        {
         "name": "stderr",
         "output_type": "stream",
         "text": "*c* argument looks like a single numeric RGB or RGBA sequence, which should be avoided as value-mapping will have precedence in case its length matches with *x* & *y*.  Please use the *color* keyword-argument or provide a 2D array with a single row if you intend to specify the same RGB or RGBA value for all points.\n"
        }
       ]
      }
     },
     "b40ed4fb7b164f8db6b807533d33fd38": {
      "model_module": "@jupyter-widgets/controls",
      "model_module_version": "1.5.0",
      "model_name": "HBoxModel",
      "state": {
       "children": [
        "IPY_MODEL_6fe0defd21584a1ebec4b0480f8128af"
       ],
       "layout": "IPY_MODEL_6c5f19b78c544c9790749d93db686b7f"
      }
     },
     "b6bb67f1aa274786a2103f5b296c6ebd": {
      "model_module": "@jupyter-widgets/controls",
      "model_module_version": "1.5.0",
      "model_name": "HBoxModel",
      "state": {
       "children": [
        "IPY_MODEL_e3bcb7e485954bb19e911c034430d1ca"
       ],
       "layout": "IPY_MODEL_700dc02aeb9f4e54bb6454905e40d8b1"
      }
     },
     "b75d8b57db904acf9a3c76ebd2051858": {
      "model_module": "@jupyter-widgets/controls",
      "model_module_version": "1.5.0",
      "model_name": "DescriptionStyleModel",
      "state": {
       "description_width": ""
      }
     },
     "b7da616e3fac4e3cb577006024567551": {
      "model_module": "@jupyter-widgets/controls",
      "model_module_version": "1.5.0",
      "model_name": "DescriptionStyleModel",
      "state": {
       "description_width": ""
      }
     },
     "b83c188830184d988fd104a4a7ec91ff": {
      "model_module": "@jupyter-widgets/base",
      "model_module_version": "1.2.0",
      "model_name": "LayoutModel",
      "state": {
       "align_items": "center",
       "border": "solid thin white",
       "display": "flex",
       "justify_content": "space-between"
      }
     },
     "b8803b31f88948c787e92a19ced89756": {
      "model_module": "@jupyter-widgets/base",
      "model_module_version": "1.2.0",
      "model_name": "LayoutModel",
      "state": {}
     },
     "ba0197422b4840bcb3fc612c7f65633c": {
      "model_module": "@jupyter-widgets/controls",
      "model_module_version": "1.5.0",
      "model_name": "DescriptionStyleModel",
      "state": {
       "description_width": ""
      }
     },
     "bc3eb5b3080b406791575e69ec3ec2c8": {
      "model_module": "@jupyter-widgets/controls",
      "model_module_version": "1.5.0",
      "model_name": "LabelModel",
      "state": {
       "layout": "IPY_MODEL_b120e55320da4af284f1c09c513151ea",
       "style": "IPY_MODEL_ebca310ed06f438fae5e9d462882595c",
       "value": "Set seed value"
      }
     },
     "bcca2b4f4d724b9facd2e1d6f0ea9426": {
      "model_module": "@jupyter-widgets/controls",
      "model_module_version": "1.5.0",
      "model_name": "HBoxModel",
      "state": {
       "children": [
        "IPY_MODEL_fd03f3ffa9864e20ba7d1b2fd0ce9a48"
       ],
       "layout": "IPY_MODEL_013c481a59554ff0b49a037f66a2178a"
      }
     },
     "be595ae6af3d4b319fe49c5d4bf64457": {
      "model_module": "@jupyter-widgets/controls",
      "model_module_version": "1.5.0",
      "model_name": "HBoxModel",
      "state": {
       "children": [
        "IPY_MODEL_efbf084eec964367b790ae30bf02faba",
        "IPY_MODEL_efd8b5e46b254c3199d7cf70a9b1902c"
       ],
       "layout": "IPY_MODEL_dad0a760dbb742a6bb48bb7192eaedbe"
      }
     },
     "bee4072c7bf64be190cb31fe8f434fb2": {
      "model_module": "@jupyter-widgets/controls",
      "model_module_version": "1.5.0",
      "model_name": "IntSliderModel",
      "state": {
       "description": "Seed",
       "layout": "IPY_MODEL_3dd006882fbf46fd8be0e666622f943e",
       "max": 16777215,
       "readout_format": "x",
       "style": "IPY_MODEL_fbc9153db40c434eba7cf9cbdeaabe36",
       "value": 15470272
      }
     },
     "bf24811d9881470f92d7497bfcc85dea": {
      "model_module": "@jupyter-widgets/controls",
      "model_module_version": "1.5.0",
      "model_name": "IntSliderModel",
      "state": {
       "description": "Seed",
       "layout": "IPY_MODEL_fe6f254119a8493b97af9e933168bcf6",
       "max": 16777215,
       "readout_format": "x",
       "style": "IPY_MODEL_0b535c5201754ba98d04e5a11dc64291",
       "value": 15470272
      }
     },
     "c264323a62c94836b00900a58793ee54": {
      "model_module": "@jupyter-widgets/base",
      "model_module_version": "1.2.0",
      "model_name": "LayoutModel",
      "state": {}
     },
     "c331a4b7912142f9850a823bad86c84e": {
      "model_module": "@jupyter-widgets/base",
      "model_module_version": "1.2.0",
      "model_name": "LayoutModel",
      "state": {
       "align_items": "center",
       "border": "solid thin white",
       "display": "flex",
       "justify_content": "space-between"
      }
     },
     "c3cc893e2ef04d6ca0ed8c0ec41302c9": {
      "model_module": "@jupyter-widgets/controls",
      "model_module_version": "1.5.0",
      "model_name": "LabelModel",
      "state": {
       "layout": "IPY_MODEL_f54fea87bf6a48aa94ec01d06ce2b80d",
       "style": "IPY_MODEL_0ed222fa123841c3b9f66e4d04042d39",
       "value": "Reverb time limits: 1s - 8s"
      }
     },
     "c40985b182d940429d8bd6d4cc77311c": {
      "model_module": "@jupyter-widgets/base",
      "model_module_version": "1.2.0",
      "model_name": "LayoutModel",
      "state": {
       "align_items": "center",
       "border": "solid thin white",
       "display": "flex",
       "justify_content": "space-between"
      }
     },
     "c4879ccdd1ed455183299e7feb527f89": {
      "model_module": "@jupyter-widgets/controls",
      "model_module_version": "1.5.0",
      "model_name": "SliderStyleModel",
      "state": {
       "description_width": ""
      }
     },
     "c4ee2cbb09124c52a80887a4e52dc256": {
      "model_module": "@jupyter-widgets/base",
      "model_module_version": "1.2.0",
      "model_name": "LayoutModel",
      "state": {}
     },
     "c5c6767af50549618df931698142d667": {
      "model_module": "@jupyter-widgets/controls",
      "model_module_version": "1.5.0",
      "model_name": "VBoxModel",
      "state": {
       "children": [
        "IPY_MODEL_720ae264fc7049799aa2969ad4b3e2d2",
        "IPY_MODEL_2a95267f39ed47c28c770226025a0565"
       ],
       "layout": "IPY_MODEL_0a562e43fafc45abbbb963c6e9e1a871"
      }
     },
     "c6b4c67c10844d1685fcb42c790e3af8": {
      "model_module": "@jupyter-widgets/controls",
      "model_module_version": "1.5.0",
      "model_name": "SelectionRangeSliderModel",
      "state": {
       "_model_name": "SelectionRangeSliderModel",
       "_options_labels": [
        "0",
        "5",
        "6",
        "8",
        "10",
        "12",
        "13",
        "15",
        "16",
        "18",
        "19",
        "20",
        "24",
        "25",
        "26",
        "30",
        "32",
        "35",
        "36",
        "39",
        "40",
        "42",
        "45",
        "48",
        "50",
        "51",
        "54",
        "55",
        "56",
        "58",
        "60",
        "64",
        "65",
        "66",
        "70",
        "71",
        "72",
        "75",
        "77",
        "78",
        "80",
        "84",
        "85",
        "88",
        "90",
        "95",
        "96",
        "100",
        "102",
        "103",
        "104",
        "105",
        "108",
        "109",
        "110",
        "112",
        "114",
        "115",
        "116",
        "120",
        "122",
        "125",
        "126",
        "128",
        "129",
        "130",
        "132",
        "135",
        "136",
        "138",
        "140",
        "141",
        "144",
        "145",
        "148",
        "150",
        "152",
        "154",
        "155",
        "156",
        "160",
        "161",
        "162",
        "165",
        "167",
        "168",
        "170",
        "174",
        "175",
        "176",
        "180",
        "184",
        "185",
        "186",
        "190",
        "192",
        "193",
        "195",
        "198",
        "199",
        "200",
        "204",
        "205",
        "206",
        "208",
        "210",
        "212",
        "215",
        "216",
        "219",
        "220",
        "222",
        "224",
        "225",
        "228",
        "230",
        "231",
        "232",
        "234",
        "235",
        "238",
        "240",
        "244",
        "245",
        "246",
        "248",
        "250",
        "251",
        "252",
        "255",
        "256",
        "257",
        "258",
        "260",
        "264",
        "265",
        "270",
        "272",
        "275",
        "276",
        "280",
        "282",
        "283",
        "285",
        "288",
        "289",
        "290",
        "294",
        "295",
        "296",
        "300",
        "302",
        "304",
        "305",
        "306",
        "309",
        "310",
        "312",
        "315",
        "318",
        "320",
        "321",
        "324",
        "325",
        "328",
        "330",
        "334",
        "335",
        "336",
        "340",
        "341",
        "342",
        "344",
        "345",
        "347",
        "348",
        "350",
        "352",
        "354",
        "355"
       ],
       "_view_name": "SelectionRangeSliderView",
       "description": "Azimuth",
       "index": [
        66,
        179
       ],
       "layout": "IPY_MODEL_b00ff9945a1c4c96abe9004937c313e6",
       "style": "IPY_MODEL_3f84b59b799f4ed7a85e9e18303a4f32"
      }
     },
     "c70bbb7b88c74e87a2fa0880e5268994": {
      "model_module": "@jupyter-widgets/base",
      "model_module_version": "1.2.0",
      "model_name": "LayoutModel",
      "state": {
       "align_items": "center",
       "border": "solid thin white",
       "display": "flex",
       "justify_content": "space-between"
      }
     },
     "c78424cd36794c38bfb80dec2cd8d1c3": {
      "model_module": "@jupyter-widgets/controls",
      "model_module_version": "1.5.0",
      "model_name": "LabelModel",
      "state": {
       "layout": "IPY_MODEL_af423b7ae57646cf8d24c5cc8a227f83",
       "style": "IPY_MODEL_7bd616ee300e48bf96a9e7e8399da399",
       "value": "Set the number of samples"
      }
     },
     "c7ae289c5259487d9b89a02875beb489": {
      "model_module": "@jupyter-widgets/base",
      "model_module_version": "1.2.0",
      "model_name": "LayoutModel",
      "state": {}
     },
     "c8e89290b58a424aaacd372995346807": {
      "model_module": "@jupyter-widgets/controls",
      "model_module_version": "1.5.0",
      "model_name": "LabelModel",
      "state": {
       "layout": "IPY_MODEL_8a2e9483bb304b3aa75c0ba46f1561f7",
       "style": "IPY_MODEL_5d69cd240daa4451a44d51908d3718f7",
       "value": "Delay range: 1ms - 60ms"
      }
     },
     "c92b182d4670481e9fa4ad3f8f534e82": {
      "model_module": "@jupyter-widgets/controls",
      "model_module_version": "1.5.0",
      "model_name": "HBoxModel",
      "state": {
       "children": [
        "IPY_MODEL_5fb00606cfac45baa3c60e814a746e60"
       ],
       "layout": "IPY_MODEL_5cd9b0ab3ba44f43a348736fe5c8447e"
      }
     },
     "cb34723235d8418a9791a1e8dbfa025b": {
      "model_module": "@jupyter-widgets/controls",
      "model_module_version": "1.5.0",
      "model_name": "IntSliderModel",
      "state": {
       "description": "Duration",
       "layout": "IPY_MODEL_3aef5525fcc24bd09a1db7a353587bed",
       "max": 30,
       "min": 10,
       "style": "IPY_MODEL_c4879ccdd1ed455183299e7feb527f89",
       "value": 20
      }
     },
     "cb7469ca30db436eae5c5ba3e03f6507": {
      "model_module": "@jupyter-widgets/controls",
      "model_module_version": "1.5.0",
      "model_name": "VBoxModel",
      "state": {
       "children": [
        "IPY_MODEL_e87968517e0f44c3901db955b64b1574",
        "IPY_MODEL_42113db6f72d4f3fbb7ad80403a6e4d9"
       ],
       "layout": "IPY_MODEL_9532f153fc254d47bf2375bd4754d32e"
      }
     },
     "cbe183f5d079422a8c2d72e67601ba10": {
      "model_module": "@jupyter-widgets/base",
      "model_module_version": "1.2.0",
      "model_name": "LayoutModel",
      "state": {}
     },
     "cc99b7d62b644e03bfc83e6b31ee5ac3": {
      "model_module": "@jupyter-widgets/base",
      "model_module_version": "1.2.0",
      "model_name": "LayoutModel",
      "state": {
       "align_items": "center",
       "border": "solid thin white",
       "display": "flex",
       "justify_content": "space-between"
      }
     },
     "ccce78a93b854fcaa632f0f848804510": {
      "model_module": "@jupyter-widgets/controls",
      "model_module_version": "1.5.0",
      "model_name": "LabelModel",
      "state": {
       "layout": "IPY_MODEL_7b44ffc45df7463eaf49803241c1a9d0",
       "style": "IPY_MODEL_4bbd645e52834b2d91b8f99a953b94f3",
       "value": "Seed value: 0xec0ec0"
      }
     },
     "cda234b870d54163956fcccce2a0c5cd": {
      "model_module": "@jupyter-widgets/base",
      "model_module_version": "1.2.0",
      "model_name": "LayoutModel",
      "state": {}
     },
     "cdc68bdbbf78487dad72ec08c32d0da2": {
      "model_module": "@jupyter-widgets/base",
      "model_module_version": "1.2.0",
      "model_name": "LayoutModel",
      "state": {}
     },
     "ce3a2279ddb04cdba9b473aeeb3d9665": {
      "model_module": "@jupyter-widgets/base",
      "model_module_version": "1.2.0",
      "model_name": "LayoutModel",
      "state": {
       "align_items": "center",
       "display": "flex",
       "justify_content": "space-between"
      }
     },
     "ce635efb8c9b4c8896e6c18fbf294679": {
      "model_module": "@jupyter-widgets/controls",
      "model_module_version": "1.5.0",
      "model_name": "VBoxModel",
      "state": {
       "children": [
        "IPY_MODEL_68d6ac0609524a1b9a5f726bf0579d60"
       ],
       "layout": "IPY_MODEL_c40985b182d940429d8bd6d4cc77311c"
      }
     },
     "cfae363f73bc460d9a7809a3d56db13b": {
      "model_module": "@jupyter-widgets/base",
      "model_module_version": "1.2.0",
      "model_name": "LayoutModel",
      "state": {
       "align_items": "center",
       "border": "solid thin white",
       "display": "flex",
       "justify_content": "space-between"
      }
     },
     "d0430b03cf32407eb657b82a1696c16b": {
      "model_module": "@jupyter-widgets/controls",
      "model_module_version": "1.5.0",
      "model_name": "VBoxModel",
      "state": {
       "children": [
        "IPY_MODEL_94c693b5f1f74f02b31756c007b49a46",
        "IPY_MODEL_795a9b24a4e74081845bbe838db87b2d"
       ],
       "layout": "IPY_MODEL_46318bd7a08441f7a81eda6cb147b2ca"
      }
     },
     "d1fc5254cf194b89b979217cdf9b8946": {
      "model_module": "@jupyter-widgets/base",
      "model_module_version": "1.2.0",
      "model_name": "LayoutModel",
      "state": {
       "align_items": "center",
       "border": "solid thin white",
       "display": "flex",
       "justify_content": "space-between"
      }
     },
     "d221be733cfe41588ad132f5be43b568": {
      "model_module": "@jupyter-widgets/base",
      "model_module_version": "1.2.0",
      "model_name": "LayoutModel",
      "state": {
       "align_items": "center",
       "display": "flex",
       "justify_content": "space-between"
      }
     },
     "d38c8ea1a42a46f998e2595c4192579e": {
      "model_module": "@jupyter-widgets/base",
      "model_module_version": "1.2.0",
      "model_name": "LayoutModel",
      "state": {}
     },
     "d3e41700215449e493aa2b47cd05743f": {
      "model_module": "@jupyter-widgets/controls",
      "model_module_version": "1.5.0",
      "model_name": "VBoxModel",
      "state": {
       "children": [
        "IPY_MODEL_ffb93de87288470bae9343a1180c7ca8",
        "IPY_MODEL_29b3c7318d2243eaac52ef75756bde8b"
       ],
       "layout": "IPY_MODEL_9d51c9278eab47519573bbed451a40e7"
      }
     },
     "d4d58d2dbd7748129ba21b0e8455e520": {
      "model_module": "@jupyter-widgets/controls",
      "model_module_version": "1.5.0",
      "model_name": "SliderStyleModel",
      "state": {
       "description_width": ""
      }
     },
     "d5aa864de69046ddb8c1877c4622d153": {
      "model_module": "@jupyter-widgets/controls",
      "model_module_version": "1.5.0",
      "model_name": "DescriptionStyleModel",
      "state": {
       "description_width": ""
      }
     },
     "d6c97420756440c2b4e17bc0140e548e": {
      "model_module": "@jupyter-widgets/base",
      "model_module_version": "1.2.0",
      "model_name": "LayoutModel",
      "state": {}
     },
     "d9edcecd5d7f401c8087edd3b394b182": {
      "model_module": "@jupyter-widgets/controls",
      "model_module_version": "1.5.0",
      "model_name": "SliderStyleModel",
      "state": {
       "description_width": ""
      }
     },
     "da631b63ecfa49cc97e471ea94e55a45": {
      "model_module": "@jupyter-widgets/output",
      "model_module_version": "1.0.0",
      "model_name": "OutputModel",
      "state": {
       "layout": "IPY_MODEL_a9215b81a5be4238b7495e10f7db41cd",
       "outputs": [
        {
         "name": "stdout",
         "output_type": "stream",
         "text": "First 5 random floats for seed:\n\t0xec0ebf:[0.13, 0.66, 0.84, 0.79, 0.22]\n\t0xec0ec0:[0.49, 0.20, 0.06, 0.72, 0.29]\n\t0xec0ec1:[0.50, 0.97, 0.52, 0.84, 0.30]\n"
        }
       ]
      }
     },
     "dad0a760dbb742a6bb48bb7192eaedbe": {
      "model_module": "@jupyter-widgets/base",
      "model_module_version": "1.2.0",
      "model_name": "LayoutModel",
      "state": {
       "align_items": "center",
       "display": "flex",
       "justify_content": "space-between"
      }
     },
     "dbd2b62f4afc4e199403aea177969056": {
      "model_module": "@jupyter-widgets/controls",
      "model_module_version": "1.5.0",
      "model_name": "VBoxModel",
      "state": {
       "_dom_classes": [
        "widget-interact"
       ],
       "children": [
        "IPY_MODEL_7fa853f8a0ee4edc88548a061951462e",
        "IPY_MODEL_65d47fb98ecd448880a04eb513f19ecf"
       ],
       "layout": "IPY_MODEL_999923101cc2493c8d928bdd986ff658"
      }
     },
     "dd101d8883f34f18a3198d845aec3da0": {
      "model_module": "@jupyter-widgets/controls",
      "model_module_version": "1.5.0",
      "model_name": "LabelModel",
      "state": {
       "layout": "IPY_MODEL_6623f0c4c7cc4d209d8764df509326e4",
       "style": "IPY_MODEL_9c2fb54c6178476281df31ca0d090d00",
       "value": "Set seed value"
      }
     },
     "de53d19bd4d34bef85e03122f336ab9c": {
      "model_module": "@jupyter-widgets/base",
      "model_module_version": "1.2.0",
      "model_name": "LayoutModel",
      "state": {
       "align_items": "center",
       "border": "solid thin white",
       "display": "flex",
       "justify_content": "space-between"
      }
     },
     "dee12142b5424339b87ee2bf1d97ac2e": {
      "model_module": "@jupyter-widgets/controls",
      "model_module_version": "1.5.0",
      "model_name": "DescriptionStyleModel",
      "state": {
       "description_width": ""
      }
     },
     "e1a9981c474c411da5a76a1396e39396": {
      "model_module": "@jupyter-widgets/controls",
      "model_module_version": "1.5.0",
      "model_name": "HBoxModel",
      "state": {
       "children": [
        "IPY_MODEL_ccce78a93b854fcaa632f0f848804510"
       ],
       "layout": "IPY_MODEL_60213b4f1c8647eca7d2739aa565f9c9"
      }
     },
     "e27f420882894b258576e9aa087fc8be": {
      "model_module": "@jupyter-widgets/base",
      "model_module_version": "1.2.0",
      "model_name": "LayoutModel",
      "state": {}
     },
     "e3b4befe70d44978876e5139334aec1b": {
      "model_module": "@jupyter-widgets/output",
      "model_module_version": "1.0.0",
      "model_name": "OutputModel",
      "state": {
       "layout": "IPY_MODEL_a66e5bedbfe246db900498dd4e64db19",
       "outputs": [
        {
         "name": "stdout",
         "output_type": "stream",
         "text": "First 5 random floats for seed:\n\t0xec0ebf:[0.13, 0.66, 0.84, 0.79, 0.22]\n\t0xec0ec0:[0.49, 0.20, 0.06, 0.72, 0.29]\n\t0xec0ec1:[0.50, 0.97, 0.52, 0.84, 0.30]\n"
        }
       ]
      }
     },
     "e3bcb7e485954bb19e911c034430d1ca": {
      "model_module": "@jupyter-widgets/controls",
      "model_module_version": "1.5.0",
      "model_name": "LabelModel",
      "state": {
       "layout": "IPY_MODEL_503fc99c39664d08a7ac5cd6990fd6af",
       "style": "IPY_MODEL_ab9683f520634d72b3d6c357dadab83c",
       "value": "Set seed value"
      }
     },
     "e524a95f29bc4c5ab5caa0ed0df63805": {
      "model_module": "@jupyter-widgets/controls",
      "model_module_version": "1.5.0",
      "model_name": "HBoxModel",
      "state": {
       "children": [
        "IPY_MODEL_7987d088bf4543d0b435865119b6e114"
       ],
       "layout": "IPY_MODEL_705547feb83c439dad042bc5cd9d7f9d"
      }
     },
     "e53c613f515f4769a56fde63e8a6359a": {
      "model_module": "@jupyter-widgets/controls",
      "model_module_version": "1.5.0",
      "model_name": "DescriptionStyleModel",
      "state": {
       "description_width": ""
      }
     },
     "e55432810caf4549b635e964c2c54cd4": {
      "model_module": "@jupyter-widgets/base",
      "model_module_version": "1.2.0",
      "model_name": "LayoutModel",
      "state": {}
     },
     "e79b845202c243a9a0da58a30eed1164": {
      "model_module": "@jupyter-widgets/controls",
      "model_module_version": "1.5.0",
      "model_name": "IntSliderModel",
      "state": {
       "description": "Seed",
       "layout": "IPY_MODEL_8845f7f5ea7949109294ceeb109edb34",
       "max": 16777215,
       "readout_format": "x",
       "style": "IPY_MODEL_23e90bb48b0b44a2aee0a4e9b5677eb3",
       "value": 15470272
      }
     },
     "e7db7a2dca414d45a32c539132b9aea5": {
      "model_module": "@jupyter-widgets/base",
      "model_module_version": "1.2.0",
      "model_name": "LayoutModel",
      "state": {}
     },
     "e8158b49a2a04045ad3b4a9c64a64391": {
      "model_module": "@jupyter-widgets/controls",
      "model_module_version": "1.5.0",
      "model_name": "IntSliderModel",
      "state": {
       "description": "Seed",
       "layout": "IPY_MODEL_95fb8cb4877e4ed680c2aa0cec321ecc",
       "max": 16777215,
       "readout_format": "x",
       "style": "IPY_MODEL_80db707eaf62427091b55032c500e125",
       "value": 15470272
      }
     },
     "e87968517e0f44c3901db955b64b1574": {
      "model_module": "@jupyter-widgets/controls",
      "model_module_version": "1.5.0",
      "model_name": "HBoxModel",
      "state": {
       "children": [
        "IPY_MODEL_5e56abfce162427f81bca57246d42482"
       ],
       "layout": "IPY_MODEL_3b8001b51d70424495c1f30ca69d6672"
      }
     },
     "e88c641abf8b43a4ba3891c91693f4a8": {
      "model_module": "@jupyter-widgets/controls",
      "model_module_version": "1.5.0",
      "model_name": "HBoxModel",
      "state": {
       "children": [
        "IPY_MODEL_e1a9981c474c411da5a76a1396e39396",
        "IPY_MODEL_42abb2a13f394354859a07e53d21a646"
       ],
       "layout": "IPY_MODEL_431c0ab8c15a4922824a2ff909357bfd"
      }
     },
     "e967ae6a2532415faaa34c8161845a20": {
      "model_module": "@jupyter-widgets/controls",
      "model_module_version": "1.5.0",
      "model_name": "HBoxModel",
      "state": {
       "children": [
        "IPY_MODEL_6d2d1c0a2e5241f9b22c14b5fd1a693e"
       ],
       "layout": "IPY_MODEL_141c5fb81d4c40789b4d8685bb72a8ef"
      }
     },
     "e97f58ada02346a590b69a152e4d9abd": {
      "model_module": "@jupyter-widgets/controls",
      "model_module_version": "1.5.0",
      "model_name": "SliderStyleModel",
      "state": {
       "description_width": ""
      }
     },
     "ea8ac56fb00349a2b8dbbed6cc31da19": {
      "model_module": "@jupyter-widgets/controls",
      "model_module_version": "1.5.0",
      "model_name": "LabelModel",
      "state": {
       "layout": "IPY_MODEL_2ea81b8e597f40128f828a98d1aa10b6",
       "style": "IPY_MODEL_b1d807e6c9c04e0c9521e7ec5f627f71",
       "value": "Set reflection count and delay limits"
      }
     },
     "eb493581635a4fd7ace5bedc2b706f87": {
      "model_module": "@jupyter-widgets/controls",
      "model_module_version": "1.5.0",
      "model_name": "VBoxModel",
      "state": {
       "_dom_classes": [
        "widget-interact"
       ],
       "children": [
        "IPY_MODEL_247ce4ea9f8e41cd8144f02b171b080c",
        "IPY_MODEL_927cddd98fe342ab8df8c19fb0ec4e2a"
       ],
       "layout": "IPY_MODEL_50ca122925624de59aa8fbb1f085ac02"
      }
     },
     "ebca310ed06f438fae5e9d462882595c": {
      "model_module": "@jupyter-widgets/controls",
      "model_module_version": "1.5.0",
      "model_name": "DescriptionStyleModel",
      "state": {
       "description_width": ""
      }
     },
     "ece45b83b2e644b49095c4c02b1ecdd8": {
      "model_module": "@jupyter-widgets/controls",
      "model_module_version": "1.5.0",
      "model_name": "HBoxModel",
      "state": {
       "children": [
        "IPY_MODEL_4723658da6bc491ebc234355b5bd7dac"
       ],
       "layout": "IPY_MODEL_a0d3606ade544d4b97f334a34762cfe1"
      }
     },
     "ef9baa998ee647158c1bbc4a6869eef3": {
      "model_module": "@jupyter-widgets/base",
      "model_module_version": "1.2.0",
      "model_name": "LayoutModel",
      "state": {
       "align_items": "center",
       "border": "solid thin white",
       "display": "flex",
       "justify_content": "space-between"
      }
     },
     "efbf084eec964367b790ae30bf02faba": {
      "model_module": "@jupyter-widgets/controls",
      "model_module_version": "1.5.0",
      "model_name": "HBoxModel",
      "state": {
       "children": [
        "IPY_MODEL_0abfd4baec944d4c881b4ecb59a8b718"
       ],
       "layout": "IPY_MODEL_9b8ddfbfa5c1443ea78d0610ed2ea913"
      }
     },
     "efc5fad06d884777aeb6e7aae1b6739f": {
      "model_module": "@jupyter-widgets/base",
      "model_module_version": "1.2.0",
      "model_name": "LayoutModel",
      "state": {
       "align_items": "center",
       "border": "solid thin white",
       "display": "flex",
       "justify_content": "space-between"
      }
     },
     "efd8b5e46b254c3199d7cf70a9b1902c": {
      "model_module": "@jupyter-widgets/controls",
      "model_module_version": "1.5.0",
      "model_name": "HBoxModel",
      "state": {
       "children": [
        "IPY_MODEL_303d8b3d74c64340ad33dcdffa9b7114"
       ],
       "layout": "IPY_MODEL_97be7add251b4587a267b821929853f1"
      }
     },
     "f0864c2454a849feb1ed4f67694a9d8e": {
      "model_module": "@jupyter-widgets/controls",
      "model_module_version": "1.5.0",
      "model_name": "HBoxModel",
      "state": {
       "children": [
        "IPY_MODEL_bc3eb5b3080b406791575e69ec3ec2c8"
       ],
       "layout": "IPY_MODEL_829ba8e0c0e342f5a9347833cbd72276"
      }
     },
     "f355a5db5f024e91843047a531e2659a": {
      "model_module": "@jupyter-widgets/base",
      "model_module_version": "1.2.0",
      "model_name": "LayoutModel",
      "state": {
       "align_items": "center",
       "display": "flex",
       "justify_content": "space-between"
      }
     },
     "f5243b9adb374709b2f23c1c5aa960b4": {
      "model_module": "@jupyter-widgets/base",
      "model_module_version": "1.2.0",
      "model_name": "LayoutModel",
      "state": {}
     },
     "f54fea87bf6a48aa94ec01d06ce2b80d": {
      "model_module": "@jupyter-widgets/base",
      "model_module_version": "1.2.0",
      "model_name": "LayoutModel",
      "state": {}
     },
     "f5ac6d0eed944cc2958029e52bed596a": {
      "model_module": "@jupyter-widgets/controls",
      "model_module_version": "1.5.0",
      "model_name": "HBoxModel",
      "state": {
       "children": [
        "IPY_MODEL_dd101d8883f34f18a3198d845aec3da0"
       ],
       "layout": "IPY_MODEL_771f4961a3914d169c477c67fbeea901"
      }
     },
     "f5fc8a5afc234cef92089cf8e2c840f2": {
      "model_module": "@jupyter-widgets/base",
      "model_module_version": "1.2.0",
      "model_name": "LayoutModel",
      "state": {}
     },
     "f6547ffecf344ba58562b66996ef5376": {
      "model_module": "@jupyter-widgets/controls",
      "model_module_version": "1.5.0",
      "model_name": "HBoxModel",
      "state": {
       "children": [
        "IPY_MODEL_0c46766c720049ae8f020775d6799e69"
       ],
       "layout": "IPY_MODEL_849b3daa763f437ea30a627dcfcb5538"
      }
     },
     "f66b832f3e9840e391a7d73a3bbdf5fe": {
      "model_module": "@jupyter-widgets/base",
      "model_module_version": "1.2.0",
      "model_name": "LayoutModel",
      "state": {
       "align_items": "center",
       "display": "flex",
       "justify_content": "space-between"
      }
     },
     "fb675c26301340eb926153dd94164687": {
      "model_module": "@jupyter-widgets/controls",
      "model_module_version": "1.5.0",
      "model_name": "IntSliderModel",
      "state": {
       "description": "Duration",
       "layout": "IPY_MODEL_9f89494802c546b49341957e3464644d",
       "max": 30,
       "min": 10,
       "style": "IPY_MODEL_5ce410889e3a4a33b1ad1069cdcac357",
       "value": 20
      }
     },
     "fb7a34edae0b45f7aeaeb80f75b829fd": {
      "model_module": "@jupyter-widgets/base",
      "model_module_version": "1.2.0",
      "model_name": "LayoutModel",
      "state": {}
     },
     "fbc9153db40c434eba7cf9cbdeaabe36": {
      "model_module": "@jupyter-widgets/controls",
      "model_module_version": "1.5.0",
      "model_name": "SliderStyleModel",
      "state": {
       "description_width": ""
      }
     },
     "fcea484282a842aba08093c9bf98b52e": {
      "model_module": "@jupyter-widgets/base",
      "model_module_version": "1.2.0",
      "model_name": "LayoutModel",
      "state": {}
     },
     "fd03f3ffa9864e20ba7d1b2fd0ce9a48": {
      "model_module": "@jupyter-widgets/controls",
      "model_module_version": "1.5.0",
      "model_name": "VBoxModel",
      "state": {
       "_dom_classes": [
        "widget-interact"
       ],
       "children": [
        "IPY_MODEL_e79b845202c243a9a0da58a30eed1164",
        "IPY_MODEL_91787bc6bbb6495fa63c8ed5f01b4765"
       ],
       "layout": "IPY_MODEL_e7db7a2dca414d45a32c539132b9aea5"
      }
     },
     "fe6f254119a8493b97af9e933168bcf6": {
      "model_module": "@jupyter-widgets/base",
      "model_module_version": "1.2.0",
      "model_name": "LayoutModel",
      "state": {}
     },
     "fe9ac899f8db415397b2d3a07804c5d4": {
      "model_module": "@jupyter-widgets/controls",
      "model_module_version": "1.5.0",
      "model_name": "HBoxModel",
      "state": {
       "children": [
        "IPY_MODEL_7b38c08e9c7b4a9b80faaf3cb348e993"
       ],
       "layout": "IPY_MODEL_55047267879d4f9ea091901e9446188c"
      }
     },
     "ff49df22e2df4d8c9df42079e18f7952": {
      "model_module": "@jupyter-widgets/controls",
      "model_module_version": "1.5.0",
      "model_name": "VBoxModel",
      "state": {
       "children": [
        "IPY_MODEL_91dbd8391b514d1f876b6928c2144854"
       ],
       "layout": "IPY_MODEL_a9e48fdf216940c88c2ce491cccfe431"
      }
     },
     "ff8b18d688f14f149e06f1261a1a6d4e": {
      "model_module": "@jupyter-widgets/base",
      "model_module_version": "1.2.0",
      "model_name": "LayoutModel",
      "state": {}
     },
     "ffb93de87288470bae9343a1180c7ca8": {
      "model_module": "@jupyter-widgets/controls",
      "model_module_version": "1.5.0",
      "model_name": "HBoxModel",
      "state": {
       "children": [
        "IPY_MODEL_c5c6767af50549618df931698142d667",
        "IPY_MODEL_d0430b03cf32407eb657b82a1696c16b"
       ],
       "layout": "IPY_MODEL_f355a5db5f024e91843047a531e2659a"
      }
     },
     "fff8cd3876944e8cae485b63a885a86a": {
      "model_module": "@jupyter-widgets/base",
      "model_module_version": "1.2.0",
      "model_name": "LayoutModel",
      "state": {
       "align_items": "center",
       "border": "solid thin white",
       "display": "flex",
       "justify_content": "space-between"
      }
     }
    },
    "version_major": 2,
    "version_minor": 0
   }
  }
 },
 "nbformat": 4,
 "nbformat_minor": 5
}

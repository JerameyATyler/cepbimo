{
 "cells": [
  {
   "cell_type": "markdown",
   "id": "9379ddda-34b4-48dc-8456-1233c83ce06f",
   "metadata": {},
   "source": [
    "# Dataset Generator"
   ]
  },
  {
   "cell_type": "markdown",
   "id": "8ed523a2-908f-4011-b112-7235cd6eee3a",
   "metadata": {},
   "source": [
    "The models we design are only as good as the data that is fed into them. No matter how well a model or network is designed the efficacy of its predictions will be limited by the integrity of its data, \"garbage in, garbage out\". Since no open-access dataset exists sufficiently large enough to suit our needs we created our own. The code in this notebook will allow you to interactively create a dataset using the same process we used. To generate an identical dataset leave all parameters at their default settings."
   ]
  },
  {
   "cell_type": "markdown",
   "id": "db6400c1-57ae-423d-ae04-682260c690f5",
   "metadata": {},
   "source": [
    "If running this notebook from Google Colab you will need to perform a few additional steps first."
   ]
  },
  {
   "cell_type": "markdown",
   "id": "f88487be-99b5-4652-8501-714615425ec3",
   "metadata": {
    "tags": []
   },
   "source": [
    "### Install Dependencies"
   ]
  },
  {
   "cell_type": "code",
   "execution_count": null,
   "id": "838732a6-62e2-47b4-b6c9-54f20f9f25d6",
   "metadata": {},
   "outputs": [],
   "source": [
    "!pip install pydub\n",
    "!pip install dask[dataframe]\n",
    "!pip install --upgrade matplotlib"
   ]
  },
  {
   "cell_type": "markdown",
   "id": "8a5e74b3-4bf0-4d30-b473-b77070223e40",
   "metadata": {},
   "source": [
    "Restart the runtime and continue to the next cell."
   ]
  },
  {
   "cell_type": "markdown",
   "id": "47dc0db1-6f5a-4782-8730-c78ed99a3830",
   "metadata": {
    "tags": []
   },
   "source": [
    "### Clone Repository"
   ]
  },
  {
   "cell_type": "markdown",
   "id": "e1c5bc01-3e10-4192-8169-a2b127246204",
   "metadata": {},
   "source": [
    "In order to run the code in this notebook you will need to clone [this git repository](https://github.com/JerameyATyler/cepbimo.git). The following steps will walk you through cloning the repo."
   ]
  },
  {
   "cell_type": "markdown",
   "id": "8d8a684d-e32a-4250-b234-4bd9c90faeee",
   "metadata": {
    "jp-MarkdownHeadingCollapsed": true,
    "tags": []
   },
   "source": [
    "#### Mount Google Drive"
   ]
  },
  {
   "cell_type": "code",
   "execution_count": null,
   "id": "d4999055-5c00-4310-afbc-36b74400f5a0",
   "metadata": {},
   "outputs": [],
   "source": [
    "# @title Mounting Google Drive\n",
    "# @markdown We need to mount a Google Drive in order to download the code we need.\n",
    "# @markdown > Import `drive` from `google.colab`\n",
    "from google.colab import drive\n",
    "# @markdown > Mount Google Drive\n",
    "drive.mount('/content/gdrive')"
   ]
  },
  {
   "cell_type": "markdown",
   "id": "d9b8b35f-0f0c-4a8b-af97-bb45074e765d",
   "metadata": {
    "jp-MarkdownHeadingCollapsed": true,
    "tags": []
   },
   "source": [
    "#### Make Directory for Repository"
   ]
  },
  {
   "cell_type": "code",
   "execution_count": null,
   "id": "06d19583-714e-4295-b306-e28e414a92d8",
   "metadata": {},
   "outputs": [],
   "source": [
    "# @markdown > Create a directory for the code.\n",
    "% mkdir \"gdrive/MyDrive/Colab Notebooks/\""
   ]
  },
  {
   "cell_type": "markdown",
   "id": "b9251993-1959-4db5-bd4c-afbfe678901b",
   "metadata": {
    "jp-MarkdownHeadingCollapsed": true,
    "tags": []
   },
   "source": [
    "#### Change Directories"
   ]
  },
  {
   "cell_type": "code",
   "execution_count": null,
   "id": "90098bbf-10b6-42e0-a7f5-3a33fe343efd",
   "metadata": {},
   "outputs": [],
   "source": [
    "# @markdown > Change directories to the new one\n",
    "% cd \"gdrive/MyDrive/Colab Notebooks/\""
   ]
  },
  {
   "cell_type": "markdown",
   "id": "4d9fc1fc-4984-4c86-b733-9ad8b3acbda4",
   "metadata": {
    "tags": []
   },
   "source": [
    "#### Clone the Git Repository"
   ]
  },
  {
   "cell_type": "code",
   "execution_count": null,
   "id": "273595fd-f4ac-4079-b58b-643f8a1e8d1e",
   "metadata": {},
   "outputs": [],
   "source": [
    "# @title Cloning Git Repository\n",
    "# @markdown Next we need to clone the Git repository\n",
    "# @markdown > Clone the repository\n",
    "! git clone https://github.com/JerameyATyler/cepbimo.git"
   ]
  },
  {
   "cell_type": "code",
   "execution_count": null,
   "id": "2de053e8-f997-4eb1-8160-1a1fea053c44",
   "metadata": {},
   "outputs": [],
   "source": [
    "# @markdown > Change directory to the repository\n",
    "% cd cepbimo/cepbimo\n",
    "%mkdir data/\n",
    "%mkdir data/anechoic/\n",
    "%mkdir data/hrtf/\n",
    "%mkdir data/reflections\n",
    "%cd data"
   ]
  },
  {
   "cell_type": "code",
   "execution_count": null,
   "id": "88f69e98-4020-4fbd-b3c0-6715c1ac10c5",
   "metadata": {
    "tags": []
   },
   "outputs": [],
   "source": [
    "# @title Anechoic Data\n",
    "# @markdown Anechoic data recorded by [(Pätynen and Lokki, 2008)](#patynen-lokki-08)\n",
    "# @markdown > Links to anechoic recordings\n",
    "file_links = [\n",
    "    'https://mediatech.aalto.fi/images/research/virtualacoustics/recordings/beethoven_mp3.zip',\n",
    "    'https://mediatech.aalto.fi/images/research/virtualacoustics/recordings/mozart_mp3.zip',\n",
    "    'https://mediatech.aalto.fi/images/research/virtualacoustics/recordings/bruckner_mp3.zip',\n",
    "    'https://mediatech.aalto.fi/images/research/virtualacoustics/recordings/mahler_mp3.zip']\n",
    "# @markdown > Download files if they don't exist\n",
    "for l in file_links:\n",
    "    !wget -nc {l}"
   ]
  },
  {
   "cell_type": "code",
   "execution_count": null,
   "id": "9b59282f-11c0-4625-8202-0c14f7eecb56",
   "metadata": {},
   "outputs": [],
   "source": [
    "# @title HRTF Data\n",
    "# @markdown HRTF data recorded by [(Gardner & Martin, 1994)](#gardner-martin-94)\n",
    "!wget -nc \"https://sound.media.mit.edu/resources/KEMAR/full.zip\""
   ]
  },
  {
   "cell_type": "markdown",
   "id": "3cd458f0-6c5b-4c84-8b90-e472307636aa",
   "metadata": {
    "tags": []
   },
   "source": [
    "### Extracting Data"
   ]
  },
  {
   "cell_type": "markdown",
   "id": "3555d450-3a56-4f6b-b114-6df231c46400",
   "metadata": {},
   "source": [
    "Extract the archived data to the `data/` directory.\n",
    "***\n",
    "**Warning: Overwrites existing files**"
   ]
  },
  {
   "cell_type": "code",
   "execution_count": null,
   "id": "b17a81cc-5c14-47a9-a106-f4524eac3911",
   "metadata": {},
   "outputs": [],
   "source": [
    "# @title Extracting Data\n",
    "# @markdown Extract zipped data to `data/` directory.\n",
    "# @markdown > List of files to unzip\n",
    "zip_files = [\n",
    "    ['beethoven_mp3.zip', 'anechoic/beethoven'],\n",
    "    ['mozart_mp3.zip', 'anechoic/mozart'],\n",
    "    ['bruckner_mp3.zip', 'anechoic/bruckner'],\n",
    "    ['mahler_mp3.zip', 'anechoic/mahler'],\n",
    "    ['full.zip', 'hrtf']]\n",
    "# > Unzip each archive to `data/anechoic` directory\n",
    "for z in zip_files:\n",
    "    !unzip -o {z[0]} -d {z[1]}"
   ]
  },
  {
   "cell_type": "code",
   "execution_count": null,
   "id": "fd754ef6-4856-4e62-83ee-2a5ae9f6ce04",
   "metadata": {},
   "outputs": [],
   "source": [
    "%cd .."
   ]
  },
  {
   "cell_type": "markdown",
   "id": "49261836-0a87-4cb7-9193-c2e31e9c9855",
   "metadata": {},
   "source": [
    "Skip to [Data sources](#data-sources) to continue."
   ]
  },
  {
   "cell_type": "markdown",
   "id": "d01e054b-e2aa-4c58-b1fd-e5f3b2d8d376",
   "metadata": {
    "jp-MarkdownHeadingCollapsed": true,
    "tags": []
   },
   "source": [
    "## Data sources\n",
    "<a name='data-sources'><a/>"
   ]
  },
  {
   "cell_type": "markdown",
   "id": "8a49ccc6-0576-4274-9505-95ffc949c1c4",
   "metadata": {
    "tags": []
   },
   "source": [
    "### Anechoic Data"
   ]
  },
  {
   "cell_type": "markdown",
   "id": "a6a58573-865b-4242-8947-966672725510",
   "metadata": {},
   "source": [
    "In order to generate a dataset of reflections we need to start with anechoic data. A dataset of anechoic orchestral recordings is available thanks to [(Pätynen and Lokki, 2008)](#patynen-lokki-08).\n",
    "***\n",
    "> 1. [Mozart's An aria of Donna Elvira](https://mediatech.aalto.fi/images/research/virtualacoustics/recordings/mozart_mp3.zip)\n",
    ">   - Flute, clarinet, bassoon, french horns (1-2), violin (I), violin (II), viola, cello, contrabass, soprano (soloist)\n",
    "> 2. [Beethoven's Symphony no. 7, I movement, bars 1-53](https://mediatech.aalto.fi/images/research/virtualacoustics/recordings/beethoven_mp3.zip)\n",
    ">   - Flutes (1-2), oboes (1-2), clarinets (1-2), bassoon (1-2), french horns (1-2),\n",
    ">     trumpets (1-3), timpani, violin (I), violin (II), viola, cello, contrabass\n",
    "> 3. [Bruckner's Symphony no. 8, II movement, bars 1-61](https://mediatech.aalto.fi/images/research/virtualacoustics/recordings/bruckner_mp3.zip)\n",
    ">   - Flutes (1-3), oboes (1-3), clarinets (1-3), bassoon (1-3),\n",
    ">     french horns (1-8), trumpets (1-3), trombones (1-3), tuba, timpani,\n",
    ">     violin (I) (two divisi), violin (II) (two divisi), viola (two divisi),\n",
    ">     cello (two divisi), contrabass (two divisi)\n",
    "> 4. [Mahler's Symphony no. 1, IV movement, bars 1-85](https://mediatech.aalto.fi/images/research/virtualacoustics/recordings/mahler_mp3.zip)\n",
    ">   - Piccolo (1-2) (fl1), flutes (1-2) (fl3), oboes (1-4), clarinets (1-4),\n",
    "> bassoon (1-3), french horns (1-7), trumpets (1-4), tuba, timpani,\n",
    "> percussions (1-2), violin I (two divisi), violin II (two divisi),\n",
    "> viola, cello, contrabass\n",
    "***\n",
    "For more information on the anechoic data we use click [this link.](https://research.cs.aalto.fi//acoustics/virtual-acoustics/research/acoustic-measurement-and-analysis/85-anechoic-recordings.html)"
   ]
  },
  {
   "cell_type": "markdown",
   "id": "b7d01972-4f2d-4299-bc6e-d5a80d6002e5",
   "metadata": {
    "tags": []
   },
   "source": [
    "### Head-related Transfer Functions"
   ]
  },
  {
   "cell_type": "markdown",
   "id": "ddd1116c-b2aa-48c7-b994-aa76ccd36625",
   "metadata": {},
   "source": [
    "Next we need a dataset of head-related transfer functions (HRTF). A set of HRTFs is available thanks to [(Gardner & Martin, 1994)](#gardner-martin-94) and MIT Media Lab.\n",
    "***\n",
    "For more information see [KEMAR HRTF measurements](https://sound.media.mit.edu/resources/KEMAR.html)"
   ]
  },
  {
   "cell_type": "markdown",
   "id": "467eb04d-8a62-4484-b715-dcfdf1f7da17",
   "metadata": {
    "tags": []
   },
   "source": [
    "## Dataset"
   ]
  },
  {
   "cell_type": "code",
   "execution_count": null,
   "id": "970fd37a-371a-4d35-91ca-0cd27debde01",
   "metadata": {},
   "outputs": [],
   "source": [
    "%mv ~/anechoic data\n",
    "%mv ~/hrtf data"
   ]
  },
  {
   "cell_type": "markdown",
   "id": "5295e711-e661-4920-9673-9e5d15ef4392",
   "metadata": {},
   "source": [
    "The Python `DataPicker` class will walk you through generating data."
   ]
  },
  {
   "cell_type": "code",
   "execution_count": 1,
   "id": "75a9d27b-ab7c-4eee-8a7f-8228452ba016",
   "metadata": {
    "pycharm": {
     "name": "#%%\n"
    },
    "tags": []
   },
   "outputs": [
    {
     "name": "stdout",
     "output_type": "stream",
     "text": [
      "Data generator started\n",
      "Generating ingredients list\n"
     ]
    }
   ],
   "source": [
    "from notebooks.data_picker import DataPicker\n",
    "\n",
    "dp = DataPicker()"
   ]
  },
  {
   "cell_type": "markdown",
   "id": "0a480150-fdec-4d55-b883-ee660c65408b",
   "metadata": {
    "tags": []
   },
   "source": [
    "### Configurable parameters"
   ]
  },
  {
   "cell_type": "markdown",
   "id": "b1d3cebe-ca3c-4399-aa62-89f391311c9b",
   "metadata": {},
   "source": [
    "The data generator has a number of parameters that can be set to place restrictions on the generated data. Below are the configurable parameters and their default values."
   ]
  },
  {
   "cell_type": "code",
   "execution_count": 2,
   "id": "0907b3c6-bac6-4016-a7b3-3a6d16768b76",
   "metadata": {
    "tags": []
   },
   "outputs": [
    {
     "data": {
      "text/html": [
       "<div>\n",
       "<style scoped>\n",
       "    .dataframe tbody tr th:only-of-type {\n",
       "        vertical-align: middle;\n",
       "    }\n",
       "\n",
       "    .dataframe tbody tr th {\n",
       "        vertical-align: top;\n",
       "    }\n",
       "\n",
       "    .dataframe thead th {\n",
       "        text-align: right;\n",
       "    }\n",
       "</style>\n",
       "<table border=\"1\" class=\"dataframe\">\n",
       "  <thead>\n",
       "    <tr style=\"text-align: right;\">\n",
       "      <th></th>\n",
       "      <th>seed</th>\n",
       "      <th>duration</th>\n",
       "      <th>delay_limits</th>\n",
       "      <th>time_limits</th>\n",
       "      <th>reflection_limits</th>\n",
       "      <th>zenith_limits</th>\n",
       "      <th>azimuth_limits</th>\n",
       "      <th>sample_count</th>\n",
       "    </tr>\n",
       "  </thead>\n",
       "  <tbody>\n",
       "    <tr>\n",
       "      <th>0</th>\n",
       "      <td>0xec0ec0</td>\n",
       "      <td>10</td>\n",
       "      <td>(1, 60)</td>\n",
       "      <td>(1, 8)</td>\n",
       "      <td>(4, 8)</td>\n",
       "      <td>(-40, 90)</td>\n",
       "      <td>(0, 360)</td>\n",
       "      <td>1</td>\n",
       "    </tr>\n",
       "  </tbody>\n",
       "</table>\n",
       "</div>"
      ],
      "text/plain": [
       "       seed  duration delay_limits time_limits reflection_limits  \\\n",
       "0  0xec0ec0        10      (1, 60)      (1, 8)            (4, 8)   \n",
       "\n",
       "  zenith_limits azimuth_limits  sample_count  \n",
       "0     (-40, 90)       (0, 360)             1  "
      ]
     },
     "execution_count": 2,
     "metadata": {},
     "output_type": "execute_result"
    }
   ],
   "source": [
    "dp.sample_parameters"
   ]
  },
  {
   "cell_type": "markdown",
   "id": "3dcf1821-32fc-4954-a524-a59d0e318f6e",
   "metadata": {
    "tags": []
   },
   "source": [
    "> * Seed - A hex value between 0x0000 and 0xffff that is used to initialize the random number generator\n",
    "> * Duration - The length of each sample in seconds\n",
    "> * Delay - The amount of time in milliseconds that a reflection or reverberation will lag behind a signal\n",
    "> * Time - The amount of time in seconds that reverberation will last\n",
    "> * Reflection count - The number of reflections in a sample\n",
    "> * Zenith - The elevation angle in degrees from the listener to the direct signal or a reflection\n",
    "> * Azimuth - The rotation angle in degrees from the listener to the direct signal or a reflection\n",
    "> * Sample count - The number of samples to generate\n",
    "> * Verbose - When true all output will be generated"
   ]
  },
  {
   "cell_type": "markdown",
   "id": "2f1b2935-358f-46a6-a718-7244923c1a78",
   "metadata": {
    "tags": []
   },
   "source": [
    "### Sample data"
   ]
  },
  {
   "cell_type": "markdown",
   "id": "9f401799-988b-45b5-a576-17e4e2558ea0",
   "metadata": {},
   "source": [
    "Using the parameters above a sample dataset was generated with a single data point."
   ]
  },
  {
   "cell_type": "code",
   "execution_count": null,
   "id": "e635891a-6e48-4aac-911d-242f04b9fa3e",
   "metadata": {
    "tags": []
   },
   "outputs": [],
   "source": [
    "dp.sample_data"
   ]
  },
  {
   "cell_type": "markdown",
   "id": "938d22b3-2aee-4b38-8e5b-8855857fedb9",
   "metadata": {},
   "source": [
    "Sample data can be found in the `data/sample_data/reflections/` directory. The `reflections/` directory will contain the `recipe.json` and `ingredients.json` files along with a `samples/` directory. The `ingredients.json` file contains the parameters that were used to generate the dataset. The `samples.json` file contains labels for each data point. The `samples/` directory contains `.wav` files generated by the data generator. When `verbose` is set to `True` the data generator will save `.wav` and `.png` files for each step in the generation process. `verbose` increases the disk size of the dataset by approximately 10x. The cell below has a brief overview of the output data."
   ]
  },
  {
   "cell_type": "code",
   "execution_count": null,
   "id": "ebe2b448-0ed1-45b1-863f-7c7f07ed9e7b",
   "metadata": {
    "tags": []
   },
   "outputs": [],
   "source": [
    "dp.sample_viewer()"
   ]
  },
  {
   "cell_type": "markdown",
   "id": "2644f9eb-b56f-4699-be8c-e11f36e1bb93",
   "metadata": {
    "tags": []
   },
   "source": [
    "### Data generator"
   ]
  },
  {
   "cell_type": "markdown",
   "id": "78b4dfb1-3996-4809-8d99-4f057a9852d3",
   "metadata": {
    "tags": []
   },
   "source": [
    "#### Set parameters"
   ]
  },
  {
   "cell_type": "markdown",
   "id": "d2e15fad-c8b1-4986-b92b-e656563baea2",
   "metadata": {},
   "source": [
    "Use the sliders in the cell below to configure the dataset.\n",
    "\n",
    "> #### Instructions\n",
    "> 1. Select parameters using the sliders\n",
    "> 2. Run `Review parameters` code cell and press confirm\n",
    "> 3. Press the generate button in the `Generate dataset` cell"
   ]
  },
  {
   "cell_type": "code",
   "execution_count": null,
   "id": "b9d511d7-381f-4355-9deb-a9283770be47",
   "metadata": {},
   "outputs": [],
   "source": [
    "dp.picker_viewer()"
   ]
  },
  {
   "cell_type": "markdown",
   "id": "70b856a0-184f-4fc7-9b50-5161d1d379a5",
   "metadata": {
    "tags": []
   },
   "source": [
    "#### Review parameters"
   ]
  },
  {
   "cell_type": "markdown",
   "id": "73dbfe01-1711-436f-b22c-6bb93b202e22",
   "metadata": {},
   "source": [
    "Review the parameters below then press the `Confirm` button. **If changes are made rerun the cell and press confirm**"
   ]
  },
  {
   "cell_type": "code",
   "execution_count": null,
   "id": "655eabe9-4170-48f7-a841-9c1c0cc85657",
   "metadata": {},
   "outputs": [],
   "source": [
    "dp.review_viewer()"
   ]
  },
  {
   "cell_type": "markdown",
   "id": "3a35e8c5-098d-4b11-944d-590ce95a9e93",
   "metadata": {},
   "source": [
    "#### Generate dataset"
   ]
  },
  {
   "cell_type": "markdown",
   "id": "3421fecf-e7bd-4d96-9c51-4118fcae27ee",
   "metadata": {},
   "source": [
    "Pressing the `Confirm` button above loads the parameters into the data generator. Press the `Generate` button below to start generating a dataset. When the dataset is complete a `download` link will appear. Additionally a `.zip` archive of the dataset can be found in the `data/` directory."
   ]
  },
  {
   "cell_type": "code",
   "execution_count": null,
   "id": "a5cf31c6-2999-4cc5-ac25-09664847f426",
   "metadata": {
    "tags": []
   },
   "outputs": [],
   "source": [
    "dp.generate_viewer()"
   ]
  },
  {
   "cell_type": "markdown",
   "id": "fbcea1f4-d323-4a11-80ce-98c05cb757c7",
   "metadata": {
    "tags": []
   },
   "source": [
    "## References"
   ]
  },
  {
   "cell_type": "markdown",
   "id": "257bbc33-1b7d-4e2c-a824-a7945b6efc45",
   "metadata": {
    "tags": []
   },
   "source": [
    "* Gardner, B., & Martin, K. (1994). Hrtf measurements of a kemar dummy-head microphone. MIT Media Lab. Perceptual Computing-Technical Report, 280, 1-7.\n",
    "<a name='gardner-martin-94'><a/>"
   ]
  },
  {
   "cell_type": "markdown",
   "id": "e8dcc08f-1c51-4cd2-833a-451d539d47fc",
   "metadata": {
    "tags": []
   },
   "source": [
    "* Pätynen, J., Pulkki, V., & Lokki, T. (2008). Anechoic recording system for symphony orchestra. Acta Acustica united with Acustica, 94(6), 856-865. \n",
    "<a name='patynen-lokki-08'><a/>"
   ]
  }
 ],
 "metadata": {
  "kernelspec": {
   "display_name": "Python 3 (ipykernel)",
   "language": "python",
   "name": "python3"
  },
  "language_info": {
   "codemirror_mode": {
    "name": "ipython",
    "version": 3
   },
   "file_extension": ".py",
   "mimetype": "text/x-python",
   "name": "python",
   "nbconvert_exporter": "python",
   "pygments_lexer": "ipython3",
   "version": "3.10.0"
  },
  "toc-autonumbering": false,
  "toc-showcode": false,
  "toc-showmarkdowntxt": false,
  "widgets": {
   "application/vnd.jupyter.widget-state+json": {
    "state": {},
    "version_major": 2,
    "version_minor": 0
   }
  }
 },
 "nbformat": 4,
 "nbformat_minor": 5
}

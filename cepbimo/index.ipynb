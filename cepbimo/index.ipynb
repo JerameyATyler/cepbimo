{
 "cells": [
  {
   "cell_type": "markdown",
   "metadata": {
    "tags": []
   },
   "source": [
    "***\n",
    "*Attention! Please wear a set of headphones for the optimal experience.*\n",
    "***"
   ]
  },
  {
   "cell_type": "markdown",
   "metadata": {
    "pycharm": {
     "name": "#%% md\n"
    }
   },
   "source": [
    "# Table of contents"
   ]
  },
  {
   "cell_type": "markdown",
   "metadata": {},
   "source": [
    "## Data"
   ]
  },
  {
   "cell_type": "markdown",
   "metadata": {
    "pycharm": {
     "name": "#%% md\n"
    },
    "tags": []
   },
   "source": [
    "### Data generator"
   ]
  },
  {
   "cell_type": "markdown",
   "metadata": {},
   "source": [
    "A dataset of simulated reflections was generated using external `anechoic` recordings and `HRTF`s. The [data generator](./data_generator.ipynb) notebook provides an interactive guided tour of the data generation process."
   ]
  },
  {
   "cell_type": "markdown",
   "metadata": {},
   "source": [
    "### Datasets"
   ]
  },
  {
   "cell_type": "markdown",
   "metadata": {},
   "source": [
    "The data points generated are randomly assigned to the `train` set with a 60% probability, the `test` set with a 20% probability, or `validation` set with a 20% probability. The Pytorch `Dataset` class has been extended to include this dataset. More information on the dataset can be found in the [dataset notebook](./dataset.ipynb)."
   ]
  },
  {
   "cell_type": "markdown",
   "metadata": {},
   "source": [
    "## A `cepstral analysis based binaural model (CEPBIMO)` of sound localization"
   ]
  },
  {
   "cell_type": "markdown",
   "metadata": {},
   "source": [
    "Whereas the waveform provides information on a sound wave in the time domain cepstral analysis provides information on a sound wave in the frequency domain. Our `cepstral analysis based binaural model (CEPBIMO)` of sound localization generates binaural activity maps to predict room acoustical features. A more detailed look at the cepstrum and `CEPBIMO` can be found in the [cepbimo](./cepbimo.ipynb) notebook."
   ]
  },
  {
   "cell_type": "markdown",
   "metadata": {},
   "source": [
    "The binaural activity maps produced by CEPBIMO are used as input to various neural networks to predict various acoustical features. For more information see the ??? notebook."
   ]
  },
  {
   "cell_type": "markdown",
   "metadata": {},
   "source": [
    "The [reflections dataset](./reflections.ipynb) contains only the labels that pertain to reflections."
   ]
  },
  {
   "cell_type": "markdown",
   "metadata": {},
   "source": [
    "The [reverberation dataset](./reverb.ipynb) contains only the labels that pertain to reverberation."
   ]
  },
  {
   "cell_type": "markdown",
   "metadata": {
    "tags": []
   },
   "source": [
    "## Demos"
   ]
  },
  {
   "cell_type": "markdown",
   "metadata": {},
   "source": [
    "The [demos notebook](./demos.ipynb) contains demonstrations of various psychoacoustic principals *. \n",
    "\n",
    "***Headphones strongly suggested**"
   ]
  }
 ],
 "metadata": {
  "kernelspec": {
   "display_name": "Python 3 (ipykernel)",
   "language": "python",
   "name": "python3"
  },
  "language_info": {
   "codemirror_mode": {
    "name": "ipython",
    "version": 3
   },
   "file_extension": ".py",
   "mimetype": "text/x-python",
   "name": "python",
   "nbconvert_exporter": "python",
   "pygments_lexer": "ipython3",
   "version": "3.10.0"
  },
  "widgets": {
   "application/vnd.jupyter.widget-state+json": {
    "state": {},
    "version_major": 2,
    "version_minor": 0
   }
  }
 },
 "nbformat": 4,
 "nbformat_minor": 4
}

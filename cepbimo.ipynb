{
 "cells": [
  {
   "cell_type": "markdown",
   "id": "9003f9ad-975f-4bd3-b4d6-18d30408a1a0",
   "metadata": {},
   "source": [
    "# Predicting reflection patterns from binaural activity maps using deep neural networks"
   ]
  },
  {
   "cell_type": "markdown",
   "id": "a72023bd-2d82-472f-8d27-2d2a69bd8aa0",
   "metadata": {},
   "source": [
    "## Abstract"
   ]
  },
  {
   "cell_type": "markdown",
   "id": "079d89a7-badb-4900-91c2-248f0148948d",
   "metadata": {},
   "source": [
    "A new model architecture is presented to predict room acoustical parameters from a\n",
    "running binaural signal. For this purpose, a deep neural network architecture is combined with a precedence\n",
    "effect model to extract the spatial and temporal locations of the direct signal and early reflections. The\n",
    "precedence effect model builds on the modified BICAM algorithm [(Braasch, 2016)](#braasch16),\n",
    "for which the 1st layer auto-/cross correlation functions are replaced with a Cepstrum method. The latter allows\n",
    "a better separation of features relating to the source signal's early reflections and harmonic structure. The\n",
    "precedence effect model is used to create binaural activity maps that are analyzed by the neural network for\n",
    "pattern recognition. Anechoic orchestral recordings were reverberated by adding four early reflections and late\n",
    "reverberation to test the model. Head-related transfer functions were used to spatialize direct sound and early\n",
    "reflections. The model can identify the main reflection characteristics of a room, offering applications in\n",
    "numerous fields, including room acoustical assessment, acoustical analysis for virtual-reality applications, and\n",
    "modeling of human perception."
   ]
  }
 ],
 "metadata": {
  "kernelspec": {
   "display_name": "Python 3 (ipykernel)",
   "language": "python",
   "name": "python3"
  },
  "language_info": {
   "codemirror_mode": {
    "name": "ipython",
    "version": 3
   },
   "file_extension": ".py",
   "mimetype": "text/x-python",
   "name": "python",
   "nbconvert_exporter": "python",
   "pygments_lexer": "ipython3",
   "version": "3.10.1"
  },
  "toc-autonumbering": false,
  "toc-showcode": false,
  "toc-showmarkdowntxt": false,
  "toc-showtags": false
 },
 "nbformat": 4,
 "nbformat_minor": 5
}
